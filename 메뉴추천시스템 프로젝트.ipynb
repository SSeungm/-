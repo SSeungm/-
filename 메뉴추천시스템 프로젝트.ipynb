{
 "cells": [
  {
   "cell_type": "markdown",
   "id": "06198dbc",
   "metadata": {},
   "source": [
    "# 메뉴추천 시스템\n",
    "## 데이터 준비"
   ]
  },
  {
   "cell_type": "code",
   "execution_count": 1,
   "id": "0c488474",
   "metadata": {},
   "outputs": [],
   "source": [
    "import pandas as pd\n",
    "import numpy as np"
   ]
  },
  {
   "cell_type": "code",
   "execution_count": 2,
   "id": "1ddf8bdc",
   "metadata": {},
   "outputs": [],
   "source": [
    "df1 = pd.read_csv('TB_RECIPE_SEARCH-220701.csv', encoding='cp949')"
   ]
  },
  {
   "cell_type": "code",
   "execution_count": 3,
   "id": "e9f71648",
   "metadata": {},
   "outputs": [
    {
     "data": {
      "text/html": [
       "<div>\n",
       "<style scoped>\n",
       "    .dataframe tbody tr th:only-of-type {\n",
       "        vertical-align: middle;\n",
       "    }\n",
       "\n",
       "    .dataframe tbody tr th {\n",
       "        vertical-align: top;\n",
       "    }\n",
       "\n",
       "    .dataframe thead th {\n",
       "        text-align: right;\n",
       "    }\n",
       "</style>\n",
       "<table border=\"1\" class=\"dataframe\">\n",
       "  <thead>\n",
       "    <tr style=\"text-align: right;\">\n",
       "      <th></th>\n",
       "      <th>RCP_SNO</th>\n",
       "      <th>RCP_TTL</th>\n",
       "      <th>CKG_NM</th>\n",
       "      <th>RGTR_ID</th>\n",
       "      <th>RGTR_NM</th>\n",
       "      <th>INQ_CNT</th>\n",
       "      <th>RCMM_CNT</th>\n",
       "      <th>SRAP_CNT</th>\n",
       "      <th>CKG_MTH_ACTO_NM</th>\n",
       "      <th>CKG_STA_ACTO_NM</th>\n",
       "      <th>CKG_MTRL_ACTO_NM</th>\n",
       "      <th>CKG_KND_ACTO_NM</th>\n",
       "      <th>CKG_IPDC</th>\n",
       "      <th>CKG_MTRL_CN</th>\n",
       "      <th>CKG_INBUN_NM</th>\n",
       "      <th>CKG_DODF_NM</th>\n",
       "      <th>CKG_TIME_NM</th>\n",
       "      <th>FIRST_REG_DT</th>\n",
       "    </tr>\n",
       "  </thead>\n",
       "  <tbody>\n",
       "    <tr>\n",
       "      <th>0</th>\n",
       "      <td>128671</td>\n",
       "      <td>어묵김말이</td>\n",
       "      <td>어묵김말이</td>\n",
       "      <td>skfo0701</td>\n",
       "      <td>꽃날</td>\n",
       "      <td>9592</td>\n",
       "      <td>6</td>\n",
       "      <td>66</td>\n",
       "      <td>튀김</td>\n",
       "      <td>간식</td>\n",
       "      <td>가공식품류</td>\n",
       "      <td>디저트</td>\n",
       "      <td>맛있는 김말이에 쫄깃함을 더한 어묵 김말이예요-</td>\n",
       "      <td>[재료] 어묵 2개| 김밥용김 3장| 당면 1움큼| 양파 1/2개| 당근 1/2개|...</td>\n",
       "      <td>2인분</td>\n",
       "      <td>초급</td>\n",
       "      <td>60분이내</td>\n",
       "      <td>2.007000e+13</td>\n",
       "    </tr>\n",
       "    <tr>\n",
       "      <th>1</th>\n",
       "      <td>128892</td>\n",
       "      <td>두부에 꼬리가 달렸어요!!</td>\n",
       "      <td>알밥</td>\n",
       "      <td>skfo0701</td>\n",
       "      <td>꽃날</td>\n",
       "      <td>5538</td>\n",
       "      <td>3</td>\n",
       "      <td>26</td>\n",
       "      <td>부침</td>\n",
       "      <td>일상</td>\n",
       "      <td>해물류</td>\n",
       "      <td>밑반찬</td>\n",
       "      <td>꼬리가 너-무- 매력적인 두부새우전. 두부와 야채를 한번에!! 영양까지 만점인 두부...</td>\n",
       "      <td>[재료] 두부 1/2모| 당근 1/2개| 고추 2개| 브로콜리 1/4개| 새우 4마...</td>\n",
       "      <td>3인분</td>\n",
       "      <td>초급</td>\n",
       "      <td>30분이내</td>\n",
       "      <td>2.007000e+13</td>\n",
       "    </tr>\n",
       "    <tr>\n",
       "      <th>2</th>\n",
       "      <td>128932</td>\n",
       "      <td>입안에서 톡톡톡</td>\n",
       "      <td>두부새우전</td>\n",
       "      <td>skfo0701</td>\n",
       "      <td>꽃날</td>\n",
       "      <td>6802</td>\n",
       "      <td>8</td>\n",
       "      <td>36</td>\n",
       "      <td>굽기</td>\n",
       "      <td>일상</td>\n",
       "      <td>해물류</td>\n",
       "      <td>밥/죽/떡</td>\n",
       "      <td>간단하게 만들어 보는 알이 톡톡톡 알밥♥ 다 먹고 누룽지까지 싹싹 긁어먹는게 최고죠...</td>\n",
       "      <td>[재료] 밥 1+1/2공기| 당근 1/4개| 치자단무지 1/2개| 신김치 1쪽| 무...</td>\n",
       "      <td>2인분</td>\n",
       "      <td>초급</td>\n",
       "      <td>30분이내</td>\n",
       "      <td>2.007000e+13</td>\n",
       "    </tr>\n",
       "  </tbody>\n",
       "</table>\n",
       "</div>"
      ],
      "text/plain": [
       "   RCP_SNO          RCP_TTL CKG_NM   RGTR_ID RGTR_NM  INQ_CNT  RCMM_CNT  \\\n",
       "0   128671            어묵김말이  어묵김말이  skfo0701      꽃날     9592         6   \n",
       "1   128892  두부에 꼬리가 달렸어요!!      알밥  skfo0701      꽃날     5538         3   \n",
       "2   128932        입안에서 톡톡톡   두부새우전  skfo0701      꽃날     6802         8   \n",
       "\n",
       "   SRAP_CNT CKG_MTH_ACTO_NM CKG_STA_ACTO_NM CKG_MTRL_ACTO_NM CKG_KND_ACTO_NM  \\\n",
       "0        66              튀김              간식            가공식품류             디저트   \n",
       "1        26              부침              일상              해물류             밑반찬   \n",
       "2        36              굽기              일상              해물류           밥/죽/떡   \n",
       "\n",
       "                                            CKG_IPDC  \\\n",
       "0                         맛있는 김말이에 쫄깃함을 더한 어묵 김말이예요-   \n",
       "1  꼬리가 너-무- 매력적인 두부새우전. 두부와 야채를 한번에!! 영양까지 만점인 두부...   \n",
       "2  간단하게 만들어 보는 알이 톡톡톡 알밥♥ 다 먹고 누룽지까지 싹싹 긁어먹는게 최고죠...   \n",
       "\n",
       "                                         CKG_MTRL_CN CKG_INBUN_NM CKG_DODF_NM  \\\n",
       "0  [재료] 어묵 2개| 김밥용김 3장| 당면 1움큼| 양파 1/2개| 당근 1/2개|...          2인분          초급   \n",
       "1  [재료] 두부 1/2모| 당근 1/2개| 고추 2개| 브로콜리 1/4개| 새우 4마...          3인분          초급   \n",
       "2  [재료] 밥 1+1/2공기| 당근 1/4개| 치자단무지 1/2개| 신김치 1쪽| 무...          2인분          초급   \n",
       "\n",
       "  CKG_TIME_NM  FIRST_REG_DT  \n",
       "0       60분이내  2.007000e+13  \n",
       "1       30분이내  2.007000e+13  \n",
       "2       30분이내  2.007000e+13  "
      ]
     },
     "execution_count": 3,
     "metadata": {},
     "output_type": "execute_result"
    }
   ],
   "source": [
    "df1.head(3)"
   ]
  },
  {
   "cell_type": "markdown",
   "id": "79f4cd9c",
   "metadata": {},
   "source": [
    "### 불필요한 컬럼 제거"
   ]
  },
  {
   "cell_type": "code",
   "execution_count": 4,
   "id": "7e2dcb56",
   "metadata": {},
   "outputs": [
    {
     "data": {
      "text/plain": [
       "Index(['RCP_SNO', 'RCP_TTL', 'CKG_NM', 'RGTR_ID', 'RGTR_NM', 'INQ_CNT',\n",
       "       'RCMM_CNT', 'SRAP_CNT', 'CKG_MTH_ACTO_NM', 'CKG_STA_ACTO_NM',\n",
       "       'CKG_MTRL_ACTO_NM', 'CKG_KND_ACTO_NM', 'CKG_IPDC', 'CKG_MTRL_CN',\n",
       "       'CKG_INBUN_NM', 'CKG_DODF_NM', 'CKG_TIME_NM', 'FIRST_REG_DT'],\n",
       "      dtype='object')"
      ]
     },
     "execution_count": 4,
     "metadata": {},
     "output_type": "execute_result"
    }
   ],
   "source": [
    "df1.columns"
   ]
  },
  {
   "cell_type": "code",
   "execution_count": 5,
   "id": "7c7ede92",
   "metadata": {},
   "outputs": [],
   "source": [
    "df2 = df1.copy()"
   ]
  },
  {
   "cell_type": "code",
   "execution_count": 6,
   "id": "71827f09",
   "metadata": {},
   "outputs": [
    {
     "data": {
      "text/html": [
       "<div>\n",
       "<style scoped>\n",
       "    .dataframe tbody tr th:only-of-type {\n",
       "        vertical-align: middle;\n",
       "    }\n",
       "\n",
       "    .dataframe tbody tr th {\n",
       "        vertical-align: top;\n",
       "    }\n",
       "\n",
       "    .dataframe thead th {\n",
       "        text-align: right;\n",
       "    }\n",
       "</style>\n",
       "<table border=\"1\" class=\"dataframe\">\n",
       "  <thead>\n",
       "    <tr style=\"text-align: right;\">\n",
       "      <th></th>\n",
       "      <th>RCP_SNO</th>\n",
       "      <th>RCP_TTL</th>\n",
       "      <th>CKG_NM</th>\n",
       "      <th>RGTR_ID</th>\n",
       "      <th>RGTR_NM</th>\n",
       "      <th>INQ_CNT</th>\n",
       "      <th>RCMM_CNT</th>\n",
       "      <th>SRAP_CNT</th>\n",
       "      <th>CKG_MTH_ACTO_NM</th>\n",
       "      <th>CKG_STA_ACTO_NM</th>\n",
       "      <th>CKG_MTRL_ACTO_NM</th>\n",
       "      <th>CKG_KND_ACTO_NM</th>\n",
       "      <th>CKG_IPDC</th>\n",
       "      <th>CKG_MTRL_CN</th>\n",
       "      <th>CKG_INBUN_NM</th>\n",
       "      <th>CKG_DODF_NM</th>\n",
       "      <th>CKG_TIME_NM</th>\n",
       "      <th>FIRST_REG_DT</th>\n",
       "    </tr>\n",
       "  </thead>\n",
       "  <tbody>\n",
       "    <tr>\n",
       "      <th>0</th>\n",
       "      <td>128671</td>\n",
       "      <td>어묵김말이</td>\n",
       "      <td>어묵김말이</td>\n",
       "      <td>skfo0701</td>\n",
       "      <td>꽃날</td>\n",
       "      <td>9592</td>\n",
       "      <td>6</td>\n",
       "      <td>66</td>\n",
       "      <td>튀김</td>\n",
       "      <td>간식</td>\n",
       "      <td>가공식품류</td>\n",
       "      <td>디저트</td>\n",
       "      <td>맛있는 김말이에 쫄깃함을 더한 어묵 김말이예요-</td>\n",
       "      <td>[재료] 어묵 2개| 김밥용김 3장| 당면 1움큼| 양파 1/2개| 당근 1/2개|...</td>\n",
       "      <td>2인분</td>\n",
       "      <td>초급</td>\n",
       "      <td>60분이내</td>\n",
       "      <td>2.007000e+13</td>\n",
       "    </tr>\n",
       "    <tr>\n",
       "      <th>1</th>\n",
       "      <td>128892</td>\n",
       "      <td>두부에 꼬리가 달렸어요!!</td>\n",
       "      <td>알밥</td>\n",
       "      <td>skfo0701</td>\n",
       "      <td>꽃날</td>\n",
       "      <td>5538</td>\n",
       "      <td>3</td>\n",
       "      <td>26</td>\n",
       "      <td>부침</td>\n",
       "      <td>일상</td>\n",
       "      <td>해물류</td>\n",
       "      <td>밑반찬</td>\n",
       "      <td>꼬리가 너-무- 매력적인 두부새우전. 두부와 야채를 한번에!! 영양까지 만점인 두부...</td>\n",
       "      <td>[재료] 두부 1/2모| 당근 1/2개| 고추 2개| 브로콜리 1/4개| 새우 4마...</td>\n",
       "      <td>3인분</td>\n",
       "      <td>초급</td>\n",
       "      <td>30분이내</td>\n",
       "      <td>2.007000e+13</td>\n",
       "    </tr>\n",
       "    <tr>\n",
       "      <th>2</th>\n",
       "      <td>128932</td>\n",
       "      <td>입안에서 톡톡톡</td>\n",
       "      <td>두부새우전</td>\n",
       "      <td>skfo0701</td>\n",
       "      <td>꽃날</td>\n",
       "      <td>6802</td>\n",
       "      <td>8</td>\n",
       "      <td>36</td>\n",
       "      <td>굽기</td>\n",
       "      <td>일상</td>\n",
       "      <td>해물류</td>\n",
       "      <td>밥/죽/떡</td>\n",
       "      <td>간단하게 만들어 보는 알이 톡톡톡 알밥♥ 다 먹고 누룽지까지 싹싹 긁어먹는게 최고죠...</td>\n",
       "      <td>[재료] 밥 1+1/2공기| 당근 1/4개| 치자단무지 1/2개| 신김치 1쪽| 무...</td>\n",
       "      <td>2인분</td>\n",
       "      <td>초급</td>\n",
       "      <td>30분이내</td>\n",
       "      <td>2.007000e+13</td>\n",
       "    </tr>\n",
       "  </tbody>\n",
       "</table>\n",
       "</div>"
      ],
      "text/plain": [
       "   RCP_SNO          RCP_TTL CKG_NM   RGTR_ID RGTR_NM  INQ_CNT  RCMM_CNT  \\\n",
       "0   128671            어묵김말이  어묵김말이  skfo0701      꽃날     9592         6   \n",
       "1   128892  두부에 꼬리가 달렸어요!!      알밥  skfo0701      꽃날     5538         3   \n",
       "2   128932        입안에서 톡톡톡   두부새우전  skfo0701      꽃날     6802         8   \n",
       "\n",
       "   SRAP_CNT CKG_MTH_ACTO_NM CKG_STA_ACTO_NM CKG_MTRL_ACTO_NM CKG_KND_ACTO_NM  \\\n",
       "0        66              튀김              간식            가공식품류             디저트   \n",
       "1        26              부침              일상              해물류             밑반찬   \n",
       "2        36              굽기              일상              해물류           밥/죽/떡   \n",
       "\n",
       "                                            CKG_IPDC  \\\n",
       "0                         맛있는 김말이에 쫄깃함을 더한 어묵 김말이예요-   \n",
       "1  꼬리가 너-무- 매력적인 두부새우전. 두부와 야채를 한번에!! 영양까지 만점인 두부...   \n",
       "2  간단하게 만들어 보는 알이 톡톡톡 알밥♥ 다 먹고 누룽지까지 싹싹 긁어먹는게 최고죠...   \n",
       "\n",
       "                                         CKG_MTRL_CN CKG_INBUN_NM CKG_DODF_NM  \\\n",
       "0  [재료] 어묵 2개| 김밥용김 3장| 당면 1움큼| 양파 1/2개| 당근 1/2개|...          2인분          초급   \n",
       "1  [재료] 두부 1/2모| 당근 1/2개| 고추 2개| 브로콜리 1/4개| 새우 4마...          3인분          초급   \n",
       "2  [재료] 밥 1+1/2공기| 당근 1/4개| 치자단무지 1/2개| 신김치 1쪽| 무...          2인분          초급   \n",
       "\n",
       "  CKG_TIME_NM  FIRST_REG_DT  \n",
       "0       60분이내  2.007000e+13  \n",
       "1       30분이내  2.007000e+13  \n",
       "2       30분이내  2.007000e+13  "
      ]
     },
     "execution_count": 6,
     "metadata": {},
     "output_type": "execute_result"
    }
   ],
   "source": [
    "df2.head(3)"
   ]
  },
  {
   "cell_type": "code",
   "execution_count": 7,
   "id": "18689534",
   "metadata": {},
   "outputs": [
    {
     "data": {
      "text/plain": [
       "Index(['RCP_SNO', 'RCP_TTL', 'CKG_NM', 'RGTR_ID', 'RGTR_NM', 'INQ_CNT',\n",
       "       'RCMM_CNT', 'SRAP_CNT', 'CKG_MTH_ACTO_NM', 'CKG_STA_ACTO_NM',\n",
       "       'CKG_MTRL_ACTO_NM', 'CKG_KND_ACTO_NM', 'CKG_IPDC', 'CKG_MTRL_CN',\n",
       "       'CKG_INBUN_NM', 'CKG_DODF_NM', 'CKG_TIME_NM', 'FIRST_REG_DT'],\n",
       "      dtype='object')"
      ]
     },
     "execution_count": 7,
     "metadata": {},
     "output_type": "execute_result"
    }
   ],
   "source": [
    "df2.columns"
   ]
  },
  {
   "cell_type": "code",
   "execution_count": 8,
   "id": "71192eec",
   "metadata": {},
   "outputs": [],
   "source": [
    "df2 = df2[['CKG_NM', 'INQ_CNT', 'RCMM_CNT', 'CKG_MTH_ACTO_NM', 'CKG_STA_ACTO_NM', 'CKG_MTRL_ACTO_NM', 'CKG_MTRL_CN', 'CKG_DODF_NM']]"
   ]
  },
  {
   "cell_type": "code",
   "execution_count": 9,
   "id": "27c00db4",
   "metadata": {},
   "outputs": [
    {
     "data": {
      "text/html": [
       "<div>\n",
       "<style scoped>\n",
       "    .dataframe tbody tr th:only-of-type {\n",
       "        vertical-align: middle;\n",
       "    }\n",
       "\n",
       "    .dataframe tbody tr th {\n",
       "        vertical-align: top;\n",
       "    }\n",
       "\n",
       "    .dataframe thead th {\n",
       "        text-align: right;\n",
       "    }\n",
       "</style>\n",
       "<table border=\"1\" class=\"dataframe\">\n",
       "  <thead>\n",
       "    <tr style=\"text-align: right;\">\n",
       "      <th></th>\n",
       "      <th>CKG_NM</th>\n",
       "      <th>INQ_CNT</th>\n",
       "      <th>RCMM_CNT</th>\n",
       "      <th>CKG_MTH_ACTO_NM</th>\n",
       "      <th>CKG_STA_ACTO_NM</th>\n",
       "      <th>CKG_MTRL_ACTO_NM</th>\n",
       "      <th>CKG_MTRL_CN</th>\n",
       "      <th>CKG_DODF_NM</th>\n",
       "    </tr>\n",
       "  </thead>\n",
       "  <tbody>\n",
       "    <tr>\n",
       "      <th>0</th>\n",
       "      <td>어묵김말이</td>\n",
       "      <td>9592</td>\n",
       "      <td>6</td>\n",
       "      <td>튀김</td>\n",
       "      <td>간식</td>\n",
       "      <td>가공식품류</td>\n",
       "      <td>[재료] 어묵 2개| 김밥용김 3장| 당면 1움큼| 양파 1/2개| 당근 1/2개|...</td>\n",
       "      <td>초급</td>\n",
       "    </tr>\n",
       "    <tr>\n",
       "      <th>1</th>\n",
       "      <td>알밥</td>\n",
       "      <td>5538</td>\n",
       "      <td>3</td>\n",
       "      <td>부침</td>\n",
       "      <td>일상</td>\n",
       "      <td>해물류</td>\n",
       "      <td>[재료] 두부 1/2모| 당근 1/2개| 고추 2개| 브로콜리 1/4개| 새우 4마...</td>\n",
       "      <td>초급</td>\n",
       "    </tr>\n",
       "    <tr>\n",
       "      <th>2</th>\n",
       "      <td>두부새우전</td>\n",
       "      <td>6802</td>\n",
       "      <td>8</td>\n",
       "      <td>굽기</td>\n",
       "      <td>일상</td>\n",
       "      <td>해물류</td>\n",
       "      <td>[재료] 밥 1+1/2공기| 당근 1/4개| 치자단무지 1/2개| 신김치 1쪽| 무...</td>\n",
       "      <td>초급</td>\n",
       "    </tr>\n",
       "  </tbody>\n",
       "</table>\n",
       "</div>"
      ],
      "text/plain": [
       "  CKG_NM  INQ_CNT  RCMM_CNT CKG_MTH_ACTO_NM CKG_STA_ACTO_NM CKG_MTRL_ACTO_NM  \\\n",
       "0  어묵김말이     9592         6              튀김              간식            가공식품류   \n",
       "1     알밥     5538         3              부침              일상              해물류   \n",
       "2  두부새우전     6802         8              굽기              일상              해물류   \n",
       "\n",
       "                                         CKG_MTRL_CN CKG_DODF_NM  \n",
       "0  [재료] 어묵 2개| 김밥용김 3장| 당면 1움큼| 양파 1/2개| 당근 1/2개|...          초급  \n",
       "1  [재료] 두부 1/2모| 당근 1/2개| 고추 2개| 브로콜리 1/4개| 새우 4마...          초급  \n",
       "2  [재료] 밥 1+1/2공기| 당근 1/4개| 치자단무지 1/2개| 신김치 1쪽| 무...          초급  "
      ]
     },
     "execution_count": 9,
     "metadata": {},
     "output_type": "execute_result"
    }
   ],
   "source": [
    "df2.head(3)"
   ]
  },
  {
   "cell_type": "markdown",
   "id": "61a1df06",
   "metadata": {},
   "source": [
    "### 컬럼명 알아보기 쉽게 변경"
   ]
  },
  {
   "cell_type": "code",
   "execution_count": 10,
   "id": "ff187a27",
   "metadata": {},
   "outputs": [
    {
     "data": {
      "text/plain": [
       "Index(['CKG_NM', 'INQ_CNT', 'RCMM_CNT', 'CKG_MTH_ACTO_NM', 'CKG_STA_ACTO_NM',\n",
       "       'CKG_MTRL_ACTO_NM', 'CKG_MTRL_CN', 'CKG_DODF_NM'],\n",
       "      dtype='object')"
      ]
     },
     "execution_count": 10,
     "metadata": {},
     "output_type": "execute_result"
    }
   ],
   "source": [
    "df2.columns"
   ]
  },
  {
   "cell_type": "code",
   "execution_count": 11,
   "id": "9adef9b7",
   "metadata": {},
   "outputs": [],
   "source": [
    "df2.columns = ['name', 'view', 'recomm', 'cook_m', 'purpo',\n",
    "       'kinds', 'ingred', 'level']"
   ]
  },
  {
   "cell_type": "code",
   "execution_count": 12,
   "id": "c313fbcf",
   "metadata": {},
   "outputs": [
    {
     "data": {
      "text/plain": [
       "Index(['name', 'view', 'recomm', 'cook_m', 'purpo', 'kinds', 'ingred',\n",
       "       'level'],\n",
       "      dtype='object')"
      ]
     },
     "execution_count": 12,
     "metadata": {},
     "output_type": "execute_result"
    }
   ],
   "source": [
    "df2.columns"
   ]
  },
  {
   "cell_type": "code",
   "execution_count": 13,
   "id": "8a2aaaf7",
   "metadata": {},
   "outputs": [
    {
     "data": {
      "text/html": [
       "<div>\n",
       "<style scoped>\n",
       "    .dataframe tbody tr th:only-of-type {\n",
       "        vertical-align: middle;\n",
       "    }\n",
       "\n",
       "    .dataframe tbody tr th {\n",
       "        vertical-align: top;\n",
       "    }\n",
       "\n",
       "    .dataframe thead th {\n",
       "        text-align: right;\n",
       "    }\n",
       "</style>\n",
       "<table border=\"1\" class=\"dataframe\">\n",
       "  <thead>\n",
       "    <tr style=\"text-align: right;\">\n",
       "      <th></th>\n",
       "      <th>name</th>\n",
       "      <th>view</th>\n",
       "      <th>recomm</th>\n",
       "      <th>cook_m</th>\n",
       "      <th>purpo</th>\n",
       "      <th>kinds</th>\n",
       "      <th>ingred</th>\n",
       "      <th>level</th>\n",
       "    </tr>\n",
       "  </thead>\n",
       "  <tbody>\n",
       "    <tr>\n",
       "      <th>0</th>\n",
       "      <td>어묵김말이</td>\n",
       "      <td>9592</td>\n",
       "      <td>6</td>\n",
       "      <td>튀김</td>\n",
       "      <td>간식</td>\n",
       "      <td>가공식품류</td>\n",
       "      <td>[재료] 어묵 2개| 김밥용김 3장| 당면 1움큼| 양파 1/2개| 당근 1/2개|...</td>\n",
       "      <td>초급</td>\n",
       "    </tr>\n",
       "    <tr>\n",
       "      <th>1</th>\n",
       "      <td>알밥</td>\n",
       "      <td>5538</td>\n",
       "      <td>3</td>\n",
       "      <td>부침</td>\n",
       "      <td>일상</td>\n",
       "      <td>해물류</td>\n",
       "      <td>[재료] 두부 1/2모| 당근 1/2개| 고추 2개| 브로콜리 1/4개| 새우 4마...</td>\n",
       "      <td>초급</td>\n",
       "    </tr>\n",
       "    <tr>\n",
       "      <th>2</th>\n",
       "      <td>두부새우전</td>\n",
       "      <td>6802</td>\n",
       "      <td>8</td>\n",
       "      <td>굽기</td>\n",
       "      <td>일상</td>\n",
       "      <td>해물류</td>\n",
       "      <td>[재료] 밥 1+1/2공기| 당근 1/4개| 치자단무지 1/2개| 신김치 1쪽| 무...</td>\n",
       "      <td>초급</td>\n",
       "    </tr>\n",
       "    <tr>\n",
       "      <th>3</th>\n",
       "      <td>현미호두죽</td>\n",
       "      <td>2912</td>\n",
       "      <td>0</td>\n",
       "      <td>끓이기</td>\n",
       "      <td>일상</td>\n",
       "      <td>쌀</td>\n",
       "      <td>[재료] 현미 4컵| 찹쌀 2컵| 호두 50g| 물 1/2컵| 소금 약간</td>\n",
       "      <td>초급</td>\n",
       "    </tr>\n",
       "    <tr>\n",
       "      <th>4</th>\n",
       "      <td>북어갈비</td>\n",
       "      <td>6865</td>\n",
       "      <td>3</td>\n",
       "      <td>굽기</td>\n",
       "      <td>술안주</td>\n",
       "      <td>건어물류</td>\n",
       "      <td>[재료] 북어포 1마리| 찹쌀가루 1C [양념] 간장 2T| 설탕 1T| 물 1T|...</td>\n",
       "      <td>초급</td>\n",
       "    </tr>\n",
       "  </tbody>\n",
       "</table>\n",
       "</div>"
      ],
      "text/plain": [
       "    name  view  recomm cook_m purpo  kinds  \\\n",
       "0  어묵김말이  9592       6     튀김    간식  가공식품류   \n",
       "1     알밥  5538       3     부침    일상    해물류   \n",
       "2  두부새우전  6802       8     굽기    일상    해물류   \n",
       "3  현미호두죽  2912       0    끓이기    일상      쌀   \n",
       "4   북어갈비  6865       3     굽기   술안주   건어물류   \n",
       "\n",
       "                                              ingred level  \n",
       "0  [재료] 어묵 2개| 김밥용김 3장| 당면 1움큼| 양파 1/2개| 당근 1/2개|...    초급  \n",
       "1  [재료] 두부 1/2모| 당근 1/2개| 고추 2개| 브로콜리 1/4개| 새우 4마...    초급  \n",
       "2  [재료] 밥 1+1/2공기| 당근 1/4개| 치자단무지 1/2개| 신김치 1쪽| 무...    초급  \n",
       "3           [재료] 현미 4컵| 찹쌀 2컵| 호두 50g| 물 1/2컵| 소금 약간    초급  \n",
       "4  [재료] 북어포 1마리| 찹쌀가루 1C [양념] 간장 2T| 설탕 1T| 물 1T|...    초급  "
      ]
     },
     "execution_count": 13,
     "metadata": {},
     "output_type": "execute_result"
    }
   ],
   "source": [
    "df2.head()"
   ]
  },
  {
   "cell_type": "markdown",
   "id": "aa30e9a3",
   "metadata": {},
   "source": [
    "### 추천순으로 데이터 정렬"
   ]
  },
  {
   "cell_type": "code",
   "execution_count": 14,
   "id": "27d02877",
   "metadata": {},
   "outputs": [],
   "source": [
    "df2 = df2.sort_values('recomm', ascending = False)"
   ]
  },
  {
   "cell_type": "code",
   "execution_count": 15,
   "id": "837263d7",
   "metadata": {},
   "outputs": [
    {
     "data": {
      "text/html": [
       "<div>\n",
       "<style scoped>\n",
       "    .dataframe tbody tr th:only-of-type {\n",
       "        vertical-align: middle;\n",
       "    }\n",
       "\n",
       "    .dataframe tbody tr th {\n",
       "        vertical-align: top;\n",
       "    }\n",
       "\n",
       "    .dataframe thead th {\n",
       "        text-align: right;\n",
       "    }\n",
       "</style>\n",
       "<table border=\"1\" class=\"dataframe\">\n",
       "  <thead>\n",
       "    <tr style=\"text-align: right;\">\n",
       "      <th></th>\n",
       "      <th>name</th>\n",
       "      <th>view</th>\n",
       "      <th>recomm</th>\n",
       "      <th>cook_m</th>\n",
       "      <th>purpo</th>\n",
       "      <th>kinds</th>\n",
       "      <th>ingred</th>\n",
       "      <th>level</th>\n",
       "    </tr>\n",
       "  </thead>\n",
       "  <tbody>\n",
       "    <tr>\n",
       "      <th>49862</th>\n",
       "      <td>뚝배기두부조림</td>\n",
       "      <td>355493</td>\n",
       "      <td>2270</td>\n",
       "      <td>조림</td>\n",
       "      <td>영양식</td>\n",
       "      <td>콩/견과류</td>\n",
       "      <td>[재료] 두부 1모| 양파 1개| 달걀 1~2개 [양념장] 다진마늘 2T| 청양고추...</td>\n",
       "      <td>아무나</td>\n",
       "    </tr>\n",
       "    <tr>\n",
       "      <th>49867</th>\n",
       "      <td>차돌박이숙주볶음</td>\n",
       "      <td>649057</td>\n",
       "      <td>2021</td>\n",
       "      <td>볶음</td>\n",
       "      <td>술안주</td>\n",
       "      <td>소고기</td>\n",
       "      <td>[필수 재료] 차돌박이 300g| 숙주 200g| 송송 썬 쪽파 2T [양념 재료]...</td>\n",
       "      <td>아무나</td>\n",
       "    </tr>\n",
       "    <tr>\n",
       "      <th>49872</th>\n",
       "      <td>달걀밥</td>\n",
       "      <td>447383</td>\n",
       "      <td>1763</td>\n",
       "      <td>기타</td>\n",
       "      <td>초스피드</td>\n",
       "      <td>달걀/유제품</td>\n",
       "      <td>[필수 재료] 밥 1/2공기| 달걀 2개| 물 100ml| 햄 or 스팸 1/4개(...</td>\n",
       "      <td>아무나</td>\n",
       "    </tr>\n",
       "    <tr>\n",
       "      <th>53516</th>\n",
       "      <td>비빔국수</td>\n",
       "      <td>507526</td>\n",
       "      <td>1730</td>\n",
       "      <td>비빔</td>\n",
       "      <td>초스피드</td>\n",
       "      <td>밀가루</td>\n",
       "      <td>[재료] 소면 2인분 [양념장] 다진 마늘 1/2큰 술| 맛술 1큰 술| 고추장 2...</td>\n",
       "      <td>초급</td>\n",
       "    </tr>\n",
       "    <tr>\n",
       "      <th>49269</th>\n",
       "      <td>오이무침</td>\n",
       "      <td>323274</td>\n",
       "      <td>1499</td>\n",
       "      <td>무침</td>\n",
       "      <td>일상</td>\n",
       "      <td>채소류</td>\n",
       "      <td>[오이무침 재료] 오이 4개| 소금 1/2큰술| 까나리액젓 1큰술| 설탕 1/3큰술...</td>\n",
       "      <td>아무나</td>\n",
       "    </tr>\n",
       "  </tbody>\n",
       "</table>\n",
       "</div>"
      ],
      "text/plain": [
       "           name    view  recomm cook_m purpo   kinds  \\\n",
       "49862   뚝배기두부조림  355493    2270     조림   영양식   콩/견과류   \n",
       "49867  차돌박이숙주볶음  649057    2021     볶음   술안주     소고기   \n",
       "49872       달걀밥  447383    1763     기타  초스피드  달걀/유제품   \n",
       "53516      비빔국수  507526    1730     비빔  초스피드     밀가루   \n",
       "49269      오이무침  323274    1499     무침    일상     채소류   \n",
       "\n",
       "                                                  ingred level  \n",
       "49862  [재료] 두부 1모| 양파 1개| 달걀 1~2개 [양념장] 다진마늘 2T| 청양고추...   아무나  \n",
       "49867  [필수 재료] 차돌박이 300g| 숙주 200g| 송송 썬 쪽파 2T [양념 재료]...   아무나  \n",
       "49872  [필수 재료] 밥 1/2공기| 달걀 2개| 물 100ml| 햄 or 스팸 1/4개(...   아무나  \n",
       "53516  [재료] 소면 2인분 [양념장] 다진 마늘 1/2큰 술| 맛술 1큰 술| 고추장 2...    초급  \n",
       "49269  [오이무침 재료] 오이 4개| 소금 1/2큰술| 까나리액젓 1큰술| 설탕 1/3큰술...   아무나  "
      ]
     },
     "execution_count": 15,
     "metadata": {},
     "output_type": "execute_result"
    }
   ],
   "source": [
    "df2.head()"
   ]
  },
  {
   "cell_type": "code",
   "execution_count": 16,
   "id": "91081f1e",
   "metadata": {},
   "outputs": [],
   "source": [
    "df2 = df2.reset_index(drop=True)"
   ]
  },
  {
   "cell_type": "code",
   "execution_count": 17,
   "id": "2c728db5",
   "metadata": {},
   "outputs": [
    {
     "data": {
      "text/html": [
       "<div>\n",
       "<style scoped>\n",
       "    .dataframe tbody tr th:only-of-type {\n",
       "        vertical-align: middle;\n",
       "    }\n",
       "\n",
       "    .dataframe tbody tr th {\n",
       "        vertical-align: top;\n",
       "    }\n",
       "\n",
       "    .dataframe thead th {\n",
       "        text-align: right;\n",
       "    }\n",
       "</style>\n",
       "<table border=\"1\" class=\"dataframe\">\n",
       "  <thead>\n",
       "    <tr style=\"text-align: right;\">\n",
       "      <th></th>\n",
       "      <th>name</th>\n",
       "      <th>view</th>\n",
       "      <th>recomm</th>\n",
       "      <th>cook_m</th>\n",
       "      <th>purpo</th>\n",
       "      <th>kinds</th>\n",
       "      <th>ingred</th>\n",
       "      <th>level</th>\n",
       "    </tr>\n",
       "  </thead>\n",
       "  <tbody>\n",
       "    <tr>\n",
       "      <th>0</th>\n",
       "      <td>뚝배기두부조림</td>\n",
       "      <td>355493</td>\n",
       "      <td>2270</td>\n",
       "      <td>조림</td>\n",
       "      <td>영양식</td>\n",
       "      <td>콩/견과류</td>\n",
       "      <td>[재료] 두부 1모| 양파 1개| 달걀 1~2개 [양념장] 다진마늘 2T| 청양고추...</td>\n",
       "      <td>아무나</td>\n",
       "    </tr>\n",
       "    <tr>\n",
       "      <th>1</th>\n",
       "      <td>차돌박이숙주볶음</td>\n",
       "      <td>649057</td>\n",
       "      <td>2021</td>\n",
       "      <td>볶음</td>\n",
       "      <td>술안주</td>\n",
       "      <td>소고기</td>\n",
       "      <td>[필수 재료] 차돌박이 300g| 숙주 200g| 송송 썬 쪽파 2T [양념 재료]...</td>\n",
       "      <td>아무나</td>\n",
       "    </tr>\n",
       "    <tr>\n",
       "      <th>2</th>\n",
       "      <td>달걀밥</td>\n",
       "      <td>447383</td>\n",
       "      <td>1763</td>\n",
       "      <td>기타</td>\n",
       "      <td>초스피드</td>\n",
       "      <td>달걀/유제품</td>\n",
       "      <td>[필수 재료] 밥 1/2공기| 달걀 2개| 물 100ml| 햄 or 스팸 1/4개(...</td>\n",
       "      <td>아무나</td>\n",
       "    </tr>\n",
       "    <tr>\n",
       "      <th>3</th>\n",
       "      <td>비빔국수</td>\n",
       "      <td>507526</td>\n",
       "      <td>1730</td>\n",
       "      <td>비빔</td>\n",
       "      <td>초스피드</td>\n",
       "      <td>밀가루</td>\n",
       "      <td>[재료] 소면 2인분 [양념장] 다진 마늘 1/2큰 술| 맛술 1큰 술| 고추장 2...</td>\n",
       "      <td>초급</td>\n",
       "    </tr>\n",
       "    <tr>\n",
       "      <th>4</th>\n",
       "      <td>오이무침</td>\n",
       "      <td>323274</td>\n",
       "      <td>1499</td>\n",
       "      <td>무침</td>\n",
       "      <td>일상</td>\n",
       "      <td>채소류</td>\n",
       "      <td>[오이무침 재료] 오이 4개| 소금 1/2큰술| 까나리액젓 1큰술| 설탕 1/3큰술...</td>\n",
       "      <td>아무나</td>\n",
       "    </tr>\n",
       "  </tbody>\n",
       "</table>\n",
       "</div>"
      ],
      "text/plain": [
       "       name    view  recomm cook_m purpo   kinds  \\\n",
       "0   뚝배기두부조림  355493    2270     조림   영양식   콩/견과류   \n",
       "1  차돌박이숙주볶음  649057    2021     볶음   술안주     소고기   \n",
       "2       달걀밥  447383    1763     기타  초스피드  달걀/유제품   \n",
       "3      비빔국수  507526    1730     비빔  초스피드     밀가루   \n",
       "4      오이무침  323274    1499     무침    일상     채소류   \n",
       "\n",
       "                                              ingred level  \n",
       "0  [재료] 두부 1모| 양파 1개| 달걀 1~2개 [양념장] 다진마늘 2T| 청양고추...   아무나  \n",
       "1  [필수 재료] 차돌박이 300g| 숙주 200g| 송송 썬 쪽파 2T [양념 재료]...   아무나  \n",
       "2  [필수 재료] 밥 1/2공기| 달걀 2개| 물 100ml| 햄 or 스팸 1/4개(...   아무나  \n",
       "3  [재료] 소면 2인분 [양념장] 다진 마늘 1/2큰 술| 맛술 1큰 술| 고추장 2...    초급  \n",
       "4  [오이무침 재료] 오이 4개| 소금 1/2큰술| 까나리액젓 1큰술| 설탕 1/3큰술...   아무나  "
      ]
     },
     "execution_count": 17,
     "metadata": {},
     "output_type": "execute_result"
    }
   ],
   "source": [
    "df2.head()"
   ]
  },
  {
   "cell_type": "markdown",
   "id": "1e568bcc",
   "metadata": {},
   "source": [
    "### 동일한 이름의 메뉴는 첫번째만 남기고 제거"
   ]
  },
  {
   "cell_type": "code",
   "execution_count": 18,
   "id": "c6b238b9",
   "metadata": {},
   "outputs": [
    {
     "data": {
      "text/plain": [
       "(128400, 8)"
      ]
     },
     "execution_count": 18,
     "metadata": {},
     "output_type": "execute_result"
    }
   ],
   "source": [
    "df2.shape"
   ]
  },
  {
   "cell_type": "code",
   "execution_count": 19,
   "id": "d5918977",
   "metadata": {},
   "outputs": [],
   "source": [
    "df2 = df2.drop_duplicates(['name'], keep = 'first')"
   ]
  },
  {
   "cell_type": "code",
   "execution_count": 20,
   "id": "65ba5665",
   "metadata": {},
   "outputs": [
    {
     "data": {
      "text/plain": [
       "(38568, 8)"
      ]
     },
     "execution_count": 20,
     "metadata": {},
     "output_type": "execute_result"
    }
   ],
   "source": [
    "df2.shape"
   ]
  },
  {
   "cell_type": "markdown",
   "id": "b311dc7a",
   "metadata": {},
   "source": [
    "### 추천수 기준으로 상위 10퍼센트만 추리기"
   ]
  },
  {
   "cell_type": "code",
   "execution_count": 21,
   "id": "24ed5e37",
   "metadata": {},
   "outputs": [
    {
     "data": {
      "text/plain": [
       "22.0"
      ]
     },
     "execution_count": 21,
     "metadata": {},
     "output_type": "execute_result"
    }
   ],
   "source": [
    "a = df2['recomm'].quantile(0.9)\n",
    "a"
   ]
  },
  {
   "cell_type": "code",
   "execution_count": 22,
   "id": "9bcc01e6",
   "metadata": {},
   "outputs": [],
   "source": [
    "df3 = df2.copy().loc[df2['recomm'] >= a]"
   ]
  },
  {
   "cell_type": "code",
   "execution_count": 23,
   "id": "abaf994e",
   "metadata": {},
   "outputs": [
    {
     "data": {
      "text/plain": [
       "(4075, 8)"
      ]
     },
     "execution_count": 23,
     "metadata": {},
     "output_type": "execute_result"
    }
   ],
   "source": [
    "df3.shape"
   ]
  },
  {
   "cell_type": "code",
   "execution_count": 24,
   "id": "40cc7d35",
   "metadata": {},
   "outputs": [
    {
     "data": {
      "text/html": [
       "<div>\n",
       "<style scoped>\n",
       "    .dataframe tbody tr th:only-of-type {\n",
       "        vertical-align: middle;\n",
       "    }\n",
       "\n",
       "    .dataframe tbody tr th {\n",
       "        vertical-align: top;\n",
       "    }\n",
       "\n",
       "    .dataframe thead th {\n",
       "        text-align: right;\n",
       "    }\n",
       "</style>\n",
       "<table border=\"1\" class=\"dataframe\">\n",
       "  <thead>\n",
       "    <tr style=\"text-align: right;\">\n",
       "      <th></th>\n",
       "      <th>name</th>\n",
       "      <th>view</th>\n",
       "      <th>recomm</th>\n",
       "      <th>cook_m</th>\n",
       "      <th>purpo</th>\n",
       "      <th>kinds</th>\n",
       "      <th>ingred</th>\n",
       "      <th>level</th>\n",
       "    </tr>\n",
       "  </thead>\n",
       "  <tbody>\n",
       "    <tr>\n",
       "      <th>0</th>\n",
       "      <td>뚝배기두부조림</td>\n",
       "      <td>355493</td>\n",
       "      <td>2270</td>\n",
       "      <td>조림</td>\n",
       "      <td>영양식</td>\n",
       "      <td>콩/견과류</td>\n",
       "      <td>[재료] 두부 1모| 양파 1개| 달걀 1~2개 [양념장] 다진마늘 2T| 청양고추...</td>\n",
       "      <td>아무나</td>\n",
       "    </tr>\n",
       "    <tr>\n",
       "      <th>1</th>\n",
       "      <td>차돌박이숙주볶음</td>\n",
       "      <td>649057</td>\n",
       "      <td>2021</td>\n",
       "      <td>볶음</td>\n",
       "      <td>술안주</td>\n",
       "      <td>소고기</td>\n",
       "      <td>[필수 재료] 차돌박이 300g| 숙주 200g| 송송 썬 쪽파 2T [양념 재료]...</td>\n",
       "      <td>아무나</td>\n",
       "    </tr>\n",
       "    <tr>\n",
       "      <th>2</th>\n",
       "      <td>달걀밥</td>\n",
       "      <td>447383</td>\n",
       "      <td>1763</td>\n",
       "      <td>기타</td>\n",
       "      <td>초스피드</td>\n",
       "      <td>달걀/유제품</td>\n",
       "      <td>[필수 재료] 밥 1/2공기| 달걀 2개| 물 100ml| 햄 or 스팸 1/4개(...</td>\n",
       "      <td>아무나</td>\n",
       "    </tr>\n",
       "    <tr>\n",
       "      <th>3</th>\n",
       "      <td>비빔국수</td>\n",
       "      <td>507526</td>\n",
       "      <td>1730</td>\n",
       "      <td>비빔</td>\n",
       "      <td>초스피드</td>\n",
       "      <td>밀가루</td>\n",
       "      <td>[재료] 소면 2인분 [양념장] 다진 마늘 1/2큰 술| 맛술 1큰 술| 고추장 2...</td>\n",
       "      <td>초급</td>\n",
       "    </tr>\n",
       "    <tr>\n",
       "      <th>4</th>\n",
       "      <td>오이무침</td>\n",
       "      <td>323274</td>\n",
       "      <td>1499</td>\n",
       "      <td>무침</td>\n",
       "      <td>일상</td>\n",
       "      <td>채소류</td>\n",
       "      <td>[오이무침 재료] 오이 4개| 소금 1/2큰술| 까나리액젓 1큰술| 설탕 1/3큰술...</td>\n",
       "      <td>아무나</td>\n",
       "    </tr>\n",
       "  </tbody>\n",
       "</table>\n",
       "</div>"
      ],
      "text/plain": [
       "       name    view  recomm cook_m purpo   kinds  \\\n",
       "0   뚝배기두부조림  355493    2270     조림   영양식   콩/견과류   \n",
       "1  차돌박이숙주볶음  649057    2021     볶음   술안주     소고기   \n",
       "2       달걀밥  447383    1763     기타  초스피드  달걀/유제품   \n",
       "3      비빔국수  507526    1730     비빔  초스피드     밀가루   \n",
       "4      오이무침  323274    1499     무침    일상     채소류   \n",
       "\n",
       "                                              ingred level  \n",
       "0  [재료] 두부 1모| 양파 1개| 달걀 1~2개 [양념장] 다진마늘 2T| 청양고추...   아무나  \n",
       "1  [필수 재료] 차돌박이 300g| 숙주 200g| 송송 썬 쪽파 2T [양념 재료]...   아무나  \n",
       "2  [필수 재료] 밥 1/2공기| 달걀 2개| 물 100ml| 햄 or 스팸 1/4개(...   아무나  \n",
       "3  [재료] 소면 2인분 [양념장] 다진 마늘 1/2큰 술| 맛술 1큰 술| 고추장 2...    초급  \n",
       "4  [오이무침 재료] 오이 4개| 소금 1/2큰술| 까나리액젓 1큰술| 설탕 1/3큰술...   아무나  "
      ]
     },
     "execution_count": 24,
     "metadata": {},
     "output_type": "execute_result"
    }
   ],
   "source": [
    "df3.head()"
   ]
  },
  {
   "cell_type": "code",
   "execution_count": 25,
   "id": "ed37ffc4",
   "metadata": {},
   "outputs": [
    {
     "data": {
      "text/plain": [
       "8485      22\n",
       "8114      22\n",
       "8113      22\n",
       "8110      22\n",
       "8109      22\n",
       "        ... \n",
       "4       1499\n",
       "3       1730\n",
       "2       1763\n",
       "1       2021\n",
       "0       2270\n",
       "Name: recomm, Length: 4075, dtype: int64"
      ]
     },
     "execution_count": 25,
     "metadata": {},
     "output_type": "execute_result"
    }
   ],
   "source": [
    "df3['recomm'].sort_values()"
   ]
  },
  {
   "cell_type": "code",
   "execution_count": 26,
   "id": "a574b920",
   "metadata": {},
   "outputs": [],
   "source": [
    "df3 = df3.reset_index(drop=True)"
   ]
  },
  {
   "cell_type": "code",
   "execution_count": 27,
   "id": "3ce11e7b",
   "metadata": {},
   "outputs": [
    {
     "data": {
      "text/plain": [
       "4074      22\n",
       "3931      22\n",
       "3930      22\n",
       "3929      22\n",
       "3928      22\n",
       "        ... \n",
       "4       1499\n",
       "3       1730\n",
       "2       1763\n",
       "1       2021\n",
       "0       2270\n",
       "Name: recomm, Length: 4075, dtype: int64"
      ]
     },
     "execution_count": 27,
     "metadata": {},
     "output_type": "execute_result"
    }
   ],
   "source": [
    "df3['recomm'].sort_values()"
   ]
  },
  {
   "cell_type": "code",
   "execution_count": 28,
   "id": "043efec2",
   "metadata": {},
   "outputs": [
    {
     "data": {
      "text/html": [
       "<div>\n",
       "<style scoped>\n",
       "    .dataframe tbody tr th:only-of-type {\n",
       "        vertical-align: middle;\n",
       "    }\n",
       "\n",
       "    .dataframe tbody tr th {\n",
       "        vertical-align: top;\n",
       "    }\n",
       "\n",
       "    .dataframe thead th {\n",
       "        text-align: right;\n",
       "    }\n",
       "</style>\n",
       "<table border=\"1\" class=\"dataframe\">\n",
       "  <thead>\n",
       "    <tr style=\"text-align: right;\">\n",
       "      <th></th>\n",
       "      <th>name</th>\n",
       "      <th>view</th>\n",
       "      <th>recomm</th>\n",
       "      <th>cook_m</th>\n",
       "      <th>purpo</th>\n",
       "      <th>kinds</th>\n",
       "      <th>ingred</th>\n",
       "      <th>level</th>\n",
       "    </tr>\n",
       "  </thead>\n",
       "  <tbody>\n",
       "    <tr>\n",
       "      <th>0</th>\n",
       "      <td>뚝배기두부조림</td>\n",
       "      <td>355493</td>\n",
       "      <td>2270</td>\n",
       "      <td>조림</td>\n",
       "      <td>영양식</td>\n",
       "      <td>콩/견과류</td>\n",
       "      <td>[재료] 두부 1모| 양파 1개| 달걀 1~2개 [양념장] 다진마늘 2T| 청양고추...</td>\n",
       "      <td>아무나</td>\n",
       "    </tr>\n",
       "    <tr>\n",
       "      <th>1</th>\n",
       "      <td>차돌박이숙주볶음</td>\n",
       "      <td>649057</td>\n",
       "      <td>2021</td>\n",
       "      <td>볶음</td>\n",
       "      <td>술안주</td>\n",
       "      <td>소고기</td>\n",
       "      <td>[필수 재료] 차돌박이 300g| 숙주 200g| 송송 썬 쪽파 2T [양념 재료]...</td>\n",
       "      <td>아무나</td>\n",
       "    </tr>\n",
       "    <tr>\n",
       "      <th>2</th>\n",
       "      <td>달걀밥</td>\n",
       "      <td>447383</td>\n",
       "      <td>1763</td>\n",
       "      <td>기타</td>\n",
       "      <td>초스피드</td>\n",
       "      <td>달걀/유제품</td>\n",
       "      <td>[필수 재료] 밥 1/2공기| 달걀 2개| 물 100ml| 햄 or 스팸 1/4개(...</td>\n",
       "      <td>아무나</td>\n",
       "    </tr>\n",
       "    <tr>\n",
       "      <th>3</th>\n",
       "      <td>비빔국수</td>\n",
       "      <td>507526</td>\n",
       "      <td>1730</td>\n",
       "      <td>비빔</td>\n",
       "      <td>초스피드</td>\n",
       "      <td>밀가루</td>\n",
       "      <td>[재료] 소면 2인분 [양념장] 다진 마늘 1/2큰 술| 맛술 1큰 술| 고추장 2...</td>\n",
       "      <td>초급</td>\n",
       "    </tr>\n",
       "    <tr>\n",
       "      <th>4</th>\n",
       "      <td>오이무침</td>\n",
       "      <td>323274</td>\n",
       "      <td>1499</td>\n",
       "      <td>무침</td>\n",
       "      <td>일상</td>\n",
       "      <td>채소류</td>\n",
       "      <td>[오이무침 재료] 오이 4개| 소금 1/2큰술| 까나리액젓 1큰술| 설탕 1/3큰술...</td>\n",
       "      <td>아무나</td>\n",
       "    </tr>\n",
       "    <tr>\n",
       "      <th>5</th>\n",
       "      <td>김치볶음밥</td>\n",
       "      <td>366065</td>\n",
       "      <td>1324</td>\n",
       "      <td>볶음</td>\n",
       "      <td>일상</td>\n",
       "      <td>쌀</td>\n",
       "      <td>[필수재료] 밥 1공기| 다진 양파 3큰술| 다진 김치 1/2컵| 다진 햄 3큰술 ...</td>\n",
       "      <td>아무나</td>\n",
       "    </tr>\n",
       "    <tr>\n",
       "      <th>6</th>\n",
       "      <td>콘치즈</td>\n",
       "      <td>341718</td>\n",
       "      <td>1283</td>\n",
       "      <td>볶음</td>\n",
       "      <td>술안주</td>\n",
       "      <td>가공식품류</td>\n",
       "      <td>[재료] 옥수수통조림 100~150g| 버터 1큰술| 마요네즈 적당량(취향것)| 피...</td>\n",
       "      <td>아무나</td>\n",
       "    </tr>\n",
       "    <tr>\n",
       "      <th>7</th>\n",
       "      <td>마파두부</td>\n",
       "      <td>210261</td>\n",
       "      <td>1264</td>\n",
       "      <td>볶음</td>\n",
       "      <td>일상</td>\n",
       "      <td>돼지고기</td>\n",
       "      <td>[재료] 두부 1모| 대파 1줄기| 청양고추 1개| 양파 1/3개| 돼지고기 간것 ...</td>\n",
       "      <td>초급</td>\n",
       "    </tr>\n",
       "    <tr>\n",
       "      <th>8</th>\n",
       "      <td>부대찌개</td>\n",
       "      <td>825884</td>\n",
       "      <td>1168</td>\n",
       "      <td>끓이기</td>\n",
       "      <td>일상</td>\n",
       "      <td>가공식품류</td>\n",
       "      <td>[재료] 길쭉이 햄 6줄| 통조림 햄 작은사이즈 1/2통| 돈다짐육(or 베이컨이나...</td>\n",
       "      <td>아무나</td>\n",
       "    </tr>\n",
       "    <tr>\n",
       "      <th>9</th>\n",
       "      <td>매운닭볶음탕</td>\n",
       "      <td>259130</td>\n",
       "      <td>1105</td>\n",
       "      <td>끓이기</td>\n",
       "      <td>손님접대</td>\n",
       "      <td>닭고기</td>\n",
       "      <td>[재료] 닭고기(800g) 1마리| 감자 1개| 당근 1/2개| 양파 1/2개| 대...</td>\n",
       "      <td>초급</td>\n",
       "    </tr>\n",
       "  </tbody>\n",
       "</table>\n",
       "</div>"
      ],
      "text/plain": [
       "       name    view  recomm cook_m purpo   kinds  \\\n",
       "0   뚝배기두부조림  355493    2270     조림   영양식   콩/견과류   \n",
       "1  차돌박이숙주볶음  649057    2021     볶음   술안주     소고기   \n",
       "2       달걀밥  447383    1763     기타  초스피드  달걀/유제품   \n",
       "3      비빔국수  507526    1730     비빔  초스피드     밀가루   \n",
       "4      오이무침  323274    1499     무침    일상     채소류   \n",
       "5     김치볶음밥  366065    1324     볶음    일상       쌀   \n",
       "6       콘치즈  341718    1283     볶음   술안주   가공식품류   \n",
       "7      마파두부  210261    1264     볶음    일상    돼지고기   \n",
       "8      부대찌개  825884    1168    끓이기    일상   가공식품류   \n",
       "9    매운닭볶음탕  259130    1105    끓이기  손님접대     닭고기   \n",
       "\n",
       "                                              ingred level  \n",
       "0  [재료] 두부 1모| 양파 1개| 달걀 1~2개 [양념장] 다진마늘 2T| 청양고추...   아무나  \n",
       "1  [필수 재료] 차돌박이 300g| 숙주 200g| 송송 썬 쪽파 2T [양념 재료]...   아무나  \n",
       "2  [필수 재료] 밥 1/2공기| 달걀 2개| 물 100ml| 햄 or 스팸 1/4개(...   아무나  \n",
       "3  [재료] 소면 2인분 [양념장] 다진 마늘 1/2큰 술| 맛술 1큰 술| 고추장 2...    초급  \n",
       "4  [오이무침 재료] 오이 4개| 소금 1/2큰술| 까나리액젓 1큰술| 설탕 1/3큰술...   아무나  \n",
       "5  [필수재료] 밥 1공기| 다진 양파 3큰술| 다진 김치 1/2컵| 다진 햄 3큰술 ...   아무나  \n",
       "6  [재료] 옥수수통조림 100~150g| 버터 1큰술| 마요네즈 적당량(취향것)| 피...   아무나  \n",
       "7  [재료] 두부 1모| 대파 1줄기| 청양고추 1개| 양파 1/3개| 돼지고기 간것 ...    초급  \n",
       "8  [재료] 길쭉이 햄 6줄| 통조림 햄 작은사이즈 1/2통| 돈다짐육(or 베이컨이나...   아무나  \n",
       "9  [재료] 닭고기(800g) 1마리| 감자 1개| 당근 1/2개| 양파 1/2개| 대...    초급  "
      ]
     },
     "execution_count": 28,
     "metadata": {},
     "output_type": "execute_result"
    }
   ],
   "source": [
    "df3.head(10)"
   ]
  },
  {
   "cell_type": "markdown",
   "id": "1ba539e0",
   "metadata": {},
   "source": [
    "## 추천수 기준 인기메뉴 그래프"
   ]
  },
  {
   "cell_type": "code",
   "execution_count": 29,
   "id": "4786825d",
   "metadata": {},
   "outputs": [
    {
     "data": {
      "text/plain": [
       "Text(0.5, 1.0, 'popular cook')"
      ]
     },
     "execution_count": 29,
     "metadata": {},
     "output_type": "execute_result"
    },
    {
     "data": {
      "image/png": "[encoded data removed]",
      "text/plain": [
       "<Figure size 720x504 with 1 Axes>"
      ]
     },
     "metadata": {
      "needs_background": "light"
     },
     "output_type": "display_data"
    }
   ],
   "source": [
    "import matplotlib.pyplot as plt\n",
    "from matplotlib import font_manager, rc\n",
    "font_path = \"C:\\Windows\\Fonts\\gulim.ttc\"\n",
    "font = font_manager.FontProperties(fname=font_path).get_name()\n",
    "rc('font', family=font)\n",
    "\n",
    "plt.figure(figsize=(10,7))\n",
    "plt.barh(df3['name'].head(10), df3['recomm'].head(10), align='center', color = 'orange')\n",
    "plt.gca().invert_yaxis()\n",
    "plt.xlabel(\"recommed\")\n",
    "plt.title(\"popular cook\")"
   ]
  },
  {
   "cell_type": "code",
   "execution_count": 30,
   "id": "dd45d9e1",
   "metadata": {},
   "outputs": [
    {
     "data": {
      "text/html": [
       "<div>\n",
       "<style scoped>\n",
       "    .dataframe tbody tr th:only-of-type {\n",
       "        vertical-align: middle;\n",
       "    }\n",
       "\n",
       "    .dataframe tbody tr th {\n",
       "        vertical-align: top;\n",
       "    }\n",
       "\n",
       "    .dataframe thead th {\n",
       "        text-align: right;\n",
       "    }\n",
       "</style>\n",
       "<table border=\"1\" class=\"dataframe\">\n",
       "  <thead>\n",
       "    <tr style=\"text-align: right;\">\n",
       "      <th></th>\n",
       "      <th>name</th>\n",
       "      <th>recomm</th>\n",
       "    </tr>\n",
       "  </thead>\n",
       "  <tbody>\n",
       "    <tr>\n",
       "      <th>0</th>\n",
       "      <td>뚝배기두부조림</td>\n",
       "      <td>2270</td>\n",
       "    </tr>\n",
       "    <tr>\n",
       "      <th>1</th>\n",
       "      <td>차돌박이숙주볶음</td>\n",
       "      <td>2021</td>\n",
       "    </tr>\n",
       "    <tr>\n",
       "      <th>2</th>\n",
       "      <td>달걀밥</td>\n",
       "      <td>1763</td>\n",
       "    </tr>\n",
       "    <tr>\n",
       "      <th>3</th>\n",
       "      <td>비빔국수</td>\n",
       "      <td>1730</td>\n",
       "    </tr>\n",
       "    <tr>\n",
       "      <th>4</th>\n",
       "      <td>오이무침</td>\n",
       "      <td>1499</td>\n",
       "    </tr>\n",
       "    <tr>\n",
       "      <th>5</th>\n",
       "      <td>김치볶음밥</td>\n",
       "      <td>1324</td>\n",
       "    </tr>\n",
       "    <tr>\n",
       "      <th>6</th>\n",
       "      <td>콘치즈</td>\n",
       "      <td>1283</td>\n",
       "    </tr>\n",
       "    <tr>\n",
       "      <th>7</th>\n",
       "      <td>마파두부</td>\n",
       "      <td>1264</td>\n",
       "    </tr>\n",
       "    <tr>\n",
       "      <th>8</th>\n",
       "      <td>부대찌개</td>\n",
       "      <td>1168</td>\n",
       "    </tr>\n",
       "    <tr>\n",
       "      <th>9</th>\n",
       "      <td>매운닭볶음탕</td>\n",
       "      <td>1105</td>\n",
       "    </tr>\n",
       "  </tbody>\n",
       "</table>\n",
       "</div>"
      ],
      "text/plain": [
       "       name  recomm\n",
       "0   뚝배기두부조림    2270\n",
       "1  차돌박이숙주볶음    2021\n",
       "2       달걀밥    1763\n",
       "3      비빔국수    1730\n",
       "4      오이무침    1499\n",
       "5     김치볶음밥    1324\n",
       "6       콘치즈    1283\n",
       "7      마파두부    1264\n",
       "8      부대찌개    1168\n",
       "9    매운닭볶음탕    1105"
      ]
     },
     "execution_count": 30,
     "metadata": {},
     "output_type": "execute_result"
    }
   ],
   "source": [
    "df3[['name','recomm']].head(10)"
   ]
  },
  {
   "cell_type": "markdown",
   "id": "724e8faf",
   "metadata": {},
   "source": [
    "## 레시피 갯수에 따른 워드클라우드\n",
    "#### 동일한 메뉴지만 레시피 갯수가 많은 메뉴 확인"
   ]
  },
  {
   "cell_type": "markdown",
   "id": "e458e7f0",
   "metadata": {},
   "source": [
    "### 데이터 준비(중복값이 제거되기 전 데이터 사용)"
   ]
  },
  {
   "cell_type": "code",
   "execution_count": 31,
   "id": "5d2844c9",
   "metadata": {},
   "outputs": [
    {
     "data": {
      "text/plain": [
       "(128400, 18)"
      ]
     },
     "execution_count": 31,
     "metadata": {},
     "output_type": "execute_result"
    }
   ],
   "source": [
    "df1.shape"
   ]
  },
  {
   "cell_type": "code",
   "execution_count": 32,
   "id": "1a031a91",
   "metadata": {},
   "outputs": [
    {
     "data": {
      "text/html": [
       "<div>\n",
       "<style scoped>\n",
       "    .dataframe tbody tr th:only-of-type {\n",
       "        vertical-align: middle;\n",
       "    }\n",
       "\n",
       "    .dataframe tbody tr th {\n",
       "        vertical-align: top;\n",
       "    }\n",
       "\n",
       "    .dataframe thead th {\n",
       "        text-align: right;\n",
       "    }\n",
       "</style>\n",
       "<table border=\"1\" class=\"dataframe\">\n",
       "  <thead>\n",
       "    <tr style=\"text-align: right;\">\n",
       "      <th></th>\n",
       "      <th>RCP_SNO</th>\n",
       "      <th>RCP_TTL</th>\n",
       "      <th>CKG_NM</th>\n",
       "      <th>RGTR_ID</th>\n",
       "      <th>RGTR_NM</th>\n",
       "      <th>INQ_CNT</th>\n",
       "      <th>RCMM_CNT</th>\n",
       "      <th>SRAP_CNT</th>\n",
       "      <th>CKG_MTH_ACTO_NM</th>\n",
       "      <th>CKG_STA_ACTO_NM</th>\n",
       "      <th>CKG_MTRL_ACTO_NM</th>\n",
       "      <th>CKG_KND_ACTO_NM</th>\n",
       "      <th>CKG_IPDC</th>\n",
       "      <th>CKG_MTRL_CN</th>\n",
       "      <th>CKG_INBUN_NM</th>\n",
       "      <th>CKG_DODF_NM</th>\n",
       "      <th>CKG_TIME_NM</th>\n",
       "      <th>FIRST_REG_DT</th>\n",
       "    </tr>\n",
       "  </thead>\n",
       "  <tbody>\n",
       "    <tr>\n",
       "      <th>0</th>\n",
       "      <td>128671</td>\n",
       "      <td>어묵김말이</td>\n",
       "      <td>어묵김말이</td>\n",
       "      <td>skfo0701</td>\n",
       "      <td>꽃날</td>\n",
       "      <td>9592</td>\n",
       "      <td>6</td>\n",
       "      <td>66</td>\n",
       "      <td>튀김</td>\n",
       "      <td>간식</td>\n",
       "      <td>가공식품류</td>\n",
       "      <td>디저트</td>\n",
       "      <td>맛있는 김말이에 쫄깃함을 더한 어묵 김말이예요-</td>\n",
       "      <td>[재료] 어묵 2개| 김밥용김 3장| 당면 1움큼| 양파 1/2개| 당근 1/2개|...</td>\n",
       "      <td>2인분</td>\n",
       "      <td>초급</td>\n",
       "      <td>60분이내</td>\n",
       "      <td>2.007000e+13</td>\n",
       "    </tr>\n",
       "    <tr>\n",
       "      <th>1</th>\n",
       "      <td>128892</td>\n",
       "      <td>두부에 꼬리가 달렸어요!!</td>\n",
       "      <td>알밥</td>\n",
       "      <td>skfo0701</td>\n",
       "      <td>꽃날</td>\n",
       "      <td>5538</td>\n",
       "      <td>3</td>\n",
       "      <td>26</td>\n",
       "      <td>부침</td>\n",
       "      <td>일상</td>\n",
       "      <td>해물류</td>\n",
       "      <td>밑반찬</td>\n",
       "      <td>꼬리가 너-무- 매력적인 두부새우전. 두부와 야채를 한번에!! 영양까지 만점인 두부...</td>\n",
       "      <td>[재료] 두부 1/2모| 당근 1/2개| 고추 2개| 브로콜리 1/4개| 새우 4마...</td>\n",
       "      <td>3인분</td>\n",
       "      <td>초급</td>\n",
       "      <td>30분이내</td>\n",
       "      <td>2.007000e+13</td>\n",
       "    </tr>\n",
       "  </tbody>\n",
       "</table>\n",
       "</div>"
      ],
      "text/plain": [
       "   RCP_SNO          RCP_TTL CKG_NM   RGTR_ID RGTR_NM  INQ_CNT  RCMM_CNT  \\\n",
       "0   128671            어묵김말이  어묵김말이  skfo0701      꽃날     9592         6   \n",
       "1   128892  두부에 꼬리가 달렸어요!!      알밥  skfo0701      꽃날     5538         3   \n",
       "\n",
       "   SRAP_CNT CKG_MTH_ACTO_NM CKG_STA_ACTO_NM CKG_MTRL_ACTO_NM CKG_KND_ACTO_NM  \\\n",
       "0        66              튀김              간식            가공식품류             디저트   \n",
       "1        26              부침              일상              해물류             밑반찬   \n",
       "\n",
       "                                            CKG_IPDC  \\\n",
       "0                         맛있는 김말이에 쫄깃함을 더한 어묵 김말이예요-   \n",
       "1  꼬리가 너-무- 매력적인 두부새우전. 두부와 야채를 한번에!! 영양까지 만점인 두부...   \n",
       "\n",
       "                                         CKG_MTRL_CN CKG_INBUN_NM CKG_DODF_NM  \\\n",
       "0  [재료] 어묵 2개| 김밥용김 3장| 당면 1움큼| 양파 1/2개| 당근 1/2개|...          2인분          초급   \n",
       "1  [재료] 두부 1/2모| 당근 1/2개| 고추 2개| 브로콜리 1/4개| 새우 4마...          3인분          초급   \n",
       "\n",
       "  CKG_TIME_NM  FIRST_REG_DT  \n",
       "0       60분이내  2.007000e+13  \n",
       "1       30분이내  2.007000e+13  "
      ]
     },
     "execution_count": 32,
     "metadata": {},
     "output_type": "execute_result"
    }
   ],
   "source": [
    "df1.head(2)"
   ]
  },
  {
   "cell_type": "code",
   "execution_count": 33,
   "id": "de3f484d",
   "metadata": {},
   "outputs": [],
   "source": [
    "new_df = df1[\"CKG_NM\"].value_counts()"
   ]
  },
  {
   "cell_type": "code",
   "execution_count": 34,
   "id": "56dc04a5",
   "metadata": {},
   "outputs": [
    {
     "data": {
      "text/plain": [
       "두부조림             435\n",
       "잡채               377\n",
       "닭볶음탕             371\n",
       "떡볶이              345\n",
       "제육볶음             326\n",
       "                ... \n",
       "계란어묵탕              1\n",
       "모카시나몬롤             1\n",
       "닭가슴살김치볶음           1\n",
       "훈제닭가슴살프렌치토스트롤      1\n",
       "양배추스프커리            1\n",
       "Name: CKG_NM, Length: 38567, dtype: int64"
      ]
     },
     "execution_count": 34,
     "metadata": {},
     "output_type": "execute_result"
    }
   ],
   "source": [
    "new_df"
   ]
  },
  {
   "cell_type": "markdown",
   "id": "5f3beef9",
   "metadata": {},
   "source": [
    "#### 엑셀 데이터에 컬럼 정리 후 CSV 파일로 저장"
   ]
  },
  {
   "cell_type": "code",
   "execution_count": 35,
   "id": "5bb9f32a",
   "metadata": {},
   "outputs": [],
   "source": [
    "new_df.to_excel(excel_writer='food_counts.xlsx')"
   ]
  },
  {
   "cell_type": "code",
   "execution_count": 36,
   "id": "8bed6da2",
   "metadata": {},
   "outputs": [],
   "source": [
    "fc = pd.read_csv('food_counts.CSV', encoding='cp949')"
   ]
  },
  {
   "cell_type": "code",
   "execution_count": 37,
   "id": "88332152",
   "metadata": {},
   "outputs": [
    {
     "data": {
      "text/html": [
       "<div>\n",
       "<style scoped>\n",
       "    .dataframe tbody tr th:only-of-type {\n",
       "        vertical-align: middle;\n",
       "    }\n",
       "\n",
       "    .dataframe tbody tr th {\n",
       "        vertical-align: top;\n",
       "    }\n",
       "\n",
       "    .dataframe thead th {\n",
       "        text-align: right;\n",
       "    }\n",
       "</style>\n",
       "<table border=\"1\" class=\"dataframe\">\n",
       "  <thead>\n",
       "    <tr style=\"text-align: right;\">\n",
       "      <th></th>\n",
       "      <th>food_name</th>\n",
       "      <th>counts</th>\n",
       "    </tr>\n",
       "  </thead>\n",
       "  <tbody>\n",
       "    <tr>\n",
       "      <th>0</th>\n",
       "      <td>두부조림</td>\n",
       "      <td>435</td>\n",
       "    </tr>\n",
       "    <tr>\n",
       "      <th>1</th>\n",
       "      <td>잡채</td>\n",
       "      <td>377</td>\n",
       "    </tr>\n",
       "    <tr>\n",
       "      <th>2</th>\n",
       "      <td>닭볶음탕</td>\n",
       "      <td>371</td>\n",
       "    </tr>\n",
       "  </tbody>\n",
       "</table>\n",
       "</div>"
      ],
      "text/plain": [
       "  food_name  counts\n",
       "0      두부조림     435\n",
       "1        잡채     377\n",
       "2      닭볶음탕     371"
      ]
     },
     "execution_count": 37,
     "metadata": {},
     "output_type": "execute_result"
    }
   ],
   "source": [
    "fc.head(3)"
   ]
  },
  {
   "cell_type": "code",
   "execution_count": 38,
   "id": "84cbe501",
   "metadata": {},
   "outputs": [
    {
     "data": {
      "text/plain": [
       "(38567, 2)"
      ]
     },
     "execution_count": 38,
     "metadata": {},
     "output_type": "execute_result"
    }
   ],
   "source": [
    "fc.shape"
   ]
  },
  {
   "cell_type": "code",
   "execution_count": 39,
   "id": "1e92cabe",
   "metadata": {},
   "outputs": [
    {
     "data": {
      "text/html": [
       "<div>\n",
       "<style scoped>\n",
       "    .dataframe tbody tr th:only-of-type {\n",
       "        vertical-align: middle;\n",
       "    }\n",
       "\n",
       "    .dataframe tbody tr th {\n",
       "        vertical-align: top;\n",
       "    }\n",
       "\n",
       "    .dataframe thead th {\n",
       "        text-align: right;\n",
       "    }\n",
       "</style>\n",
       "<table border=\"1\" class=\"dataframe\">\n",
       "  <thead>\n",
       "    <tr style=\"text-align: right;\">\n",
       "      <th></th>\n",
       "      <th>food_name</th>\n",
       "      <th>counts</th>\n",
       "    </tr>\n",
       "  </thead>\n",
       "  <tbody>\n",
       "    <tr>\n",
       "      <th>0</th>\n",
       "      <td>두부조림</td>\n",
       "      <td>435</td>\n",
       "    </tr>\n",
       "    <tr>\n",
       "      <th>1</th>\n",
       "      <td>잡채</td>\n",
       "      <td>377</td>\n",
       "    </tr>\n",
       "    <tr>\n",
       "      <th>2</th>\n",
       "      <td>닭볶음탕</td>\n",
       "      <td>371</td>\n",
       "    </tr>\n",
       "    <tr>\n",
       "      <th>3</th>\n",
       "      <td>떡볶이</td>\n",
       "      <td>345</td>\n",
       "    </tr>\n",
       "    <tr>\n",
       "      <th>4</th>\n",
       "      <td>제육볶음</td>\n",
       "      <td>326</td>\n",
       "    </tr>\n",
       "    <tr>\n",
       "      <th>...</th>\n",
       "      <td>...</td>\n",
       "      <td>...</td>\n",
       "    </tr>\n",
       "    <tr>\n",
       "      <th>20977</th>\n",
       "      <td>모카크림치즈번</td>\n",
       "      <td>1</td>\n",
       "    </tr>\n",
       "    <tr>\n",
       "      <th>20976</th>\n",
       "      <td>차돌박이라볶이</td>\n",
       "      <td>1</td>\n",
       "    </tr>\n",
       "    <tr>\n",
       "      <th>20975</th>\n",
       "      <td>콩나물곤약냉채</td>\n",
       "      <td>1</td>\n",
       "    </tr>\n",
       "    <tr>\n",
       "      <th>20974</th>\n",
       "      <td>청오이피클</td>\n",
       "      <td>1</td>\n",
       "    </tr>\n",
       "    <tr>\n",
       "      <th>38566</th>\n",
       "      <td>양배추스프커리</td>\n",
       "      <td>1</td>\n",
       "    </tr>\n",
       "  </tbody>\n",
       "</table>\n",
       "<p>38567 rows × 2 columns</p>\n",
       "</div>"
      ],
      "text/plain": [
       "      food_name  counts\n",
       "0          두부조림     435\n",
       "1            잡채     377\n",
       "2          닭볶음탕     371\n",
       "3           떡볶이     345\n",
       "4          제육볶음     326\n",
       "...         ...     ...\n",
       "20977   모카크림치즈번       1\n",
       "20976   차돌박이라볶이       1\n",
       "20975   콩나물곤약냉채       1\n",
       "20974     청오이피클       1\n",
       "38566   양배추스프커리       1\n",
       "\n",
       "[38567 rows x 2 columns]"
      ]
     },
     "execution_count": 39,
     "metadata": {},
     "output_type": "execute_result"
    }
   ],
   "source": [
    "fc.sort_values('counts',ascending=False)"
   ]
  },
  {
   "cell_type": "markdown",
   "id": "716f3bb0",
   "metadata": {},
   "source": [
    "### 워드클라우드 그리기"
   ]
  },
  {
   "cell_type": "code",
   "execution_count": 40,
   "id": "6cc060a3",
   "metadata": {},
   "outputs": [],
   "source": [
    "from wordcloud import WordCloud, ImageColorGenerator\n",
    "from PIL import Image\n",
    "import matplotlib.pyplot as plt"
   ]
  },
  {
   "cell_type": "markdown",
   "id": "cf9cd788",
   "metadata": {},
   "source": [
    "#### 워드클라우드 마스크 아이콘 불러오기"
   ]
  },
  {
   "cell_type": "code",
   "execution_count": 41,
   "id": "dfc2ad60",
   "metadata": {},
   "outputs": [
    {
     "data": {
      "image/png": "[encoded data removed]",
      "text/plain": [
       "<Figure size 432x288 with 1 Axes>"
      ]
     },
     "metadata": {
      "needs_background": "light"
     },
     "output_type": "display_data"
    }
   ],
   "source": [
    "icon = Image.open('thumbup_mask.png')\n",
    "plt.imshow(icon)\n",
    "\n",
    "mask = Image.new(\"RGB\", icon.size, (255,255,255))\n",
    "mask.paste(icon,icon)\n",
    "mask = np.array(mask)"
   ]
  },
  {
   "cell_type": "code",
   "execution_count": 42,
   "id": "6aa6c711",
   "metadata": {},
   "outputs": [],
   "source": [
    "freq = fc.set_index(\"food_name\").to_dict()[\"counts\"]"
   ]
  },
  {
   "cell_type": "code",
   "execution_count": 43,
   "id": "76038820",
   "metadata": {},
   "outputs": [
    {
     "data": {
      "text/plain": [
       "{'두부조림': 435,\n",
       " '잡채': 377,\n",
       " '닭볶음탕': 371,\n",
       " '떡볶이': 345,\n",
       " '제육볶음': 326,\n",
       " '어묵볶음': 325,\n",
       " '소고기무국': 306,\n",
       " '무생채': 306,\n",
       " '오징어볶음': 279,\n",
       " '김치볶음밥': 278,\n",
       " '김밥': 257,\n",
       " '소고기미역국': 255,\n",
       " '오이무침': 249,\n",
       " '콩나물무침': 245,\n",
       " '된장찌개': 242,\n",
       " '감자전': 233,\n",
       " '감자조림': 220,\n",
       " '멸치볶음': 215,\n",
       " '깍두기': 197,\n",
       " '오이소박이': 192,\n",
       " '돼지고기김치찌개': 190,\n",
       " '부대찌개': 188,\n",
       " '비빔국수': 187,\n",
       " '오이지무침': 184,\n",
       " '순두부찌개': 182,\n",
       " '계란말이': 179,\n",
       " '계란찜': 179,\n",
       " '갈치조림': 177,\n",
       " '김치찌개': 177,\n",
       " '가지볶음': 177,\n",
       " '고구마맛탕': 170,\n",
       " '샌드위치': 169,\n",
       " '미역줄기볶음': 167,\n",
       " '소불고기': 166,\n",
       " '오므라이스': 165,\n",
       " '돼지갈비찜': 162,\n",
       " '잔치국수': 161,\n",
       " '프렌치토스트': 159,\n",
       " '콩나물국': 157,\n",
       " '어묵탕': 155,\n",
       " '소세지야채볶음': 155,\n",
       " '연근조림': 155,\n",
       " '토스트': 146,\n",
       " '순대볶음': 143,\n",
       " '찹스테이크': 142,\n",
       " '감자볶음': 141,\n",
       " '청국장찌개': 138,\n",
       " '시금치무침': 137,\n",
       " '콩나물불고기': 137,\n",
       " '진미채볶음': 135,\n",
       " '참치김치찌개': 135,\n",
       " '배추겉절이': 135,\n",
       " '볶음밥': 133,\n",
       " '길거리토스트': 133,\n",
       " '메추리알장조림': 133,\n",
       " '골뱅이무침': 132,\n",
       " '굴전': 131,\n",
       " '애호박전': 131,\n",
       " '파김치': 130,\n",
       " '마파두부': 129,\n",
       " '고등어조림': 127,\n",
       " '국물떡볶이': 127,\n",
       " '우엉조림': 126,\n",
       " '감자채볶음': 125,\n",
       " '애호박볶음': 124,\n",
       " '콩나물밥': 123,\n",
       " '유부초밥': 123,\n",
       " '도토리묵무침': 123,\n",
       " '깻잎김치': 122,\n",
       " '김치전': 122,\n",
       " '봄동겉절이': 122,\n",
       " '김치비빔국수': 120,\n",
       " '떡국': 119,\n",
       " '밀푀유나베': 116,\n",
       " '꼬막무침': 115,\n",
       " '육개장': 114,\n",
       " '또띠아피자': 113,\n",
       " '꽃게탕': 113,\n",
       " '감자샐러드': 113,\n",
       " '두부김치': 112,\n",
       " '쿠키': 111,\n",
       " '꽈리고추멸치볶음': 111,\n",
       " '닭갈비': 110,\n",
       " '무나물': 110,\n",
       " '카레': 110,\n",
       " '부추전': 110,\n",
       " '떡만두국': 109,\n",
       " '고추잡채': 109,\n",
       " '월남쌈': 108,\n",
       " '계란장조림': 108,\n",
       " '파래무침': 107,\n",
       " '쫄면': 107,\n",
       " '오징어무국': 106,\n",
       " '새우볶음밥': 105,\n",
       " '수육': 104,\n",
       " '카레라이스': 104,\n",
       " '단무지무침': 104,\n",
       " '스테이크': 103,\n",
       " '미역국': 103,\n",
       " '소갈비찜': 103,\n",
       " '감자채전': 102,\n",
       " '소고기장조림': 102,\n",
       " '도시락': 101,\n",
       " '삼계탕': 101,\n",
       " '코다리조림': 101,\n",
       " '닭곰탕': 100,\n",
       " '배추된장국': 99,\n",
       " '낙지볶음': 98,\n",
       " '양파장아찌': 97,\n",
       " '동그랑땡': 96,\n",
       " '시금치된장국': 96,\n",
       " '마늘빵': 96,\n",
       " '오이피클': 96,\n",
       " '오삼불고기': 96,\n",
       " '콩국수': 96,\n",
       " '기름떡볶이': 95,\n",
       " '브라우니': 95,\n",
       " '전복죽': 95,\n",
       " '주먹밥': 94,\n",
       " '치킨': 94,\n",
       " '가지무침': 94,\n",
       " '노각무침': 93,\n",
       " '무말랭이무침': 93,\n",
       " '쭈꾸미볶음': 92,\n",
       " '초코칩쿠키': 92,\n",
       " '홍합탕': 91,\n",
       " '떡꼬치': 91,\n",
       " '찜닭': 91,\n",
       " '돼지고기장조림': 91,\n",
       " '돈까스': 90,\n",
       " '샐러드': 90,\n",
       " '김치콩나물국': 90,\n",
       " '오이지': 89,\n",
       " '콘치즈': 89,\n",
       " '열무김치': 88,\n",
       " '오이냉국': 88,\n",
       " '계란볶음밥': 88,\n",
       " '계란빵': 88,\n",
       " '단호박죽': 86,\n",
       " '꽈리고추찜': 86,\n",
       " '시금치나물': 86,\n",
       " '떡갈비': 85,\n",
       " '레몬청': 85,\n",
       " '콩자반': 85,\n",
       " '만두국': 84,\n",
       " '배추전': 84,\n",
       " '짜장면': 84,\n",
       " '고추장멸치볶음': 84,\n",
       " '동태찌개': 83,\n",
       " '청국장': 83,\n",
       " '라면': 82,\n",
       " '웨지감자': 82,\n",
       " '무조림': 82,\n",
       " '부추무침': 81,\n",
       " '느타리버섯볶음': 80,\n",
       " '바지락칼국수': 80,\n",
       " '머랭쿠키': 79,\n",
       " '닭개장': 79,\n",
       " '꼬마김밥': 79,\n",
       " '고추장찌개': 79,\n",
       " '북어국': 79,\n",
       " '라볶이': 79,\n",
       " '상추겉절이': 78,\n",
       " '고구마줄기볶음': 78,\n",
       " '안동찜닭': 77,\n",
       " '참나물무침': 77,\n",
       " '알감자조림': 77,\n",
       " '동태전': 77,\n",
       " '팽이버섯전': 76,\n",
       " '소떡소떡': 76,\n",
       " '표고버섯볶음': 76,\n",
       " '새우튀김': 76,\n",
       " '깻잎장아찌': 75,\n",
       " '차돌박이된장찌개': 75,\n",
       " '토마토스파게티': 74,\n",
       " '수제비': 74,\n",
       " '감자스프': 74,\n",
       " '이유식': 73,\n",
       " '함박스테이크': 73,\n",
       " '연어스테이크': 73,\n",
       " '궁중떡볶이': 73,\n",
       " '비빔만두': 73,\n",
       " '충무김밥': 73,\n",
       " '깍두기볶음밥': 72,\n",
       " '냉이무침': 72,\n",
       " '봉골레파스타': 72,\n",
       " '호박전': 72,\n",
       " '까르보나라': 71,\n",
       " '닭백숙': 71,\n",
       " '크림파스타': 71,\n",
       " '탕수육': 71,\n",
       " '짜장밥': 71,\n",
       " '치킨마요덮밥': 71,\n",
       " '피자': 71,\n",
       " '돼지불고기': 70,\n",
       " '꼬막비빔밥': 70,\n",
       " '리코타치즈': 70,\n",
       " '두부강정': 69,\n",
       " '오뎅볶음': 69,\n",
       " '고등어무조림': 68,\n",
       " '깻잎찜': 68,\n",
       " '감자짜글이': 67,\n",
       " '숙주나물무침': 67,\n",
       " '감자탕': 67,\n",
       " '비빔밥': 67,\n",
       " '콩비지찌개': 66,\n",
       " '돼지고기김치찜': 66,\n",
       " '간장떡볶이': 66,\n",
       " '오징어덮밥': 66,\n",
       " '식혜': 66,\n",
       " '등갈비김치찜': 65,\n",
       " '강된장': 65,\n",
       " '매생이굴국': 65,\n",
       " '새송이버섯볶음': 65,\n",
       " '감자국': 64,\n",
       " '만두': 64,\n",
       " '미역오이냉국': 64,\n",
       " '열무비빔국수': 64,\n",
       " '만두전골': 64,\n",
       " '해물파전': 63,\n",
       " '동치미': 63,\n",
       " '콩나물볶음': 63,\n",
       " '두부부침': 63,\n",
       " '볶음우동': 62,\n",
       " '육전': 62,\n",
       " '불고기': 62,\n",
       " '취나물무침': 62,\n",
       " '미나리무침': 62,\n",
       " '짜장떡볶이': 61,\n",
       " '돼지고기수육': 61,\n",
       " '빼빼로': 61,\n",
       " '스팸마요덮밥': 60,\n",
       " '돼지고기고추장찌개': 60,\n",
       " '고구마스틱': 60,\n",
       " '닭가슴살샐러드': 60,\n",
       " '견과류멸치볶음': 59,\n",
       " '간장비빔국수': 59,\n",
       " '김치수제비': 59,\n",
       " '짬뽕': 59,\n",
       " '닭강정': 59,\n",
       " '알리오올리오': 59,\n",
       " 'LA갈비': 59,\n",
       " '오이김치': 58,\n",
       " '황태국': 58,\n",
       " '참치마요덮밥': 58,\n",
       " '마늘쫑볶음': 58,\n",
       " '갈비찜': 58,\n",
       " '마늘쫑무침': 57,\n",
       " '감자수제비': 57,\n",
       " '가지튀김': 57,\n",
       " '참치김밥': 57,\n",
       " '오징어채볶음': 56,\n",
       " '냉이된장국': 56,\n",
       " '전복버터구이': 56,\n",
       " '케이크': 56,\n",
       " '오징어실채볶음': 56,\n",
       " '시래기된장국': 56,\n",
       " '알리오올리오파스타': 56,\n",
       " '계란국': 56,\n",
       " '옥수수전': 56,\n",
       " '마약토스트': 56,\n",
       " '가지전': 56,\n",
       " '부추김치': 55,\n",
       " '동파육': 55,\n",
       " '김치말이국수': 55,\n",
       " '식빵피자': 55,\n",
       " '배추김치': 55,\n",
       " '핫도그': 55,\n",
       " '두부스테이크': 55,\n",
       " '닭도리탕': 55,\n",
       " '약밥': 55,\n",
       " '두부샐러드': 54,\n",
       " '닭죽': 54,\n",
       " '고구마튀김': 54,\n",
       " '칠리새우': 54,\n",
       " '칼국수': 54,\n",
       " '티라미수': 54,\n",
       " '더덕구이': 54,\n",
       " '치즈케이크': 53,\n",
       " '쪽파김치': 53,\n",
       " '단호박스프': 53,\n",
       " '감자튀김': 52,\n",
       " '김치만두': 52,\n",
       " '토마토달걀볶음': 52,\n",
       " '깐풍만두': 52,\n",
       " '비름나물무침': 52,\n",
       " '마파두부덮밥': 52,\n",
       " '아욱된장국': 52,\n",
       " '부추겉절이': 52,\n",
       " '오징어초무침': 52,\n",
       " '갈비탕': 51,\n",
       " '에그샌드위치': 51,\n",
       " '차돌박이숙주볶음': 51,\n",
       " '잔멸치볶음': 51,\n",
       " '군고구마': 51,\n",
       " '대구탕': 51,\n",
       " '콩나물잡채': 51,\n",
       " '꽁치김치찌개': 51,\n",
       " '감바스알아히요': 51,\n",
       " '고구마라떼': 51,\n",
       " '깻잎전': 51,\n",
       " '참치샌드위치': 51,\n",
       " '오믈렛': 50,\n",
       " '세발나물무침': 50,\n",
       " '간장게장': 50,\n",
       " '김치밥': 50,\n",
       " '호박죽': 50,\n",
       " '도토리묵': 50,\n",
       " '고추장아찌': 50,\n",
       " '호박볶음': 49,\n",
       " '참치쌈장': 49,\n",
       " '어묵김밥': 49,\n",
       " '목살스테이크': 49,\n",
       " '식빵러스크': 49,\n",
       " '와플': 48,\n",
       " '마약김밥': 48,\n",
       " '닭꼬치': 48,\n",
       " '몬테크리스토샌드위치': 48,\n",
       " '총각김치': 48,\n",
       " '호떡': 48,\n",
       " '연어초밥': 48,\n",
       " '묵은지볶음': 48,\n",
       " '마약옥수수': 48,\n",
       " '과일샐러드': 47,\n",
       " '파스타': 47,\n",
       " '고등어구이': 47,\n",
       " '굴국': 47,\n",
       " '가지밥': 47,\n",
       " '어묵국': 46,\n",
       " '콩나물국밥': 46,\n",
       " '사과잼': 46,\n",
       " '크래미유부초밥': 46,\n",
       " '햄버거': 46,\n",
       " '치즈토스트': 46,\n",
       " '참치김치볶음밥': 46,\n",
       " '미나리전': 46,\n",
       " '미니핫도그': 46,\n",
       " '파인애플볶음밥': 46,\n",
       " '비빔당면': 46,\n",
       " '초코머핀': 45,\n",
       " '오이미역냉국': 45,\n",
       " '황태미역국': 45,\n",
       " '열무물김치': 45,\n",
       " '피클': 45,\n",
       " '감자옹심이': 45,\n",
       " '카스테라': 45,\n",
       " '장칼국수': 45,\n",
       " '미역초무침': 45,\n",
       " '땅콩조림': 44,\n",
       " '진미채무침': 44,\n",
       " '뚝배기불고기': 44,\n",
       " '동태탕': 44,\n",
       " '굴무침': 44,\n",
       " '달걀찜': 44,\n",
       " '오징어순대': 43,\n",
       " '치즈계란말이': 43,\n",
       " '고사리나물': 43,\n",
       " '무나물볶음': 43,\n",
       " '크림스파게티': 43,\n",
       " '삼겹살김밥': 43,\n",
       " '소고기덮밥': 43,\n",
       " '닭칼국수': 43,\n",
       " '오이부추무침': 43,\n",
       " '건새우볶음': 43,\n",
       " '김무침': 43,\n",
       " '가지구이': 42,\n",
       " '라면땅': 42,\n",
       " '돼지고기두루치기': 42,\n",
       " '상투과자': 42,\n",
       " '칵테일': 42,\n",
       " '치즈떡볶이': 42,\n",
       " '가자미조림': 42,\n",
       " '김치볶음': 42,\n",
       " '토마토파스타': 42,\n",
       " '구운계란': 42,\n",
       " '나박김치': 42,\n",
       " '식빵': 42,\n",
       " '봄동된장국': 42,\n",
       " '느타리버섯전': 42,\n",
       " '양념게장': 42,\n",
       " '고사리나물볶음': 42,\n",
       " '마늘장아찌': 42,\n",
       " '애호박국수': 42,\n",
       " '멍게비빔밥': 42,\n",
       " '스파게티': 42,\n",
       " '어묵잡채': 42,\n",
       " '스콘': 42,\n",
       " '누룽지': 41,\n",
       " '가지나물': 41,\n",
       " '오이볶음': 41,\n",
       " '모닝빵샌드위치': 41,\n",
       " '달래된장찌개': 41,\n",
       " '보쌈': 41,\n",
       " '깻잎순볶음': 41,\n",
       " '돈가스': 41,\n",
       " '달래무침': 41,\n",
       " '인절미토스트': 41,\n",
       " '머핀': 41,\n",
       " '아삭이고추된장무침': 40,\n",
       " '차슈덮밥': 40,\n",
       " '도토리묵밥': 40,\n",
       " '마약계란': 40,\n",
       " '스팸김치찌개': 40,\n",
       " '감자버터구이': 40,\n",
       " '애플파이': 40,\n",
       " '버섯전골': 40,\n",
       " '스팸김치볶음밥': 40,\n",
       " '파베초콜릿': 40,\n",
       " '쌈장': 40,\n",
       " '고구마말랭이': 40,\n",
       " '감자샐러드샌드위치': 40,\n",
       " '초콜릿': 40,\n",
       " '근대된장국': 39,\n",
       " '간장찜닭': 39,\n",
       " '참치주먹밥': 39,\n",
       " '육회': 39,\n",
       " '연어샐러드': 39,\n",
       " '김치찜': 39,\n",
       " '에그인헬': 39,\n",
       " '순대국': 39,\n",
       " '참치미역국': 39,\n",
       " '오징어채무침': 39,\n",
       " '김치부침개': 39,\n",
       " '뚝배기계란찜': 39,\n",
       " '볶음라면': 39,\n",
       " '감자고로케': 39,\n",
       " '오꼬노미야끼': 38,\n",
       " '달걀말이': 38,\n",
       " '연어덮밥': 38,\n",
       " '들깨미역국': 38,\n",
       " '콩나물냉국': 38,\n",
       " '참치전': 38,\n",
       " '달걀볶음밥': 38,\n",
       " '백순대볶음': 38,\n",
       " '오징어튀김': 38,\n",
       " '잡채밥': 38,\n",
       " '도토리묵사발': 38,\n",
       " '오뎅탕': 38,\n",
       " '계란토스트': 38,\n",
       " '단호박샐러드': 38,\n",
       " '소고기국': 38,\n",
       " '고등어김치찜': 38,\n",
       " '새우전': 38,\n",
       " '굴밥': 38,\n",
       " '오곡밥': 38,\n",
       " '연근전': 37,\n",
       " '에그타르트': 37,\n",
       " '스팸무스비': 37,\n",
       " '묵은지닭볶음탕': 37,\n",
       " '수박화채': 37,\n",
       " '무쌈말이': 37,\n",
       " '밥버거': 37,\n",
       " '등갈비찜': 37,\n",
       " '등심스테이크': 37,\n",
       " '안심스테이크': 37,\n",
       " '소고기떡국': 37,\n",
       " '짜장라면': 36,\n",
       " '까르보나라떡볶이': 36,\n",
       " '아스파라거스베이컨말이': 36,\n",
       " '감자계란국': 36,\n",
       " '소시지야채볶음': 36,\n",
       " '전찌개': 36,\n",
       " '오이고추된장무침': 36,\n",
       " '시금치프리타타': 36,\n",
       " '황태해장국': 36,\n",
       " '투움바파스타': 36,\n",
       " '황태콩나물국': 36,\n",
       " '배깍두기': 36,\n",
       " '두부찌개': 36,\n",
       " '쑥국': 36,\n",
       " '우럭매운탕': 36,\n",
       " '닭똥집볶음': 35,\n",
       " '식빵핫도그': 35,\n",
       " '가츠동': 35,\n",
       " '황태구이': 35,\n",
       " '코울슬로': 35,\n",
       " '주꾸미볶음': 35,\n",
       " '더덕무침': 35,\n",
       " '콩나물찌개': 35,\n",
       " '삼치조림': 35,\n",
       " '굴미역국': 35,\n",
       " '버섯볶음': 35,\n",
       " '황태채무침': 35,\n",
       " '꽁치조림': 35,\n",
       " '제육덮밥': 35,\n",
       " '스크램블에그': 35,\n",
       " '간장어묵볶음': 35,\n",
       " '도라지무침': 35,\n",
       " '만두그라탕': 35,\n",
       " '바지락순두부찌개': 34,\n",
       " '고구마샐러드': 34,\n",
       " '동지팥죽': 34,\n",
       " '과카몰리': 34,\n",
       " '팬케이크': 34,\n",
       " '식빵마늘빵': 34,\n",
       " '감바스': 34,\n",
       " '베이컨숙주볶음': 34,\n",
       " 'LA갈비구이': 34,\n",
       " '불고기덮밥': 34,\n",
       " '야채볶음밥': 34,\n",
       " '명란파스타': 33,\n",
       " '달래양념장': 33,\n",
       " '마카롱': 33,\n",
       " '두부전': 33,\n",
       " '카나페': 33,\n",
       " '가지나물무침': 33,\n",
       " '열무국수': 33,\n",
       " '계란말이김밥': 33,\n",
       " '고추전': 33,\n",
       " '취나물볶음': 33,\n",
       " '명엽채볶음': 33,\n",
       " '냉라면': 33,\n",
       " '시래기밥': 33,\n",
       " '오코노미야끼': 33,\n",
       " '어묵전': 33,\n",
       " '콩나물볶음밥': 33,\n",
       " '옥수수삶는법': 33,\n",
       " '냉이된장찌개': 33,\n",
       " '달래오이무침': 33,\n",
       " '알감자버터구이': 32,\n",
       " '만능간장': 32,\n",
       " '폭탄계란찜': 32,\n",
       " '초코쿠키': 32,\n",
       " '알탕': 32,\n",
       " '감자고추장찌개': 32,\n",
       " '딸기잼': 32,\n",
       " '모닝빵': 32,\n",
       " '양배추김치': 32,\n",
       " '맥앤치즈': 32,\n",
       " '팟타이': 32,\n",
       " '굴튀김': 32,\n",
       " '닭가슴살스테이크': 32,\n",
       " '마늘쫑고추장무침': 32,\n",
       " '달걀장조림': 32,\n",
       " '쥐포볶음': 32,\n",
       " '묵은지김치찜': 32,\n",
       " '오리주물럭': 32,\n",
       " '멘보샤': 32,\n",
       " '핫케이크': 31,\n",
       " '표고버섯전': 31,\n",
       " '프리타타': 31,\n",
       " '꽈리고추어묵볶음': 31,\n",
       " '쑥버무리': 31,\n",
       " '양파볶음': 31,\n",
       " '어묵국수': 31,\n",
       " '바지락미역국': 31,\n",
       " '브런치': 31,\n",
       " '고구마칩': 31,\n",
       " '참치마요주먹밥': 31,\n",
       " '소고기육전': 31,\n",
       " '아몬드멸치볶음': 31,\n",
       " '감자칩': 31,\n",
       " '김말이튀김': 31,\n",
       " '퀘사디아': 31,\n",
       " '매실청': 31,\n",
       " '피자빵': 31,\n",
       " '깐풍기': 31,\n",
       " '백김치': 31,\n",
       " '두부두루치기': 31,\n",
       " '간장치킨': 30,\n",
       " '어묵우동': 30,\n",
       " '도라지오이무침': 30,\n",
       " '전자렌지계란찜': 30,\n",
       " '등갈비구이': 30,\n",
       " '마들렌': 30,\n",
       " '배숙': 30,\n",
       " '빵': 30,\n",
       " '꽃게된장찌개': 30,\n",
       " '고구마줄기김치': 30,\n",
       " '송편': 30,\n",
       " '베이컨김치볶음밥': 30,\n",
       " '두부구이': 30,\n",
       " '부추잡채': 30,\n",
       " '돈까스김치나베': 30,\n",
       " '고추장삼겹살': 30,\n",
       " '햄치즈샌드위치': 30,\n",
       " '홍합미역국': 30,\n",
       " '파래전': 30,\n",
       " '단팥빵': 30,\n",
       " '새송이버섯장조림': 30,\n",
       " '청귤청': 30,\n",
       " '무김치': 30,\n",
       " '또띠아': 30,\n",
       " '어묵': 30,\n",
       " '애호박새우젓볶음': 30,\n",
       " '참치볶음밥': 30,\n",
       " '감자': 30,\n",
       " '호두파이': 30,\n",
       " '전': 30,\n",
       " '부침개': 30,\n",
       " '마늘쫑장아찌': 30,\n",
       " '꽈리고추무침': 30,\n",
       " '나물': 29,\n",
       " '김치': 29,\n",
       " '군만두': 29,\n",
       " '크로크무슈': 29,\n",
       " '간장돼지불고기': 29,\n",
       " '고구마스프': 29,\n",
       " '멸치주먹밥': 29,\n",
       " '마약계란장': 29,\n",
       " '된장국': 29,\n",
       " '전복삼계탕': 29,\n",
       " '바나나머핀': 29,\n",
       " '황태채볶음': 29,\n",
       " '불고기전골': 29,\n",
       " '어묵꼬치': 29,\n",
       " '해물짬뽕': 29,\n",
       " '버섯잡채': 29,\n",
       " '아이스크림': 29,\n",
       " '베이컨볶음밥': 29,\n",
       " '딸기청': 29,\n",
       " '계란샌드위치': 29,\n",
       " '아몬드쿠키': 29,\n",
       " '돌나물무침': 29,\n",
       " '레몬에이드': 29,\n",
       " '생강청': 28,\n",
       " '비빔냉면': 28,\n",
       " '장어구이': 28,\n",
       " '골뱅이소면무침': 28,\n",
       " '비지찌개': 28,\n",
       " '간장감자조림': 28,\n",
       " '파전': 28,\n",
       " '전복손질': 28,\n",
       " '오리불고기': 28,\n",
       " '곤드레나물밥': 28,\n",
       " '게살볶음밥': 28,\n",
       " '수정과': 28,\n",
       " '토마토소스': 28,\n",
       " '번데기탕': 28,\n",
       " '부추부침개': 28,\n",
       " '떠먹는피자': 28,\n",
       " '오이깍두기': 28,\n",
       " '김치제육볶음': 28,\n",
       " '알타리김치': 28,\n",
       " '감자샌드위치': 28,\n",
       " '두부': 28,\n",
       " '당근케이크': 28,\n",
       " '오징어국': 28,\n",
       " '아보카도명란비빔밥': 28,\n",
       " '밥전': 28,\n",
       " '고추장불고기': 28,\n",
       " '약식': 28,\n",
       " '돈까스덮밥': 28,\n",
       " '쑥전': 28,\n",
       " '주스': 28,\n",
       " '양배추쌈': 28,\n",
       " '묵은지등갈비찜': 28,\n",
       " '맛간장': 28,\n",
       " '숙주나물': 28,\n",
       " '고구마피자': 28,\n",
       " '약고추장': 27,\n",
       " '간장두부조림': 27,\n",
       " '귤청': 27,\n",
       " '모듬전': 27,\n",
       " '쏘야볶음': 27,\n",
       " '마늘볶음밥': 27,\n",
       " '콩나물비빔밥': 27,\n",
       " '얼갈이된장국': 27,\n",
       " '소고기초밥': 27,\n",
       " '매운갈비찜': 27,\n",
       " '매생이전': 27,\n",
       " '바싹불고기': 27,\n",
       " '녹두빈대떡': 27,\n",
       " '방풍나물무침': 27,\n",
       " '우렁강된장': 27,\n",
       " '쇠고기미역국': 27,\n",
       " '간장계란밥': 27,\n",
       " '고추장진미채볶음': 27,\n",
       " '토마토주스': 27,\n",
       " '조기조림': 27,\n",
       " '새송이버섯전': 27,\n",
       " '감자삶는법': 27,\n",
       " '코다리찜': 27,\n",
       " '메밀소바': 27,\n",
       " '김장김치': 27,\n",
       " '봄동무침': 26,\n",
       " '삼겹살덮밥': 26,\n",
       " '소고기된장찌개': 26,\n",
       " '해파리냉채': 26,\n",
       " '삼겹살김치찜': 26,\n",
       " '땡초김밥': 26,\n",
       " '양갱': 26,\n",
       " '딸기샌드위치': 26,\n",
       " '계란덮밥': 26,\n",
       " '샤브샤브': 26,\n",
       " '군밤': 26,\n",
       " '삼겹살': 26,\n",
       " '닭봉구이': 26,\n",
       " '오일파스타': 26,\n",
       " '묵은지고등어조림': 26,\n",
       " '곤드레밥': 26,\n",
       " '볶음김치': 26,\n",
       " '쌈밥': 26,\n",
       " '초계국수': 26,\n",
       " '새우장': 26,\n",
       " '콩나물김치국': 26,\n",
       " '꽃게찜': 26,\n",
       " '무스비': 26,\n",
       " '가지덮밥': 26,\n",
       " '달걀샌드위치': 26,\n",
       " '우동': 26,\n",
       " '장어덮밥': 26,\n",
       " '바지락술찜': 26,\n",
       " '양배추샐러드': 26,\n",
       " '돼지고기덮밥': 25,\n",
       " '돼지등갈비찜': 25,\n",
       " '크림새우': 25,\n",
       " '컵케이크': 25,\n",
       " '어묵조림': 25,\n",
       " '버섯덮밥': 25,\n",
       " '비빔국수양념장': 25,\n",
       " '후라이드치킨': 25,\n",
       " '매실장아찌': 25,\n",
       " '무전': 25,\n",
       " '전복미역국': 25,\n",
       " '소시지빵': 25,\n",
       " '나박물김치': 25,\n",
       " '치즈스틱': 25,\n",
       " '해물부추전': 25,\n",
       " '짬뽕라면': 25,\n",
       " '굴떡국': 25,\n",
       " '피자토스트': 25,\n",
       " '카레덮밥': 25,\n",
       " '고사리볶음': 25,\n",
       " '뱅쇼': 25,\n",
       " '우렁된장찌개': 25,\n",
       " '들깨칼국수': 25,\n",
       " '해물순두부찌개': 25,\n",
       " '청포묵무침': 25,\n",
       " '톳두부무침': 25,\n",
       " '고구마순볶음': 24,\n",
       " '양배추샌드위치': 24,\n",
       " '스키야키': 24,\n",
       " '고추된장무침': 24,\n",
       " '밥': 24,\n",
       " '도라지볶음': 24,\n",
       " '소세지빵': 24,\n",
       " '우유식빵': 24,\n",
       " '국수': 24,\n",
       " '고르곤졸라피자': 24,\n",
       " '장어탕': 24,\n",
       " '아이싱쿠키': 24,\n",
       " '나물비빔밥': 24,\n",
       " '러스크': 24,\n",
       " '치킨스테이크': 24,\n",
       " '묵은지감자탕': 24,\n",
       " '돈가스덮밥': 24,\n",
       " '김장아찌': 24,\n",
       " '찹쌀탕수육': 24,\n",
       " '닭가슴살장조림': 24,\n",
       " '닭날개구이': 24,\n",
       " '오징어부추전': 24,\n",
       " '열무얼갈이김치': 24,\n",
       " '두부간장조림': 24,\n",
       " '김치칼국수': 24,\n",
       " '에그베네딕트': 24,\n",
       " '짜장': 24,\n",
       " '팥빙수': 24,\n",
       " '대파김치': 24,\n",
       " '병어조림': 24,\n",
       " '참치계란말이': 24,\n",
       " '오트밀쿠키': 24,\n",
       " '치즈볼': 24,\n",
       " '소고기메추리알장조림': 24,\n",
       " '청경채무침': 24,\n",
       " '크림떡볶이': 24,\n",
       " '계란만두': 24,\n",
       " '콘샐러드': 24,\n",
       " '콩불': 24,\n",
       " '해물누룽지탕': 24,\n",
       " '계란탕': 24,\n",
       " '김밥전': 24,\n",
       " '알밥': 24,\n",
       " '매운등갈비찜': 23,\n",
       " '소고기고추장볶음': 23,\n",
       " '초코브라우니': 23,\n",
       " '버터링쿠키': 23,\n",
       " '시래기나물': 23,\n",
       " '고추장돼지불고기': 23,\n",
       " '카레우동': 23,\n",
       " '달고나커피': 23,\n",
       " '크림치즈머핀': 23,\n",
       " '비빔면': 23,\n",
       " '마늘바게트': 23,\n",
       " '햄치즈토스트': 23,\n",
       " '대패삼겹살숙주볶음': 23,\n",
       " '냉우동': 23,\n",
       " '쇠고기무국': 23,\n",
       " '치킨까스': 23,\n",
       " '돈까스김밥': 23,\n",
       " '자장면': 23,\n",
       " '닭볶음': 23,\n",
       " '소고기찹스테이크': 23,\n",
       " '닭다리구이': 23,\n",
       " '매운어묵볶음': 23,\n",
       " '인절미': 23,\n",
       " '닭찜': 23,\n",
       " '들깨수제비': 23,\n",
       " '물김치': 23,\n",
       " '누드김밥': 23,\n",
       " '하이라이스': 23,\n",
       " '미트볼': 23,\n",
       " '명이나물장아찌': 23,\n",
       " '양파덮밥': 23,\n",
       " '쪽파무침': 23,\n",
       " '식빵팝콘': 23,\n",
       " '해물된장찌개': 23,\n",
       " '옥수수': 23,\n",
       " '우엉볶음': 23,\n",
       " '옥수수버터구이': 23,\n",
       " '소불고기덮밥': 23,\n",
       " '우렁쌈장': 23,\n",
       " '생선까스': 22,\n",
       " '대파라면': 22,\n",
       " '아귀찜': 22,\n",
       " '고구마빵': 22,\n",
       " '간장진미채볶음': 22,\n",
       " '양미리조림': 22,\n",
       " '삼겹살구이': 22,\n",
       " '블루베리잼': 22,\n",
       " '고추장어묵볶음': 22,\n",
       " '고구마': 22,\n",
       " '스팸주먹밥': 22,\n",
       " '닭가슴살덮밥': 22,\n",
       " '라자냐': 22,\n",
       " '오징어찌개': 22,\n",
       " '간장새우장': 22,\n",
       " '무생채무침': 22,\n",
       " '오뎅국': 22,\n",
       " '새우부추전': 22,\n",
       " '굴국밥': 22,\n",
       " '냉이된장무침': 22,\n",
       " '돼지등뼈찜': 22,\n",
       " '갈치구이': 22,\n",
       " '느타리버섯무침': 22,\n",
       " '로스트치킨': 22,\n",
       " '알배추겉절이': 22,\n",
       " '참치밥전': 22,\n",
       " '새우젓호박볶음': 22,\n",
       " '바질페스토': 22,\n",
       " '시나몬롤': 22,\n",
       " '두부강된장': 22,\n",
       " '수육삶는법': 22,\n",
       " '요거트': 22,\n",
       " '파프리카잡채': 22,\n",
       " '녹두전': 22,\n",
       " '닭계장': 22,\n",
       " '삼겹살김치볶음밥': 22,\n",
       " '표고버섯밥': 22,\n",
       " '어리굴젓': 22,\n",
       " '양배추물김치': 22,\n",
       " '아코디언감자': 22,\n",
       " '시래기나물볶음': 22,\n",
       " '치킨무': 22,\n",
       " '가리비찜': 22,\n",
       " '쌀국수': 22,\n",
       " '베트남쌀국수': 22,\n",
       " '달래장': 22,\n",
       " '삼겹살수육': 22,\n",
       " '버거': 22,\n",
       " '마카로니샐러드': 22,\n",
       " '조기매운탕': 22,\n",
       " '초계탕': 22,\n",
       " '베이컨떡말이': 22,\n",
       " '브로콜리': 22,\n",
       " '골뱅이소면': 21,\n",
       " '복숭아통조림': 21,\n",
       " '소고기뭇국': 21,\n",
       " '도넛': 21,\n",
       " '하트맛살전': 21,\n",
       " '치킨텐더': 21,\n",
       " '초고추장': 21,\n",
       " '감자그라탕': 21,\n",
       " '호박잎쌈밥': 21,\n",
       " '파채무침': 21,\n",
       " '황태무국': 21,\n",
       " '계란말이밥': 21,\n",
       " '장조림': 21,\n",
       " '떡잡채': 21,\n",
       " '즉석떡볶이': 21,\n",
       " '밥피자': 21,\n",
       " '차돌된장찌개': 21,\n",
       " '딸기생크림케이크': 21,\n",
       " '소고기배추된장국': 21,\n",
       " '김부각': 21,\n",
       " '단호박조림': 21,\n",
       " '자몽청': 21,\n",
       " '쑥된장국': 21,\n",
       " '무밥': 21,\n",
       " '얼갈이김치': 21,\n",
       " '김치국': 21,\n",
       " '우거지된장국': 21,\n",
       " '가지찜': 21,\n",
       " '비엔나소세지볶음': 21,\n",
       " '닭봉조림': 21,\n",
       " '양파김치': 21,\n",
       " '밤조림': 21,\n",
       " '닭발': 21,\n",
       " '불고기샌드위치': 21,\n",
       " '열무비빔밥': 21,\n",
       " '블루베리머핀': 21,\n",
       " '아욱국': 21,\n",
       " '불고기김밥': 21,\n",
       " '방울토마토마리네이드': 21,\n",
       " '오야꼬동': 21,\n",
       " '리조또': 21,\n",
       " '카레목살스테이크': 21,\n",
       " '취나물밥': 21,\n",
       " '계란': 21,\n",
       " '버터쿠키': 21,\n",
       " '취나물된장무침': 21,\n",
       " '바지락국': 21,\n",
       " '무말랭이': 21,\n",
       " '석박지': 21,\n",
       " '치즈등갈비': 21,\n",
       " '오징어김치전': 21,\n",
       " '김국': 21,\n",
       " '라따뚜이': 21,\n",
       " '토마토계란볶음': 21,\n",
       " '감자크로켓': 21,\n",
       " '돼지갈비김치찜': 21,\n",
       " '양념치킨': 20,\n",
       " '설렁탕깍두기': 20,\n",
       " '무장아찌': 20,\n",
       " '바나나튀김': 20,\n",
       " '간짜장': 20,\n",
       " '참치김치볶음': 20,\n",
       " '연근튀김': 20,\n",
       " '콥샐러드': 20,\n",
       " '문어숙회': 20,\n",
       " '공심채볶음': 20,\n",
       " '우유빙수': 20,\n",
       " '닭한마리': 20,\n",
       " '고갈비': 20,\n",
       " '깐쇼새우': 20,\n",
       " '가지피자': 20,\n",
       " '두부유부초밥': 20,\n",
       " '고추장아찌무침': 20,\n",
       " '츄러스': 20,\n",
       " '두릅장아찌': 20,\n",
       " '전복밥': 20,\n",
       " '무국': 20,\n",
       " '떡': 20,\n",
       " '갓김치': 20,\n",
       " '된장라면': 20,\n",
       " '카레볶음밥': 20,\n",
       " '규동': 20,\n",
       " '파운드케이크': 20,\n",
       " '대패삼겹살덮밥': 20,\n",
       " '참치김치덮밥': 20,\n",
       " '소고기버섯전골': 20,\n",
       " '명란계란말이': 20,\n",
       " '참치비빔밥': 20,\n",
       " '새우구이': 20,\n",
       " '떡강정': 20,\n",
       " '햄김치볶음밥': 20,\n",
       " '메밀전병': 20,\n",
       " '두부콩국수': 20,\n",
       " '맛살계란말이': 20,\n",
       " '닭가슴살': 20,\n",
       " '계란김밥': 20,\n",
       " '불고기버거': 20,\n",
       " '닭가슴살볶음밥': 20,\n",
       " '비빔라면': 20,\n",
       " '사골떡국': 20,\n",
       " '양송이스프': 20,\n",
       " '고구마샌드위치': 20,\n",
       " '햄에그샌드위치': 20,\n",
       " '고추기름': 20,\n",
       " '돼지고기김치볶음': 20,\n",
       " '귤잼': 20,\n",
       " '시금치나물무침': 20,\n",
       " '스팸김밥': 20,\n",
       " '계란초밥': 20,\n",
       " '삼색나물': 20,\n",
       " '수란': 20,\n",
       " '배추물김치': 20,\n",
       " '토마토쥬스': 20,\n",
       " '롤샌드위치': 20,\n",
       " '훈제오리부추무침': 20,\n",
       " '파절이': 20,\n",
       " '검은콩국수': 20,\n",
       " '애호박부침개': 19,\n",
       " '파스타샐러드': 19,\n",
       " '오코노미야키': 19,\n",
       " '쑥개떡': 19,\n",
       " '짜파구리': 19,\n",
       " '호박나물': 19,\n",
       " '봄동된장무침': 19,\n",
       " '야채전': 19,\n",
       " '가자미구이': 19,\n",
       " '롤케이크': 19,\n",
       " '봄동전': 19,\n",
       " '만두강정': 19,\n",
       " '메밀국수': 19,\n",
       " '명란젓무침': 19,\n",
       " '치즈김밥': 19,\n",
       " '탕수만두': 19,\n",
       " '대패삼겹살볶음': 19,\n",
       " '고구마머핀': 19,\n",
       " ...}"
      ]
     },
     "execution_count": 43,
     "metadata": {},
     "output_type": "execute_result"
    }
   ],
   "source": [
    "freq"
   ]
  },
  {
   "cell_type": "code",
   "execution_count": 44,
   "id": "9b9dff30",
   "metadata": {},
   "outputs": [],
   "source": [
    "wordcloud = WordCloud(\n",
    "font_path=\"C:\\Windows\\Fonts\\gulim.ttc\",\n",
    "    background_color = \"white\",\n",
    "width = 800,\n",
    "height = 800,\n",
    "mask = mask\n",
    ")"
   ]
  },
  {
   "cell_type": "code",
   "execution_count": 45,
   "id": "f0d6a895",
   "metadata": {},
   "outputs": [],
   "source": [
    "food_name = wordcloud.generate_from_frequencies(freq)\n",
    "array = food_name.to_array()"
   ]
  },
  {
   "cell_type": "markdown",
   "id": "4b7ba8db",
   "metadata": {},
   "source": [
    "#### 많은 레시피를 가진 메뉴를 한눈에 확인 가능"
   ]
  },
  {
   "cell_type": "code",
   "execution_count": 46,
   "id": "b9b68da3",
   "metadata": {},
   "outputs": [
    {
     "data": {
      "image/png": "[encoded data removed]",
      "text/plain": [
       "<Figure size 720x720 with 1 Axes>"
      ]
     },
     "metadata": {
      "needs_background": "light"
     },
     "output_type": "display_data"
    }
   ],
   "source": [
    "plt.figure(figsize=(10,10))\n",
    "plt.imshow(array, interpolation =\"bilinear\")\n",
    "plt.axis(\"off\")\n",
    "plt.show()"
   ]
  },
  {
   "cell_type": "code",
   "execution_count": 47,
   "id": "d3ba41eb",
   "metadata": {},
   "outputs": [
    {
     "data": {
      "text/html": [
       "<div>\n",
       "<style scoped>\n",
       "    .dataframe tbody tr th:only-of-type {\n",
       "        vertical-align: middle;\n",
       "    }\n",
       "\n",
       "    .dataframe tbody tr th {\n",
       "        vertical-align: top;\n",
       "    }\n",
       "\n",
       "    .dataframe thead th {\n",
       "        text-align: right;\n",
       "    }\n",
       "</style>\n",
       "<table border=\"1\" class=\"dataframe\">\n",
       "  <thead>\n",
       "    <tr style=\"text-align: right;\">\n",
       "      <th></th>\n",
       "      <th>food_name</th>\n",
       "      <th>counts</th>\n",
       "    </tr>\n",
       "  </thead>\n",
       "  <tbody>\n",
       "    <tr>\n",
       "      <th>0</th>\n",
       "      <td>두부조림</td>\n",
       "      <td>435</td>\n",
       "    </tr>\n",
       "  </tbody>\n",
       "</table>\n",
       "</div>"
      ],
      "text/plain": [
       "  food_name  counts\n",
       "0      두부조림     435"
      ]
     },
     "execution_count": 47,
     "metadata": {},
     "output_type": "execute_result"
    }
   ],
   "source": [
    "fc[fc['food_name'] == '두부조림']"
   ]
  },
  {
   "cell_type": "markdown",
   "id": "95ca3194",
   "metadata": {},
   "source": [
    "#### 가장 많은 레시피를 가진 '두부조림'의 레시피들 중 추천수가 높은 기준으로 데이터 확인"
   ]
  },
  {
   "cell_type": "code",
   "execution_count": 48,
   "id": "85686bc3",
   "metadata": {},
   "outputs": [
    {
     "data": {
      "text/html": [
       "<div>\n",
       "<style scoped>\n",
       "    .dataframe tbody tr th:only-of-type {\n",
       "        vertical-align: middle;\n",
       "    }\n",
       "\n",
       "    .dataframe tbody tr th {\n",
       "        vertical-align: top;\n",
       "    }\n",
       "\n",
       "    .dataframe thead th {\n",
       "        text-align: right;\n",
       "    }\n",
       "</style>\n",
       "<table border=\"1\" class=\"dataframe\">\n",
       "  <thead>\n",
       "    <tr style=\"text-align: right;\">\n",
       "      <th></th>\n",
       "      <th>RCP_SNO</th>\n",
       "      <th>RCP_TTL</th>\n",
       "      <th>CKG_NM</th>\n",
       "      <th>RGTR_ID</th>\n",
       "      <th>RGTR_NM</th>\n",
       "      <th>INQ_CNT</th>\n",
       "      <th>RCMM_CNT</th>\n",
       "      <th>SRAP_CNT</th>\n",
       "      <th>CKG_MTH_ACTO_NM</th>\n",
       "      <th>CKG_STA_ACTO_NM</th>\n",
       "      <th>CKG_MTRL_ACTO_NM</th>\n",
       "      <th>CKG_KND_ACTO_NM</th>\n",
       "      <th>CKG_IPDC</th>\n",
       "      <th>CKG_MTRL_CN</th>\n",
       "      <th>CKG_INBUN_NM</th>\n",
       "      <th>CKG_DODF_NM</th>\n",
       "      <th>CKG_TIME_NM</th>\n",
       "      <th>FIRST_REG_DT</th>\n",
       "    </tr>\n",
       "  </thead>\n",
       "  <tbody>\n",
       "    <tr>\n",
       "      <th>15451</th>\n",
       "      <td>4588059</td>\n",
       "      <td>고소한 두부조림</td>\n",
       "      <td>두부조림</td>\n",
       "      <td>dollshouse</td>\n",
       "      <td>돌하우스</td>\n",
       "      <td>467418</td>\n",
       "      <td>325</td>\n",
       "      <td>13157</td>\n",
       "      <td>조림</td>\n",
       "      <td>일상</td>\n",
       "      <td>콩/견과류</td>\n",
       "      <td>밑반찬</td>\n",
       "      <td>짭조름 매콤한 두부조림 만드는 법 알려드립니다.</td>\n",
       "      <td>[재료] 두부 1모| 식용유 약간 [양념] 진간장 5스푼| 설탕 1/2스푼| 고춧가...</td>\n",
       "      <td>2인분</td>\n",
       "      <td>초급</td>\n",
       "      <td>30분이내</td>\n",
       "      <td>2.013000e+13</td>\n",
       "    </tr>\n",
       "    <tr>\n",
       "      <th>13823</th>\n",
       "      <td>4102401</td>\n",
       "      <td>두부조림 만드는법</td>\n",
       "      <td>두부조림</td>\n",
       "      <td>dollshouse</td>\n",
       "      <td>돌하우스</td>\n",
       "      <td>222588</td>\n",
       "      <td>189</td>\n",
       "      <td>11376</td>\n",
       "      <td>조림</td>\n",
       "      <td>일상</td>\n",
       "      <td>콩/견과류</td>\n",
       "      <td>밑반찬</td>\n",
       "      <td>영양만점 두부를 이용해 두부조림을 해봅시다.</td>\n",
       "      <td>[재료] 두부 290g [양념] 진간장 7스푼| 송송썰은파 3스푼| 다진마늘 1/3...</td>\n",
       "      <td>2인분</td>\n",
       "      <td>초급</td>\n",
       "      <td>30분이내</td>\n",
       "      <td>2.012100e+13</td>\n",
       "    </tr>\n",
       "    <tr>\n",
       "      <th>52591</th>\n",
       "      <td>6864036</td>\n",
       "      <td>초보 주부도 쉽게 만들어 먹는 두부조림</td>\n",
       "      <td>두부조림</td>\n",
       "      <td>kjo9891</td>\n",
       "      <td>집밥아줌마</td>\n",
       "      <td>30715</td>\n",
       "      <td>148</td>\n",
       "      <td>1105</td>\n",
       "      <td>조림</td>\n",
       "      <td>일상</td>\n",
       "      <td>콩/견과류</td>\n",
       "      <td>밑반찬</td>\n",
       "      <td>안녕하세요 저희 가족 두부를 좋아해 자주 만들어 먹는 두부조림을 오늘도 맛있고 스피...</td>\n",
       "      <td>[재료] 두부 1/2모| 대파 1/4개| 소금 3꼬집 [양념] 마늘 1/3수저| 진...</td>\n",
       "      <td>2인분</td>\n",
       "      <td>아무나</td>\n",
       "      <td>30분이내</td>\n",
       "      <td>2.017000e+13</td>\n",
       "    </tr>\n",
       "  </tbody>\n",
       "</table>\n",
       "</div>"
      ],
      "text/plain": [
       "       RCP_SNO                RCP_TTL CKG_NM     RGTR_ID RGTR_NM  INQ_CNT  \\\n",
       "15451  4588059               고소한 두부조림   두부조림  dollshouse    돌하우스   467418   \n",
       "13823  4102401              두부조림 만드는법   두부조림  dollshouse    돌하우스   222588   \n",
       "52591  6864036  초보 주부도 쉽게 만들어 먹는 두부조림   두부조림     kjo9891   집밥아줌마    30715   \n",
       "\n",
       "       RCMM_CNT  SRAP_CNT CKG_MTH_ACTO_NM CKG_STA_ACTO_NM CKG_MTRL_ACTO_NM  \\\n",
       "15451       325     13157              조림              일상            콩/견과류   \n",
       "13823       189     11376              조림              일상            콩/견과류   \n",
       "52591       148      1105              조림              일상            콩/견과류   \n",
       "\n",
       "      CKG_KND_ACTO_NM                                           CKG_IPDC  \\\n",
       "15451             밑반찬                         짭조름 매콤한 두부조림 만드는 법 알려드립니다.   \n",
       "13823             밑반찬                           영양만점 두부를 이용해 두부조림을 해봅시다.   \n",
       "52591             밑반찬  안녕하세요 저희 가족 두부를 좋아해 자주 만들어 먹는 두부조림을 오늘도 맛있고 스피...   \n",
       "\n",
       "                                             CKG_MTRL_CN CKG_INBUN_NM  \\\n",
       "15451  [재료] 두부 1모| 식용유 약간 [양념] 진간장 5스푼| 설탕 1/2스푼| 고춧가...          2인분   \n",
       "13823  [재료] 두부 290g [양념] 진간장 7스푼| 송송썰은파 3스푼| 다진마늘 1/3...          2인분   \n",
       "52591  [재료] 두부 1/2모| 대파 1/4개| 소금 3꼬집 [양념] 마늘 1/3수저| 진...          2인분   \n",
       "\n",
       "      CKG_DODF_NM CKG_TIME_NM  FIRST_REG_DT  \n",
       "15451          초급       30분이내  2.013000e+13  \n",
       "13823          초급       30분이내  2.012100e+13  \n",
       "52591         아무나       30분이내  2.017000e+13  "
      ]
     },
     "execution_count": 48,
     "metadata": {},
     "output_type": "execute_result"
    }
   ],
   "source": [
    "df1[df1['CKG_NM'] == '두부조림'].sort_values('RCMM_CNT',ascending=False).head(3)"
   ]
  },
  {
   "cell_type": "markdown",
   "id": "0046e1d1",
   "metadata": {},
   "source": [
    "## 컨텐츠 기반 필터링\n",
    "### 재료 유사도를 통한 추천 메뉴"
   ]
  },
  {
   "cell_type": "code",
   "execution_count": 49,
   "id": "26a23a22",
   "metadata": {},
   "outputs": [],
   "source": [
    "df3 = df3.dropna()"
   ]
  },
  {
   "cell_type": "code",
   "execution_count": 50,
   "id": "aa80cfba",
   "metadata": {},
   "outputs": [
    {
     "data": {
      "text/html": [
       "<div>\n",
       "<style scoped>\n",
       "    .dataframe tbody tr th:only-of-type {\n",
       "        vertical-align: middle;\n",
       "    }\n",
       "\n",
       "    .dataframe tbody tr th {\n",
       "        vertical-align: top;\n",
       "    }\n",
       "\n",
       "    .dataframe thead th {\n",
       "        text-align: right;\n",
       "    }\n",
       "</style>\n",
       "<table border=\"1\" class=\"dataframe\">\n",
       "  <thead>\n",
       "    <tr style=\"text-align: right;\">\n",
       "      <th></th>\n",
       "      <th>name</th>\n",
       "      <th>view</th>\n",
       "      <th>recomm</th>\n",
       "      <th>cook_m</th>\n",
       "      <th>purpo</th>\n",
       "      <th>kinds</th>\n",
       "      <th>ingred</th>\n",
       "      <th>level</th>\n",
       "    </tr>\n",
       "  </thead>\n",
       "  <tbody>\n",
       "    <tr>\n",
       "      <th>0</th>\n",
       "      <td>뚝배기두부조림</td>\n",
       "      <td>355493</td>\n",
       "      <td>2270</td>\n",
       "      <td>조림</td>\n",
       "      <td>영양식</td>\n",
       "      <td>콩/견과류</td>\n",
       "      <td>[재료] 두부 1모| 양파 1개| 달걀 1~2개 [양념장] 다진마늘 2T| 청양고추...</td>\n",
       "      <td>아무나</td>\n",
       "    </tr>\n",
       "    <tr>\n",
       "      <th>1</th>\n",
       "      <td>차돌박이숙주볶음</td>\n",
       "      <td>649057</td>\n",
       "      <td>2021</td>\n",
       "      <td>볶음</td>\n",
       "      <td>술안주</td>\n",
       "      <td>소고기</td>\n",
       "      <td>[필수 재료] 차돌박이 300g| 숙주 200g| 송송 썬 쪽파 2T [양념 재료]...</td>\n",
       "      <td>아무나</td>\n",
       "    </tr>\n",
       "    <tr>\n",
       "      <th>2</th>\n",
       "      <td>달걀밥</td>\n",
       "      <td>447383</td>\n",
       "      <td>1763</td>\n",
       "      <td>기타</td>\n",
       "      <td>초스피드</td>\n",
       "      <td>달걀/유제품</td>\n",
       "      <td>[필수 재료] 밥 1/2공기| 달걀 2개| 물 100ml| 햄 or 스팸 1/4개(...</td>\n",
       "      <td>아무나</td>\n",
       "    </tr>\n",
       "    <tr>\n",
       "      <th>3</th>\n",
       "      <td>비빔국수</td>\n",
       "      <td>507526</td>\n",
       "      <td>1730</td>\n",
       "      <td>비빔</td>\n",
       "      <td>초스피드</td>\n",
       "      <td>밀가루</td>\n",
       "      <td>[재료] 소면 2인분 [양념장] 다진 마늘 1/2큰 술| 맛술 1큰 술| 고추장 2...</td>\n",
       "      <td>초급</td>\n",
       "    </tr>\n",
       "    <tr>\n",
       "      <th>4</th>\n",
       "      <td>오이무침</td>\n",
       "      <td>323274</td>\n",
       "      <td>1499</td>\n",
       "      <td>무침</td>\n",
       "      <td>일상</td>\n",
       "      <td>채소류</td>\n",
       "      <td>[오이무침 재료] 오이 4개| 소금 1/2큰술| 까나리액젓 1큰술| 설탕 1/3큰술...</td>\n",
       "      <td>아무나</td>\n",
       "    </tr>\n",
       "  </tbody>\n",
       "</table>\n",
       "</div>"
      ],
      "text/plain": [
       "       name    view  recomm cook_m purpo   kinds  \\\n",
       "0   뚝배기두부조림  355493    2270     조림   영양식   콩/견과류   \n",
       "1  차돌박이숙주볶음  649057    2021     볶음   술안주     소고기   \n",
       "2       달걀밥  447383    1763     기타  초스피드  달걀/유제품   \n",
       "3      비빔국수  507526    1730     비빔  초스피드     밀가루   \n",
       "4      오이무침  323274    1499     무침    일상     채소류   \n",
       "\n",
       "                                              ingred level  \n",
       "0  [재료] 두부 1모| 양파 1개| 달걀 1~2개 [양념장] 다진마늘 2T| 청양고추...   아무나  \n",
       "1  [필수 재료] 차돌박이 300g| 숙주 200g| 송송 썬 쪽파 2T [양념 재료]...   아무나  \n",
       "2  [필수 재료] 밥 1/2공기| 달걀 2개| 물 100ml| 햄 or 스팸 1/4개(...   아무나  \n",
       "3  [재료] 소면 2인분 [양념장] 다진 마늘 1/2큰 술| 맛술 1큰 술| 고추장 2...    초급  \n",
       "4  [오이무침 재료] 오이 4개| 소금 1/2큰술| 까나리액젓 1큰술| 설탕 1/3큰술...   아무나  "
      ]
     },
     "execution_count": 50,
     "metadata": {},
     "output_type": "execute_result"
    }
   ],
   "source": [
    "df3.head()"
   ]
  },
  {
   "cell_type": "code",
   "execution_count": 51,
   "id": "fda1c035",
   "metadata": {},
   "outputs": [
    {
     "data": {
      "text/plain": [
       "(4002, 8)"
      ]
     },
     "execution_count": 51,
     "metadata": {},
     "output_type": "execute_result"
    }
   ],
   "source": [
    "df3.shape"
   ]
  },
  {
   "cell_type": "code",
   "execution_count": 52,
   "id": "06936e05",
   "metadata": {},
   "outputs": [],
   "source": [
    "df3 = df3.reset_index(drop=True)"
   ]
  },
  {
   "cell_type": "markdown",
   "id": "335dc42d",
   "metadata": {},
   "source": [
    "### 재료(ingred) 내의 특수문자, 숫자, 불필요한 단어 제거"
   ]
  },
  {
   "cell_type": "code",
   "execution_count": 53,
   "id": "85c83ee7",
   "metadata": {},
   "outputs": [
    {
     "data": {
      "text/plain": [
       "0    [재료] 두부 1모| 양파 1개| 달걀 1~2개 [양념장] 다진마늘 2T| 청양고추...\n",
       "1    [필수 재료] 차돌박이 300g| 숙주 200g| 송송 썬 쪽파 2T [양념 재료]...\n",
       "2    [필수 재료] 밥 1/2공기| 달걀 2개| 물 100ml| 햄 or 스팸 1/4개(...\n",
       "Name: ingred, dtype: object"
      ]
     },
     "execution_count": 53,
     "metadata": {},
     "output_type": "execute_result"
    }
   ],
   "source": [
    "df3['ingred'].head(3)"
   ]
  },
  {
   "cell_type": "code",
   "execution_count": 54,
   "id": "e641033c",
   "metadata": {},
   "outputs": [
    {
     "data": {
      "text/plain": [
       "'['"
      ]
     },
     "execution_count": 54,
     "metadata": {},
     "output_type": "execute_result"
    }
   ],
   "source": [
    "df3['ingred'].str[0].loc[0]"
   ]
  },
  {
   "cell_type": "code",
   "execution_count": 55,
   "id": "3421193f",
   "metadata": {},
   "outputs": [],
   "source": [
    "df3['ingred'] = df3['ingred'].str.replace(pat=r'[^\\w]',repl=r' ',regex=True)"
   ]
  },
  {
   "cell_type": "code",
   "execution_count": 56,
   "id": "665ebc27",
   "metadata": {},
   "outputs": [
    {
     "data": {
      "text/plain": [
       "0     재료  두부 1모  양파 1개  달걀 1 2개  양념장  다진마늘 2T  청양고추...\n",
       "1     필수 재료  차돌박이 300g  숙주 200g  송송 썬 쪽파 2T  양념 재료 ...\n",
       "2     필수 재료  밥 1 2공기  달걀 2개  물 100ml  햄 or 스팸 1 4개 ...\n",
       "Name: ingred, dtype: object"
      ]
     },
     "execution_count": 56,
     "metadata": {},
     "output_type": "execute_result"
    }
   ],
   "source": [
    "df3['ingred'].head(3)"
   ]
  },
  {
   "cell_type": "code",
   "execution_count": 57,
   "id": "543468c7",
   "metadata": {},
   "outputs": [],
   "source": [
    "df3['ingred']=df3['ingred'].str.replace(pat=r'[0-9]', repl= r'', regex=True)"
   ]
  },
  {
   "cell_type": "code",
   "execution_count": 58,
   "id": "1779e8a8",
   "metadata": {},
   "outputs": [],
   "source": [
    "df3['ingred']= df3['ingred'].str.replace(pat=r'[a-z]', repl= r'', regex=True)"
   ]
  },
  {
   "cell_type": "code",
   "execution_count": 59,
   "id": "1cf8ce25",
   "metadata": {},
   "outputs": [],
   "source": [
    "df3['ingred']=df3['ingred'].str.replace(pat=r'[A-Z]', repl= r'', regex=True)"
   ]
  },
  {
   "cell_type": "code",
   "execution_count": 60,
   "id": "a15f1265",
   "metadata": {},
   "outputs": [
    {
     "data": {
      "text/plain": [
       "0     재료  두부 모  양파 개  달걀  개  양념장  다진마늘   청양고추  개  고...\n",
       "1     필수 재료  차돌박이   숙주   송송 썬 쪽파   양념 재료  간장   굴소스 ...\n",
       "2     필수 재료  밥  공기  달걀 개  물   햄  스팸  개    다진 대파   피...\n",
       "Name: ingred, dtype: object"
      ]
     },
     "execution_count": 60,
     "metadata": {},
     "output_type": "execute_result"
    }
   ],
   "source": [
    "df3['ingred'].head(3)"
   ]
  },
  {
   "cell_type": "code",
   "execution_count": 61,
   "id": "32fbac86",
   "metadata": {},
   "outputs": [],
   "source": [
    "df3['ingred']= df3['ingred'].str.replace('개','')\n",
    "df3['ingred']= df3['ingred'].str.replace('필수','')\n",
    "df3['ingred']= df3['ingred'].str.replace('재료','')\n",
    "df3['ingred']= df3['ingred'].str.replace('컵','')\n",
    "df3['ingred']= df3['ingred'].str.replace('공기','')\n",
    "df3['ingred']= df3['ingred'].str.replace('숟가락','')\n",
    "df3['ingred']= df3['ingred'].str.replace('스푼','')\n",
    "df3['ingred']= df3['ingred'].str.replace('국자','')\n",
    "df3['ingred']= df3['ingred'].str.replace('티스푼','')\n",
    "df3['ingred']= df3['ingred'].str.replace('큰','')\n",
    "df3['ingred']= df3['ingred'].str.replace('작은','')\n",
    "df3['ingred']= df3['ingred'].str.replace('큰술','')\n",
    "df3['ingred']= df3['ingred'].str.replace('모','')\n",
    "df3['ingred']= df3['ingred'].str.replace('인분','')\n",
    "df3['ingred']= df3['ingred'].str.replace('채썬것','')\n",
    "df3['ingred']= df3['ingred'].str.replace('썬것','')\n",
    "df3['ingred']= df3['ingred'].str.replace('채','')\n",
    "df3['ingred']= df3['ingred'].str.replace('술','')\n",
    "df3['ingred']= df3['ingred'].str.replace('양념','')\n",
    "df3['ingred']= df3['ingred'].str.replace('약간','')\n",
    "df3['ingred']= df3['ingred'].str.replace('송송','')\n",
    "df3['ingred']= df3['ingred'].str.replace('썬','')\n",
    "df3['ingred']= df3['ingred'].str.replace('선택','')\n",
    "df3['ingred']= df3['ingred'].str.replace('캔','')\n",
    "df3['ingred']= df3['ingred'].str.replace('통','')\n",
    "df3['ingred']= df3['ingred'].str.replace('적당량','')\n",
    "df3['ingred']= df3['ingred'].str.replace('취향것','')\n",
    "df3['ingred']= df3['ingred'].str.replace('기호에맞게','')\n",
    "df3['ingred']= df3['ingred'].str.replace('만큼','')\n",
    "df3['ingred']= df3['ingred'].str.replace('썰은것','')\n",
    "df3['ingred']= df3['ingred'].str.replace('국그릇','')\n",
    "df3['ingred']= df3['ingred'].str.replace('토막','')\n",
    "df3['ingred']= df3['ingred'].str.replace('숟갈','')\n",
    "df3['ingred']= df3['ingred'].str.replace('장','')"
   ]
  },
  {
   "cell_type": "code",
   "execution_count": 62,
   "id": "77f97dff",
   "metadata": {},
   "outputs": [
    {
     "data": {
      "text/plain": [
       "0       두부   양파   달걀      다진마늘   청양고추    고춧가루   설탕 ...\n",
       "1        차돌박이   숙주     쪽파      간   굴소스   고추기름   다진마...\n",
       "2        밥    달걀   물   햄  스팸      다진 대파   피자치즈    슬...\n",
       "Name: ingred, dtype: object"
      ]
     },
     "execution_count": 62,
     "metadata": {},
     "output_type": "execute_result"
    }
   ],
   "source": [
    "df3['ingred'].head(3)"
   ]
  },
  {
   "cell_type": "code",
   "execution_count": 63,
   "id": "4cecf896",
   "metadata": {},
   "outputs": [
    {
     "data": {
      "text/html": [
       "<div>\n",
       "<style scoped>\n",
       "    .dataframe tbody tr th:only-of-type {\n",
       "        vertical-align: middle;\n",
       "    }\n",
       "\n",
       "    .dataframe tbody tr th {\n",
       "        vertical-align: top;\n",
       "    }\n",
       "\n",
       "    .dataframe thead th {\n",
       "        text-align: right;\n",
       "    }\n",
       "</style>\n",
       "<table border=\"1\" class=\"dataframe\">\n",
       "  <thead>\n",
       "    <tr style=\"text-align: right;\">\n",
       "      <th></th>\n",
       "      <th>name</th>\n",
       "      <th>view</th>\n",
       "      <th>recomm</th>\n",
       "      <th>cook_m</th>\n",
       "      <th>purpo</th>\n",
       "      <th>kinds</th>\n",
       "      <th>ingred</th>\n",
       "      <th>level</th>\n",
       "    </tr>\n",
       "  </thead>\n",
       "  <tbody>\n",
       "    <tr>\n",
       "      <th>0</th>\n",
       "      <td>뚝배기두부조림</td>\n",
       "      <td>355493</td>\n",
       "      <td>2270</td>\n",
       "      <td>조림</td>\n",
       "      <td>영양식</td>\n",
       "      <td>콩/견과류</td>\n",
       "      <td>두부   양파   달걀      다진마늘   청양고추    고춧가루   설탕 ...</td>\n",
       "      <td>아무나</td>\n",
       "    </tr>\n",
       "    <tr>\n",
       "      <th>1</th>\n",
       "      <td>차돌박이숙주볶음</td>\n",
       "      <td>649057</td>\n",
       "      <td>2021</td>\n",
       "      <td>볶음</td>\n",
       "      <td>술안주</td>\n",
       "      <td>소고기</td>\n",
       "      <td>차돌박이   숙주     쪽파      간   굴소스   고추기름   다진마...</td>\n",
       "      <td>아무나</td>\n",
       "    </tr>\n",
       "    <tr>\n",
       "      <th>2</th>\n",
       "      <td>달걀밥</td>\n",
       "      <td>447383</td>\n",
       "      <td>1763</td>\n",
       "      <td>기타</td>\n",
       "      <td>초스피드</td>\n",
       "      <td>달걀/유제품</td>\n",
       "      <td>밥    달걀   물   햄  스팸      다진 대파   피자치즈    슬...</td>\n",
       "      <td>아무나</td>\n",
       "    </tr>\n",
       "    <tr>\n",
       "      <th>3</th>\n",
       "      <td>비빔국수</td>\n",
       "      <td>507526</td>\n",
       "      <td>1730</td>\n",
       "      <td>비빔</td>\n",
       "      <td>초스피드</td>\n",
       "      <td>밀가루</td>\n",
       "      <td>소면     다진 마늘     맛    고추    진간    고춧가루    설...</td>\n",
       "      <td>초급</td>\n",
       "    </tr>\n",
       "    <tr>\n",
       "      <th>4</th>\n",
       "      <td>오이무침</td>\n",
       "      <td>323274</td>\n",
       "      <td>1499</td>\n",
       "      <td>무침</td>\n",
       "      <td>일상</td>\n",
       "      <td>채소류</td>\n",
       "      <td>오이무침   오이   소금    까나리액젓   설탕    마늘   쪽파 조금  깨...</td>\n",
       "      <td>아무나</td>\n",
       "    </tr>\n",
       "  </tbody>\n",
       "</table>\n",
       "</div>"
      ],
      "text/plain": [
       "       name    view  recomm cook_m purpo   kinds  \\\n",
       "0   뚝배기두부조림  355493    2270     조림   영양식   콩/견과류   \n",
       "1  차돌박이숙주볶음  649057    2021     볶음   술안주     소고기   \n",
       "2       달걀밥  447383    1763     기타  초스피드  달걀/유제품   \n",
       "3      비빔국수  507526    1730     비빔  초스피드     밀가루   \n",
       "4      오이무침  323274    1499     무침    일상     채소류   \n",
       "\n",
       "                                              ingred level  \n",
       "0     두부   양파   달걀      다진마늘   청양고추    고춧가루   설탕 ...   아무나  \n",
       "1      차돌박이   숙주     쪽파      간   굴소스   고추기름   다진마...   아무나  \n",
       "2      밥    달걀   물   햄  스팸      다진 대파   피자치즈    슬...   아무나  \n",
       "3     소면     다진 마늘     맛    고추    진간    고춧가루    설...    초급  \n",
       "4   오이무침   오이   소금    까나리액젓   설탕    마늘   쪽파 조금  깨...   아무나  "
      ]
     },
     "execution_count": 63,
     "metadata": {},
     "output_type": "execute_result"
    }
   ],
   "source": [
    "df3.head()"
   ]
  },
  {
   "cell_type": "code",
   "execution_count": 64,
   "id": "68890d92",
   "metadata": {},
   "outputs": [],
   "source": [
    "indices = pd.Series(df3.index, index=df3['name'])"
   ]
  },
  {
   "cell_type": "code",
   "execution_count": 65,
   "id": "bed2bc15",
   "metadata": {},
   "outputs": [
    {
     "data": {
      "text/plain": [
       "name\n",
       "뚝배기두부조림         0\n",
       "차돌박이숙주볶음        1\n",
       "달걀밥             2\n",
       "비빔국수            3\n",
       "오이무침            4\n",
       "             ... \n",
       "삼겹살꽈리고추조림    3997\n",
       "고구마찹쌀스틱      3998\n",
       "감자파스타        3999\n",
       "부추굴전         4000\n",
       "옥수수모닝빵       4001\n",
       "Length: 4002, dtype: int64"
      ]
     },
     "execution_count": 65,
     "metadata": {},
     "output_type": "execute_result"
    }
   ],
   "source": [
    "indices"
   ]
  },
  {
   "cell_type": "markdown",
   "id": "7b75280d",
   "metadata": {},
   "source": [
    "### TF-IDF Vectorizer"
   ]
  },
  {
   "cell_type": "code",
   "execution_count": 66,
   "id": "6bd46ede",
   "metadata": {},
   "outputs": [],
   "source": [
    "from sklearn.feature_extraction.text import TfidfVectorizer\n",
    "tfidf = TfidfVectorizer()"
   ]
  },
  {
   "cell_type": "code",
   "execution_count": 67,
   "id": "1737d5c8",
   "metadata": {},
   "outputs": [],
   "source": [
    "tfidf_matrix = tfidf.fit_transform(df3['ingred'])"
   ]
  },
  {
   "cell_type": "code",
   "execution_count": 68,
   "id": "f256638f",
   "metadata": {},
   "outputs": [
    {
     "data": {
      "text/plain": [
       "(4002, 3565)"
      ]
     },
     "execution_count": 68,
     "metadata": {},
     "output_type": "execute_result"
    }
   ],
   "source": [
    "tfidf_matrix.shape"
   ]
  },
  {
   "cell_type": "markdown",
   "id": "d3d06af2",
   "metadata": {},
   "source": [
    "### 코사인유사도 구하기"
   ]
  },
  {
   "cell_type": "code",
   "execution_count": 69,
   "id": "ffe80122",
   "metadata": {},
   "outputs": [],
   "source": [
    "from sklearn.metrics.pairwise import cosine_similarity\n",
    "cosine_sim = cosine_similarity(tfidf_matrix, tfidf_matrix)"
   ]
  },
  {
   "cell_type": "code",
   "execution_count": 70,
   "id": "2cdcf911",
   "metadata": {},
   "outputs": [
    {
     "data": {
      "text/plain": [
       "array([[1.        , 0.13354921, 0.15126795, ..., 0.03764549, 0.1235168 ,\n",
       "        0.07269348],\n",
       "       [0.13354921, 1.        , 0.04566158, ..., 0.        , 0.06473138,\n",
       "        0.0166587 ],\n",
       "       [0.15126795, 0.04566158, 1.        , ..., 0.        , 0.21285842,\n",
       "        0.05784906],\n",
       "       ...,\n",
       "       [0.03764549, 0.        , 0.        , ..., 1.        , 0.        ,\n",
       "        0.        ],\n",
       "       [0.1235168 , 0.06473138, 0.21285842, ..., 0.        , 1.        ,\n",
       "        0.08200875],\n",
       "       [0.07269348, 0.0166587 , 0.05784906, ..., 0.        , 0.08200875,\n",
       "        1.        ]])"
      ]
     },
     "execution_count": 70,
     "metadata": {},
     "output_type": "execute_result"
    }
   ],
   "source": [
    "cosine_sim"
   ]
  },
  {
   "cell_type": "code",
   "execution_count": 71,
   "id": "a4b2c1de",
   "metadata": {},
   "outputs": [
    {
     "data": {
      "text/plain": [
       "(4002, 4002)"
      ]
     },
     "execution_count": 71,
     "metadata": {},
     "output_type": "execute_result"
    }
   ],
   "source": [
    "cosine_sim.shape"
   ]
  },
  {
   "cell_type": "markdown",
   "id": "2ec49820",
   "metadata": {},
   "source": [
    "### 재료의 유사도가 높은 순으로 메뉴명이 나오도록 함수 정의"
   ]
  },
  {
   "cell_type": "code",
   "execution_count": 72,
   "id": "6f18da15",
   "metadata": {},
   "outputs": [
    {
     "data": {
      "text/plain": [
       "0     뚝배기두부조림\n",
       "1    차돌박이숙주볶음\n",
       "2         달걀밥\n",
       "3        비빔국수\n",
       "4        오이무침\n",
       "5       김치볶음밥\n",
       "6         콘치즈\n",
       "7        마파두부\n",
       "8        부대찌개\n",
       "9      매운닭볶음탕\n",
       "Name: name, dtype: object"
      ]
     },
     "execution_count": 72,
     "metadata": {},
     "output_type": "execute_result"
    }
   ],
   "source": [
    "df3['name'].head(10)"
   ]
  },
  {
   "cell_type": "code",
   "execution_count": 73,
   "id": "9e84545d",
   "metadata": {},
   "outputs": [
    {
     "data": {
      "text/html": [
       "<div>\n",
       "<style scoped>\n",
       "    .dataframe tbody tr th:only-of-type {\n",
       "        vertical-align: middle;\n",
       "    }\n",
       "\n",
       "    .dataframe tbody tr th {\n",
       "        vertical-align: top;\n",
       "    }\n",
       "\n",
       "    .dataframe thead th {\n",
       "        text-align: right;\n",
       "    }\n",
       "</style>\n",
       "<table border=\"1\" class=\"dataframe\">\n",
       "  <thead>\n",
       "    <tr style=\"text-align: right;\">\n",
       "      <th></th>\n",
       "      <th>name</th>\n",
       "      <th>view</th>\n",
       "      <th>recomm</th>\n",
       "      <th>cook_m</th>\n",
       "      <th>purpo</th>\n",
       "      <th>kinds</th>\n",
       "      <th>ingred</th>\n",
       "      <th>level</th>\n",
       "    </tr>\n",
       "  </thead>\n",
       "  <tbody>\n",
       "    <tr>\n",
       "      <th>7</th>\n",
       "      <td>마파두부</td>\n",
       "      <td>210261</td>\n",
       "      <td>1264</td>\n",
       "      <td>볶음</td>\n",
       "      <td>일상</td>\n",
       "      <td>돼지고기</td>\n",
       "      <td>두부   대파 줄기  청양고추   양파    돼지고기 간것     고추가루  ...</td>\n",
       "      <td>초급</td>\n",
       "    </tr>\n",
       "  </tbody>\n",
       "</table>\n",
       "</div>"
      ],
      "text/plain": [
       "   name    view  recomm cook_m purpo kinds  \\\n",
       "7  마파두부  210261    1264     볶음    일상  돼지고기   \n",
       "\n",
       "                                              ingred level  \n",
       "7     두부   대파 줄기  청양고추   양파    돼지고기 간것     고추가루  ...    초급  "
      ]
     },
     "execution_count": 73,
     "metadata": {},
     "output_type": "execute_result"
    }
   ],
   "source": [
    "df3.iloc[[7]]"
   ]
  },
  {
   "cell_type": "code",
   "execution_count": 74,
   "id": "3de159ea",
   "metadata": {},
   "outputs": [],
   "source": [
    "def food_recommend(name, cosine_sim=cosine_sim) :\n",
    "    idx = indices[name]\n",
    "    sim_scores = list(enumerate(cosine_sim[idx]))\n",
    "    sim_scores = sorted(sim_scores, key=lambda x:x[1], reverse=True)\n",
    "    sim_scores = sim_scores[1:11]\n",
    "    food_indices = [i[0] for i in sim_scores]\n",
    "    return df3['name'].iloc[food_indices]"
   ]
  },
  {
   "cell_type": "code",
   "execution_count": 75,
   "id": "feceac32",
   "metadata": {},
   "outputs": [
    {
     "data": {
      "text/plain": [
       "2524      차돌박이강된장\n",
       "1369     애호박고추장찌개\n",
       "1420    차돌박이고추장찌개\n",
       "2533          고추전\n",
       "1210     표고버섯된장찌개\n",
       "1669        멸치칼국수\n",
       "3570       차돌박이쌈장\n",
       "520      차돌박이된장찌개\n",
       "1919     차돌박이부추무침\n",
       "2749      물떡어묵꼬치탕\n",
       "Name: name, dtype: object"
      ]
     },
     "execution_count": 75,
     "metadata": {},
     "output_type": "execute_result"
    }
   ],
   "source": [
    "food_recommend('차돌된장찌개')"
   ]
  },
  {
   "cell_type": "code",
   "execution_count": 76,
   "id": "d930a429",
   "metadata": {},
   "outputs": [
    {
     "data": {
      "text/plain": [
       "179        햄양파링전\n",
       "290       스팸하트김밥\n",
       "216      스팸계란주먹밥\n",
       "135        간장달걀밥\n",
       "289        감자짜글이\n",
       "867      스팸돈부리덮밥\n",
       "2759       양파볶음밥\n",
       "52          양파덮밥\n",
       "978     양파볶음햄구이밥\n",
       "20      베이컨마늘볶음밥\n",
       "Name: name, dtype: object"
      ]
     },
     "execution_count": 76,
     "metadata": {},
     "output_type": "execute_result"
    }
   ],
   "source": [
    "food_recommend('스팸동')"
   ]
  },
  {
   "cell_type": "code",
   "execution_count": 77,
   "id": "e1d29077",
   "metadata": {},
   "outputs": [
    {
     "data": {
      "text/plain": [
       "1119      비빔국수양념장\n",
       "772             면\n",
       "453         오이초무침\n",
       "3963        꼬막초무침\n",
       "718        고등어무조림\n",
       "1807         냉이무침\n",
       "949     느타리버섯양념구이\n",
       "1098    초고추장골뱅이무침\n",
       "1149         참치쌈장\n",
       "2446       가지구이무침\n",
       "Name: name, dtype: object"
      ]
     },
     "execution_count": 77,
     "metadata": {},
     "output_type": "execute_result"
    }
   ],
   "source": [
    "food_recommend('비빔국수')"
   ]
  },
  {
   "cell_type": "code",
   "execution_count": 78,
   "id": "7ce52c19",
   "metadata": {},
   "outputs": [
    {
     "data": {
      "text/plain": [
       "2000        베이컨에그컵\n",
       "773       베이컨말이주먹밥\n",
       "944         베이컨주먹밥\n",
       "764     베이컨계란말이주먹밥\n",
       "196          베이컨말이\n",
       "3227      새우버터치즈구이\n",
       "1659           김무침\n",
       "2584       오이소고기볶음\n",
       "2463       베이컨야채말이\n",
       "2011      에그마요샌드위치\n",
       "Name: name, dtype: object"
      ]
     },
     "execution_count": 78,
     "metadata": {},
     "output_type": "execute_result"
    }
   ],
   "source": [
    "food_recommend('베이컨치즈말이')"
   ]
  },
  {
   "cell_type": "code",
   "execution_count": 79,
   "id": "0438d532",
   "metadata": {},
   "outputs": [
    {
     "data": {
      "text/plain": [
       "1610    오레오프라프치노\n",
       "2507       허니브레드\n",
       "845      딸기바나나쥬스\n",
       "1437        도지마롤\n",
       "2876       밀크캐러멜\n",
       "3602       고구마튀김\n",
       "3336       캐러멜푸딩\n",
       "2451    초코피칸브라우니\n",
       "790        에그타르트\n",
       "2620       오이냉국수\n",
       "Name: name, dtype: object"
      ]
     },
     "execution_count": 79,
     "metadata": {},
     "output_type": "execute_result"
    }
   ],
   "source": [
    "food_recommend('죠리퐁쉐이크')"
   ]
  },
  {
   "cell_type": "code",
   "execution_count": 80,
   "id": "484e86e0",
   "metadata": {},
   "outputs": [
    {
     "data": {
      "text/plain": [
       "3781     햄고추장찌개\n",
       "219      참치감자조림\n",
       "3699    고추장감자볶음\n",
       "170       스팸감자탕\n",
       "49         닭볶음탕\n",
       "2030     감자호박찌개\n",
       "290      스팸하트김밥\n",
       "14         장칼국수\n",
       "1193    매운돼지갈비찜\n",
       "723      감자어묵볶음\n",
       "Name: name, dtype: object"
      ]
     },
     "execution_count": 80,
     "metadata": {},
     "output_type": "execute_result"
    }
   ],
   "source": [
    "food_recommend('감자짜글이')"
   ]
  },
  {
   "cell_type": "markdown",
   "id": "47177b9a",
   "metadata": {},
   "source": [
    "## 조리법, 목적, 분류, 난이도를 기반으로 추천\n",
    "#### 조리법(cook_m), 목적(purpo), 분류(kinds), 난이도(level)"
   ]
  },
  {
   "cell_type": "code",
   "execution_count": 81,
   "id": "07ba501e",
   "metadata": {},
   "outputs": [],
   "source": [
    "from ast import literal_eval"
   ]
  },
  {
   "cell_type": "code",
   "execution_count": 82,
   "id": "d211ae89",
   "metadata": {},
   "outputs": [
    {
     "data": {
      "text/html": [
       "<div>\n",
       "<style scoped>\n",
       "    .dataframe tbody tr th:only-of-type {\n",
       "        vertical-align: middle;\n",
       "    }\n",
       "\n",
       "    .dataframe tbody tr th {\n",
       "        vertical-align: top;\n",
       "    }\n",
       "\n",
       "    .dataframe thead th {\n",
       "        text-align: right;\n",
       "    }\n",
       "</style>\n",
       "<table border=\"1\" class=\"dataframe\">\n",
       "  <thead>\n",
       "    <tr style=\"text-align: right;\">\n",
       "      <th></th>\n",
       "      <th>name</th>\n",
       "      <th>view</th>\n",
       "      <th>recomm</th>\n",
       "      <th>cook_m</th>\n",
       "      <th>purpo</th>\n",
       "      <th>kinds</th>\n",
       "      <th>ingred</th>\n",
       "      <th>level</th>\n",
       "    </tr>\n",
       "  </thead>\n",
       "  <tbody>\n",
       "    <tr>\n",
       "      <th>0</th>\n",
       "      <td>뚝배기두부조림</td>\n",
       "      <td>355493</td>\n",
       "      <td>2270</td>\n",
       "      <td>조림</td>\n",
       "      <td>영양식</td>\n",
       "      <td>콩/견과류</td>\n",
       "      <td>두부   양파   달걀      다진마늘   청양고추    고춧가루   설탕 ...</td>\n",
       "      <td>아무나</td>\n",
       "    </tr>\n",
       "    <tr>\n",
       "      <th>1</th>\n",
       "      <td>차돌박이숙주볶음</td>\n",
       "      <td>649057</td>\n",
       "      <td>2021</td>\n",
       "      <td>볶음</td>\n",
       "      <td>술안주</td>\n",
       "      <td>소고기</td>\n",
       "      <td>차돌박이   숙주     쪽파      간   굴소스   고추기름   다진마...</td>\n",
       "      <td>아무나</td>\n",
       "    </tr>\n",
       "    <tr>\n",
       "      <th>2</th>\n",
       "      <td>달걀밥</td>\n",
       "      <td>447383</td>\n",
       "      <td>1763</td>\n",
       "      <td>기타</td>\n",
       "      <td>초스피드</td>\n",
       "      <td>달걀/유제품</td>\n",
       "      <td>밥    달걀   물   햄  스팸      다진 대파   피자치즈    슬...</td>\n",
       "      <td>아무나</td>\n",
       "    </tr>\n",
       "    <tr>\n",
       "      <th>3</th>\n",
       "      <td>비빔국수</td>\n",
       "      <td>507526</td>\n",
       "      <td>1730</td>\n",
       "      <td>비빔</td>\n",
       "      <td>초스피드</td>\n",
       "      <td>밀가루</td>\n",
       "      <td>소면     다진 마늘     맛    고추    진간    고춧가루    설...</td>\n",
       "      <td>초급</td>\n",
       "    </tr>\n",
       "    <tr>\n",
       "      <th>4</th>\n",
       "      <td>오이무침</td>\n",
       "      <td>323274</td>\n",
       "      <td>1499</td>\n",
       "      <td>무침</td>\n",
       "      <td>일상</td>\n",
       "      <td>채소류</td>\n",
       "      <td>오이무침   오이   소금    까나리액젓   설탕    마늘   쪽파 조금  깨...</td>\n",
       "      <td>아무나</td>\n",
       "    </tr>\n",
       "    <tr>\n",
       "      <th>5</th>\n",
       "      <td>김치볶음밥</td>\n",
       "      <td>366065</td>\n",
       "      <td>1324</td>\n",
       "      <td>볶음</td>\n",
       "      <td>일상</td>\n",
       "      <td>쌀</td>\n",
       "      <td>밥   다진 양파   다진 김치    다진 햄     설탕    김칫국물   ...</td>\n",
       "      <td>아무나</td>\n",
       "    </tr>\n",
       "    <tr>\n",
       "      <th>6</th>\n",
       "      <td>콘치즈</td>\n",
       "      <td>341718</td>\n",
       "      <td>1283</td>\n",
       "      <td>볶음</td>\n",
       "      <td>술안주</td>\n",
       "      <td>가공식품류</td>\n",
       "      <td>옥수수조림    버터   마요네즈     피자치즈   파슬리</td>\n",
       "      <td>아무나</td>\n",
       "    </tr>\n",
       "    <tr>\n",
       "      <th>7</th>\n",
       "      <td>마파두부</td>\n",
       "      <td>210261</td>\n",
       "      <td>1264</td>\n",
       "      <td>볶음</td>\n",
       "      <td>일상</td>\n",
       "      <td>돼지고기</td>\n",
       "      <td>두부   대파 줄기  청양고추   양파    돼지고기 간것     고추가루  ...</td>\n",
       "      <td>초급</td>\n",
       "    </tr>\n",
       "    <tr>\n",
       "      <th>8</th>\n",
       "      <td>부대찌개</td>\n",
       "      <td>825884</td>\n",
       "      <td>1168</td>\n",
       "      <td>끓이기</td>\n",
       "      <td>일상</td>\n",
       "      <td>가공식품류</td>\n",
       "      <td>길쭉이 햄 줄  조림 햄 사이즈    돈다짐육  베이컨이나 대패삼겹살  줌  ...</td>\n",
       "      <td>아무나</td>\n",
       "    </tr>\n",
       "    <tr>\n",
       "      <th>9</th>\n",
       "      <td>매운닭볶음탕</td>\n",
       "      <td>259130</td>\n",
       "      <td>1105</td>\n",
       "      <td>끓이기</td>\n",
       "      <td>손님접대</td>\n",
       "      <td>닭고기</td>\n",
       "      <td>닭고기   마리  감자   당근    양파    대파 대  물     고추  ...</td>\n",
       "      <td>초급</td>\n",
       "    </tr>\n",
       "  </tbody>\n",
       "</table>\n",
       "</div>"
      ],
      "text/plain": [
       "       name    view  recomm cook_m purpo   kinds  \\\n",
       "0   뚝배기두부조림  355493    2270     조림   영양식   콩/견과류   \n",
       "1  차돌박이숙주볶음  649057    2021     볶음   술안주     소고기   \n",
       "2       달걀밥  447383    1763     기타  초스피드  달걀/유제품   \n",
       "3      비빔국수  507526    1730     비빔  초스피드     밀가루   \n",
       "4      오이무침  323274    1499     무침    일상     채소류   \n",
       "5     김치볶음밥  366065    1324     볶음    일상       쌀   \n",
       "6       콘치즈  341718    1283     볶음   술안주   가공식품류   \n",
       "7      마파두부  210261    1264     볶음    일상    돼지고기   \n",
       "8      부대찌개  825884    1168    끓이기    일상   가공식품류   \n",
       "9    매운닭볶음탕  259130    1105    끓이기  손님접대     닭고기   \n",
       "\n",
       "                                              ingred level  \n",
       "0     두부   양파   달걀      다진마늘   청양고추    고춧가루   설탕 ...   아무나  \n",
       "1      차돌박이   숙주     쪽파      간   굴소스   고추기름   다진마...   아무나  \n",
       "2      밥    달걀   물   햄  스팸      다진 대파   피자치즈    슬...   아무나  \n",
       "3     소면     다진 마늘     맛    고추    진간    고춧가루    설...    초급  \n",
       "4   오이무침   오이   소금    까나리액젓   설탕    마늘   쪽파 조금  깨...   아무나  \n",
       "5     밥   다진 양파   다진 김치    다진 햄     설탕    김칫국물   ...   아무나  \n",
       "6                 옥수수조림    버터   마요네즈     피자치즈   파슬리    아무나  \n",
       "7     두부   대파 줄기  청양고추   양파    돼지고기 간것     고추가루  ...    초급  \n",
       "8     길쭉이 햄 줄  조림 햄 사이즈    돈다짐육  베이컨이나 대패삼겹살  줌  ...   아무나  \n",
       "9     닭고기   마리  감자   당근    양파    대파 대  물     고추  ...    초급  "
      ]
     },
     "execution_count": 82,
     "metadata": {},
     "output_type": "execute_result"
    }
   ],
   "source": [
    "df3.head(10)"
   ]
  },
  {
   "cell_type": "markdown",
   "id": "436b753f",
   "metadata": {},
   "source": [
    "### 특수문자가 있는 컬럼에서 특수문자 제거"
   ]
  },
  {
   "cell_type": "code",
   "execution_count": 83,
   "id": "4f203c51",
   "metadata": {},
   "outputs": [],
   "source": [
    "df3['kinds'] = df3['kinds'].str.replace(pat=r'[^\\w]',repl=r' ',regex=True)"
   ]
  },
  {
   "cell_type": "code",
   "execution_count": 84,
   "id": "8241c008",
   "metadata": {},
   "outputs": [
    {
     "data": {
      "text/html": [
       "<div>\n",
       "<style scoped>\n",
       "    .dataframe tbody tr th:only-of-type {\n",
       "        vertical-align: middle;\n",
       "    }\n",
       "\n",
       "    .dataframe tbody tr th {\n",
       "        vertical-align: top;\n",
       "    }\n",
       "\n",
       "    .dataframe thead th {\n",
       "        text-align: right;\n",
       "    }\n",
       "</style>\n",
       "<table border=\"1\" class=\"dataframe\">\n",
       "  <thead>\n",
       "    <tr style=\"text-align: right;\">\n",
       "      <th></th>\n",
       "      <th>name</th>\n",
       "      <th>view</th>\n",
       "      <th>recomm</th>\n",
       "      <th>cook_m</th>\n",
       "      <th>purpo</th>\n",
       "      <th>kinds</th>\n",
       "      <th>ingred</th>\n",
       "      <th>level</th>\n",
       "    </tr>\n",
       "  </thead>\n",
       "  <tbody>\n",
       "    <tr>\n",
       "      <th>0</th>\n",
       "      <td>뚝배기두부조림</td>\n",
       "      <td>355493</td>\n",
       "      <td>2270</td>\n",
       "      <td>조림</td>\n",
       "      <td>영양식</td>\n",
       "      <td>콩 견과류</td>\n",
       "      <td>두부   양파   달걀      다진마늘   청양고추    고춧가루   설탕 ...</td>\n",
       "      <td>아무나</td>\n",
       "    </tr>\n",
       "    <tr>\n",
       "      <th>1</th>\n",
       "      <td>차돌박이숙주볶음</td>\n",
       "      <td>649057</td>\n",
       "      <td>2021</td>\n",
       "      <td>볶음</td>\n",
       "      <td>술안주</td>\n",
       "      <td>소고기</td>\n",
       "      <td>차돌박이   숙주     쪽파      간   굴소스   고추기름   다진마...</td>\n",
       "      <td>아무나</td>\n",
       "    </tr>\n",
       "    <tr>\n",
       "      <th>2</th>\n",
       "      <td>달걀밥</td>\n",
       "      <td>447383</td>\n",
       "      <td>1763</td>\n",
       "      <td>기타</td>\n",
       "      <td>초스피드</td>\n",
       "      <td>달걀 유제품</td>\n",
       "      <td>밥    달걀   물   햄  스팸      다진 대파   피자치즈    슬...</td>\n",
       "      <td>아무나</td>\n",
       "    </tr>\n",
       "    <tr>\n",
       "      <th>3</th>\n",
       "      <td>비빔국수</td>\n",
       "      <td>507526</td>\n",
       "      <td>1730</td>\n",
       "      <td>비빔</td>\n",
       "      <td>초스피드</td>\n",
       "      <td>밀가루</td>\n",
       "      <td>소면     다진 마늘     맛    고추    진간    고춧가루    설...</td>\n",
       "      <td>초급</td>\n",
       "    </tr>\n",
       "    <tr>\n",
       "      <th>4</th>\n",
       "      <td>오이무침</td>\n",
       "      <td>323274</td>\n",
       "      <td>1499</td>\n",
       "      <td>무침</td>\n",
       "      <td>일상</td>\n",
       "      <td>채소류</td>\n",
       "      <td>오이무침   오이   소금    까나리액젓   설탕    마늘   쪽파 조금  깨...</td>\n",
       "      <td>아무나</td>\n",
       "    </tr>\n",
       "  </tbody>\n",
       "</table>\n",
       "</div>"
      ],
      "text/plain": [
       "       name    view  recomm cook_m purpo   kinds  \\\n",
       "0   뚝배기두부조림  355493    2270     조림   영양식   콩 견과류   \n",
       "1  차돌박이숙주볶음  649057    2021     볶음   술안주     소고기   \n",
       "2       달걀밥  447383    1763     기타  초스피드  달걀 유제품   \n",
       "3      비빔국수  507526    1730     비빔  초스피드     밀가루   \n",
       "4      오이무침  323274    1499     무침    일상     채소류   \n",
       "\n",
       "                                              ingred level  \n",
       "0     두부   양파   달걀      다진마늘   청양고추    고춧가루   설탕 ...   아무나  \n",
       "1      차돌박이   숙주     쪽파      간   굴소스   고추기름   다진마...   아무나  \n",
       "2      밥    달걀   물   햄  스팸      다진 대파   피자치즈    슬...   아무나  \n",
       "3     소면     다진 마늘     맛    고추    진간    고춧가루    설...    초급  \n",
       "4   오이무침   오이   소금    까나리액젓   설탕    마늘   쪽파 조금  깨...   아무나  "
      ]
     },
     "execution_count": 84,
     "metadata": {},
     "output_type": "execute_result"
    }
   ],
   "source": [
    "df3.head(5)"
   ]
  },
  {
   "cell_type": "code",
   "execution_count": 85,
   "id": "8740ca56",
   "metadata": {},
   "outputs": [
    {
     "data": {
      "text/plain": [
       "'영양식'"
      ]
     },
     "execution_count": 85,
     "metadata": {},
     "output_type": "execute_result"
    }
   ],
   "source": [
    "df3.loc[0, 'purpo']"
   ]
  },
  {
   "cell_type": "code",
   "execution_count": 86,
   "id": "cfbbba9d",
   "metadata": {},
   "outputs": [
    {
     "data": {
      "text/plain": [
       "'콩 견과류'"
      ]
     },
     "execution_count": 86,
     "metadata": {},
     "output_type": "execute_result"
    }
   ],
   "source": [
    "df3.loc[0, 'kinds']"
   ]
  },
  {
   "cell_type": "code",
   "execution_count": 87,
   "id": "a19187ae",
   "metadata": {},
   "outputs": [
    {
     "data": {
      "text/plain": [
       "'조림'"
      ]
     },
     "execution_count": 87,
     "metadata": {},
     "output_type": "execute_result"
    }
   ],
   "source": [
    "df3.loc[0, 'cook_m']"
   ]
  },
  {
   "cell_type": "code",
   "execution_count": 88,
   "id": "2380c511",
   "metadata": {},
   "outputs": [
    {
     "data": {
      "text/plain": [
       "'아무나'"
      ]
     },
     "execution_count": 88,
     "metadata": {},
     "output_type": "execute_result"
    }
   ],
   "source": [
    "df3.loc[0, 'level']"
   ]
  },
  {
   "cell_type": "code",
   "execution_count": 89,
   "id": "e59dc1d1",
   "metadata": {},
   "outputs": [
    {
     "data": {
      "text/html": [
       "<div>\n",
       "<style scoped>\n",
       "    .dataframe tbody tr th:only-of-type {\n",
       "        vertical-align: middle;\n",
       "    }\n",
       "\n",
       "    .dataframe tbody tr th {\n",
       "        vertical-align: top;\n",
       "    }\n",
       "\n",
       "    .dataframe thead th {\n",
       "        text-align: right;\n",
       "    }\n",
       "</style>\n",
       "<table border=\"1\" class=\"dataframe\">\n",
       "  <thead>\n",
       "    <tr style=\"text-align: right;\">\n",
       "      <th></th>\n",
       "      <th>cook_m</th>\n",
       "      <th>purpo</th>\n",
       "      <th>kinds</th>\n",
       "      <th>level</th>\n",
       "    </tr>\n",
       "  </thead>\n",
       "  <tbody>\n",
       "    <tr>\n",
       "      <th>0</th>\n",
       "      <td>조림</td>\n",
       "      <td>영양식</td>\n",
       "      <td>콩 견과류</td>\n",
       "      <td>아무나</td>\n",
       "    </tr>\n",
       "    <tr>\n",
       "      <th>1</th>\n",
       "      <td>볶음</td>\n",
       "      <td>술안주</td>\n",
       "      <td>소고기</td>\n",
       "      <td>아무나</td>\n",
       "    </tr>\n",
       "    <tr>\n",
       "      <th>2</th>\n",
       "      <td>기타</td>\n",
       "      <td>초스피드</td>\n",
       "      <td>달걀 유제품</td>\n",
       "      <td>아무나</td>\n",
       "    </tr>\n",
       "  </tbody>\n",
       "</table>\n",
       "</div>"
      ],
      "text/plain": [
       "  cook_m purpo   kinds level\n",
       "0     조림   영양식   콩 견과류   아무나\n",
       "1     볶음   술안주     소고기   아무나\n",
       "2     기타  초스피드  달걀 유제품   아무나"
      ]
     },
     "execution_count": 89,
     "metadata": {},
     "output_type": "execute_result"
    }
   ],
   "source": [
    "df3[['cook_m', 'purpo', 'kinds', 'level']].head(3)"
   ]
  },
  {
   "cell_type": "markdown",
   "id": "70c8993a",
   "metadata": {},
   "source": [
    "### 4개의 컬럼의 정보를 합친 컬럼 만들기"
   ]
  },
  {
   "cell_type": "code",
   "execution_count": 90,
   "id": "f6f2ac79",
   "metadata": {},
   "outputs": [],
   "source": [
    "def create_bow(x) :\n",
    "    return x['cook_m'] + ' ' + x['purpo'] +' '+ x['kinds'] + ' '+ x['level']"
   ]
  },
  {
   "cell_type": "code",
   "execution_count": 91,
   "id": "c1d6d784",
   "metadata": {},
   "outputs": [],
   "source": [
    "df3['bow'] = df3.apply(create_bow, axis=1)"
   ]
  },
  {
   "cell_type": "code",
   "execution_count": 92,
   "id": "9a8eec58",
   "metadata": {},
   "outputs": [
    {
     "data": {
      "text/html": [
       "<div>\n",
       "<style scoped>\n",
       "    .dataframe tbody tr th:only-of-type {\n",
       "        vertical-align: middle;\n",
       "    }\n",
       "\n",
       "    .dataframe tbody tr th {\n",
       "        vertical-align: top;\n",
       "    }\n",
       "\n",
       "    .dataframe thead th {\n",
       "        text-align: right;\n",
       "    }\n",
       "</style>\n",
       "<table border=\"1\" class=\"dataframe\">\n",
       "  <thead>\n",
       "    <tr style=\"text-align: right;\">\n",
       "      <th></th>\n",
       "      <th>bow</th>\n",
       "    </tr>\n",
       "  </thead>\n",
       "  <tbody>\n",
       "    <tr>\n",
       "      <th>0</th>\n",
       "      <td>조림 영양식 콩 견과류 아무나</td>\n",
       "    </tr>\n",
       "    <tr>\n",
       "      <th>1</th>\n",
       "      <td>볶음 술안주 소고기 아무나</td>\n",
       "    </tr>\n",
       "    <tr>\n",
       "      <th>2</th>\n",
       "      <td>기타 초스피드 달걀 유제품 아무나</td>\n",
       "    </tr>\n",
       "  </tbody>\n",
       "</table>\n",
       "</div>"
      ],
      "text/plain": [
       "                  bow\n",
       "0    조림 영양식 콩 견과류 아무나\n",
       "1      볶음 술안주 소고기 아무나\n",
       "2  기타 초스피드 달걀 유제품 아무나"
      ]
     },
     "execution_count": 92,
     "metadata": {},
     "output_type": "execute_result"
    }
   ],
   "source": [
    "df3[['bow']].head(3)"
   ]
  },
  {
   "cell_type": "markdown",
   "id": "ebeb6232",
   "metadata": {},
   "source": [
    "### CountVectorizer"
   ]
  },
  {
   "cell_type": "code",
   "execution_count": 93,
   "id": "726e0da9",
   "metadata": {},
   "outputs": [],
   "source": [
    "from sklearn.feature_extraction.text import CountVectorizer"
   ]
  },
  {
   "cell_type": "code",
   "execution_count": 94,
   "id": "4fe0db01",
   "metadata": {},
   "outputs": [],
   "source": [
    "cnt = CountVectorizer()\n",
    "cnt_matrix = cnt.fit_transform(df3['bow'])"
   ]
  },
  {
   "cell_type": "code",
   "execution_count": 95,
   "id": "dd0de057",
   "metadata": {},
   "outputs": [
    {
     "data": {
      "text/plain": [
       "<4002x44 sparse matrix of type '<class 'numpy.int64'>'\n",
       "\twith 15901 stored elements in Compressed Sparse Row format>"
      ]
     },
     "execution_count": 95,
     "metadata": {},
     "output_type": "execute_result"
    }
   ],
   "source": [
    "cnt_matrix"
   ]
  },
  {
   "cell_type": "code",
   "execution_count": 96,
   "id": "a8f837d3",
   "metadata": {},
   "outputs": [],
   "source": [
    "from sklearn.metrics.pairwise import cosine_similarity"
   ]
  },
  {
   "cell_type": "code",
   "execution_count": 97,
   "id": "c56ea9d9",
   "metadata": {},
   "outputs": [],
   "source": [
    "cosine_sim2 = cosine_similarity(cnt_matrix,cnt_matrix)"
   ]
  },
  {
   "cell_type": "code",
   "execution_count": 98,
   "id": "350ceb84",
   "metadata": {},
   "outputs": [
    {
     "data": {
      "text/plain": [
       "name\n",
       "뚝배기두부조림      0\n",
       "차돌박이숙주볶음     1\n",
       "달걀밥          2\n",
       "비빔국수         3\n",
       "오이무침         4\n",
       "김치볶음밥        5\n",
       "콘치즈          6\n",
       "마파두부         7\n",
       "부대찌개         8\n",
       "매운닭볶음탕       9\n",
       "감자조림        10\n",
       "김치찌개        11\n",
       "고추장아찌       12\n",
       "어묵햄볶음       13\n",
       "장칼국수        14\n",
       "제육볶음        15\n",
       "우유컵케이크      16\n",
       "고등어조림       17\n",
       "약밥          18\n",
       "두부구이        19\n",
       "dtype: int64"
      ]
     },
     "execution_count": 98,
     "metadata": {},
     "output_type": "execute_result"
    }
   ],
   "source": [
    "indices.head(20)"
   ]
  },
  {
   "cell_type": "markdown",
   "id": "42bb8acc",
   "metadata": {},
   "source": [
    "## 결과 확인하기\n",
    "#### 추천순이 많은 순으로 오름차순 정렬되어 인덱스가 낮을 수록 추천수가 높다"
   ]
  },
  {
   "cell_type": "code",
   "execution_count": 99,
   "id": "4b690303",
   "metadata": {},
   "outputs": [
    {
     "data": {
      "text/plain": [
       "29           깍두기\n",
       "80        양파오이무침\n",
       "115        무생채무침\n",
       "201       고추된장박이\n",
       "211    아삭이고추된장무침\n",
       "224      도라지오이무침\n",
       "233        시금치무침\n",
       "256      시금치나물무침\n",
       "320      두부시금치무침\n",
       "344        배추겉절이\n",
       "Name: name, dtype: object"
      ]
     },
     "execution_count": 99,
     "metadata": {},
     "output_type": "execute_result"
    }
   ],
   "source": [
    "food_recommend('오이무침', cosine_sim2)"
   ]
  },
  {
   "cell_type": "code",
   "execution_count": 100,
   "id": "6c83b9f4",
   "metadata": {},
   "outputs": [
    {
     "data": {
      "text/plain": [
       "624          쏘야볶음\n",
       "1646    베이컨달걀버섯볶음\n",
       "1910       치즈어묵볶음\n",
       "1        차돌박이숙주볶음\n",
       "15           제육볶음\n",
       "21          국물떡볶이\n",
       "40           오뎅볶음\n",
       "56         스팸마요덮밥\n",
       "64        골뱅이마늘볶음\n",
       "65          당면떡볶이\n",
       "Name: name, dtype: object"
      ]
     },
     "execution_count": 100,
     "metadata": {},
     "output_type": "execute_result"
    }
   ],
   "source": [
    "food_recommend('콘치즈', cosine_sim2)"
   ]
  },
  {
   "cell_type": "code",
   "execution_count": 101,
   "id": "89a0f537",
   "metadata": {},
   "outputs": [
    {
     "data": {
      "text/plain": [
       "188     참치맛나니\n",
       "8        부대찌개\n",
       "10       감자조림\n",
       "40       오뎅볶음\n",
       "44       만두강정\n",
       "56     스팸마요덮밥\n",
       "62       간장국수\n",
       "69     대패두부조림\n",
       "78      라면투움바\n",
       "81       어묵볶음\n",
       "Name: name, dtype: object"
      ]
     },
     "execution_count": 101,
     "metadata": {},
     "output_type": "execute_result"
    }
   ],
   "source": [
    "food_recommend('스팸동', cosine_sim2)"
   ]
  },
  {
   "cell_type": "markdown",
   "id": "eccecafb",
   "metadata": {},
   "source": [
    "### 어떻게 비슷했는지 확인\n",
    "#### 오이무침[4]과 깍두기[29],배추겉절이[344]"
   ]
  },
  {
   "cell_type": "code",
   "execution_count": 102,
   "id": "b4b01797",
   "metadata": {},
   "outputs": [
    {
     "data": {
      "text/html": [
       "<div>\n",
       "<style scoped>\n",
       "    .dataframe tbody tr th:only-of-type {\n",
       "        vertical-align: middle;\n",
       "    }\n",
       "\n",
       "    .dataframe tbody tr th {\n",
       "        vertical-align: top;\n",
       "    }\n",
       "\n",
       "    .dataframe thead th {\n",
       "        text-align: right;\n",
       "    }\n",
       "</style>\n",
       "<table border=\"1\" class=\"dataframe\">\n",
       "  <thead>\n",
       "    <tr style=\"text-align: right;\">\n",
       "      <th></th>\n",
       "      <th>name</th>\n",
       "      <th>bow</th>\n",
       "    </tr>\n",
       "  </thead>\n",
       "  <tbody>\n",
       "    <tr>\n",
       "      <th>4</th>\n",
       "      <td>오이무침</td>\n",
       "      <td>무침 일상 채소류 아무나</td>\n",
       "    </tr>\n",
       "    <tr>\n",
       "      <th>29</th>\n",
       "      <td>깍두기</td>\n",
       "      <td>무침 일상 채소류 아무나</td>\n",
       "    </tr>\n",
       "    <tr>\n",
       "      <th>344</th>\n",
       "      <td>배추겉절이</td>\n",
       "      <td>무침 일상 채소류 아무나</td>\n",
       "    </tr>\n",
       "  </tbody>\n",
       "</table>\n",
       "</div>"
      ],
      "text/plain": [
       "      name            bow\n",
       "4     오이무침  무침 일상 채소류 아무나\n",
       "29     깍두기  무침 일상 채소류 아무나\n",
       "344  배추겉절이  무침 일상 채소류 아무나"
      ]
     },
     "execution_count": 102,
     "metadata": {},
     "output_type": "execute_result"
    }
   ],
   "source": [
    "df3[['name','bow']].iloc[['4','29','344']]"
   ]
  },
  {
   "cell_type": "markdown",
   "id": "495a44e1",
   "metadata": {},
   "source": [
    "#### 콘치즈[6]와 쏘야볶음[624],당면떡볶이[65]"
   ]
  },
  {
   "cell_type": "code",
   "execution_count": 103,
   "id": "9d7c2533",
   "metadata": {},
   "outputs": [
    {
     "data": {
      "text/html": [
       "<div>\n",
       "<style scoped>\n",
       "    .dataframe tbody tr th:only-of-type {\n",
       "        vertical-align: middle;\n",
       "    }\n",
       "\n",
       "    .dataframe tbody tr th {\n",
       "        vertical-align: top;\n",
       "    }\n",
       "\n",
       "    .dataframe thead th {\n",
       "        text-align: right;\n",
       "    }\n",
       "</style>\n",
       "<table border=\"1\" class=\"dataframe\">\n",
       "  <thead>\n",
       "    <tr style=\"text-align: right;\">\n",
       "      <th></th>\n",
       "      <th>name</th>\n",
       "      <th>bow</th>\n",
       "    </tr>\n",
       "  </thead>\n",
       "  <tbody>\n",
       "    <tr>\n",
       "      <th>6</th>\n",
       "      <td>콘치즈</td>\n",
       "      <td>볶음 술안주 가공식품류 아무나</td>\n",
       "    </tr>\n",
       "    <tr>\n",
       "      <th>624</th>\n",
       "      <td>쏘야볶음</td>\n",
       "      <td>볶음 술안주 가공식품류 아무나</td>\n",
       "    </tr>\n",
       "    <tr>\n",
       "      <th>65</th>\n",
       "      <td>당면떡볶이</td>\n",
       "      <td>볶음 간식 가공식품류 아무나</td>\n",
       "    </tr>\n",
       "  </tbody>\n",
       "</table>\n",
       "</div>"
      ],
      "text/plain": [
       "      name               bow\n",
       "6      콘치즈  볶음 술안주 가공식품류 아무나\n",
       "624   쏘야볶음  볶음 술안주 가공식품류 아무나\n",
       "65   당면떡볶이   볶음 간식 가공식품류 아무나"
      ]
     },
     "execution_count": 103,
     "metadata": {},
     "output_type": "execute_result"
    }
   ],
   "source": [
    "df3[['name','bow']].iloc[['6','624','65']]"
   ]
  },
  {
   "cell_type": "markdown",
   "id": "c8add898",
   "metadata": {},
   "source": [
    "#### 스팸동[27]과 참치맛나니[188],어묵볶음[81]"
   ]
  },
  {
   "cell_type": "code",
   "execution_count": 104,
   "id": "91073e28",
   "metadata": {},
   "outputs": [
    {
     "data": {
      "text/html": [
       "<div>\n",
       "<style scoped>\n",
       "    .dataframe tbody tr th:only-of-type {\n",
       "        vertical-align: middle;\n",
       "    }\n",
       "\n",
       "    .dataframe tbody tr th {\n",
       "        vertical-align: top;\n",
       "    }\n",
       "\n",
       "    .dataframe thead th {\n",
       "        text-align: right;\n",
       "    }\n",
       "</style>\n",
       "<table border=\"1\" class=\"dataframe\">\n",
       "  <thead>\n",
       "    <tr style=\"text-align: right;\">\n",
       "      <th></th>\n",
       "      <th>name</th>\n",
       "      <th>bow</th>\n",
       "    </tr>\n",
       "  </thead>\n",
       "  <tbody>\n",
       "    <tr>\n",
       "      <th>27</th>\n",
       "      <td>스팸동</td>\n",
       "      <td>조림 일상 가공식품류 아무나</td>\n",
       "    </tr>\n",
       "    <tr>\n",
       "      <th>188</th>\n",
       "      <td>참치맛나니</td>\n",
       "      <td>조림 일상 가공식품류 아무나</td>\n",
       "    </tr>\n",
       "    <tr>\n",
       "      <th>81</th>\n",
       "      <td>어묵볶음</td>\n",
       "      <td>볶음 일상 가공식품류 아무나</td>\n",
       "    </tr>\n",
       "  </tbody>\n",
       "</table>\n",
       "</div>"
      ],
      "text/plain": [
       "      name              bow\n",
       "27     스팸동  조림 일상 가공식품류 아무나\n",
       "188  참치맛나니  조림 일상 가공식품류 아무나\n",
       "81    어묵볶음  볶음 일상 가공식품류 아무나"
      ]
     },
     "execution_count": 104,
     "metadata": {},
     "output_type": "execute_result"
    }
   ],
   "source": [
    "df3[['name','bow']].iloc[['27','188','81']]"
   ]
  },
  {
   "cell_type": "markdown",
   "id": "31df43e6",
   "metadata": {},
   "source": [
    "### 목적(purpo)에 따라 추천순이 높은 메뉴 10개 확인"
   ]
  },
  {
   "cell_type": "code",
   "execution_count": 105,
   "id": "f01c1306",
   "metadata": {},
   "outputs": [
    {
     "data": {
      "text/plain": [
       "일상      1920\n",
       "간식       652\n",
       "손님접대     295\n",
       "초스피드     283\n",
       "다이어트     206\n",
       "술안주      205\n",
       "도시락      178\n",
       "영양식      115\n",
       "기타        37\n",
       "명절        37\n",
       "야식        33\n",
       "해장        25\n",
       "이유식       16\n",
       "Name: purpo, dtype: int64"
      ]
     },
     "execution_count": 105,
     "metadata": {},
     "output_type": "execute_result"
    }
   ],
   "source": [
    "df3[\"purpo\"].value_counts()"
   ]
  },
  {
   "cell_type": "markdown",
   "id": "5d9c95b4",
   "metadata": {},
   "source": [
    "#### purpo : 일상/간식/손님접대/초스피드/다이어트/술안주/도시락/영양식/명절/야식/이유식/해장/기타"
   ]
  },
  {
   "cell_type": "code",
   "execution_count": 106,
   "id": "71a2075a",
   "metadata": {
    "scrolled": true
   },
   "outputs": [
    {
     "data": {
      "text/html": [
       "<div>\n",
       "<style scoped>\n",
       "    .dataframe tbody tr th:only-of-type {\n",
       "        vertical-align: middle;\n",
       "    }\n",
       "\n",
       "    .dataframe tbody tr th {\n",
       "        vertical-align: top;\n",
       "    }\n",
       "\n",
       "    .dataframe thead th {\n",
       "        text-align: right;\n",
       "    }\n",
       "</style>\n",
       "<table border=\"1\" class=\"dataframe\">\n",
       "  <thead>\n",
       "    <tr style=\"text-align: right;\">\n",
       "      <th></th>\n",
       "      <th>name</th>\n",
       "      <th>view</th>\n",
       "      <th>recomm</th>\n",
       "      <th>cook_m</th>\n",
       "      <th>purpo</th>\n",
       "      <th>kinds</th>\n",
       "      <th>ingred</th>\n",
       "      <th>level</th>\n",
       "      <th>bow</th>\n",
       "    </tr>\n",
       "  </thead>\n",
       "  <tbody>\n",
       "    <tr>\n",
       "      <th>1</th>\n",
       "      <td>차돌박이숙주볶음</td>\n",
       "      <td>649057</td>\n",
       "      <td>2021</td>\n",
       "      <td>볶음</td>\n",
       "      <td>술안주</td>\n",
       "      <td>소고기</td>\n",
       "      <td>차돌박이   숙주     쪽파      간   굴소스   고추기름   다진마...</td>\n",
       "      <td>아무나</td>\n",
       "      <td>볶음 술안주 소고기 아무나</td>\n",
       "    </tr>\n",
       "    <tr>\n",
       "      <th>6</th>\n",
       "      <td>콘치즈</td>\n",
       "      <td>341718</td>\n",
       "      <td>1283</td>\n",
       "      <td>볶음</td>\n",
       "      <td>술안주</td>\n",
       "      <td>가공식품류</td>\n",
       "      <td>옥수수조림    버터   마요네즈     피자치즈   파슬리</td>\n",
       "      <td>아무나</td>\n",
       "      <td>볶음 술안주 가공식품류 아무나</td>\n",
       "    </tr>\n",
       "    <tr>\n",
       "      <th>15</th>\n",
       "      <td>제육볶음</td>\n",
       "      <td>976200</td>\n",
       "      <td>915</td>\n",
       "      <td>볶음</td>\n",
       "      <td>술안주</td>\n",
       "      <td>돼지고기</td>\n",
       "      <td>돼지고기   양파   청양고추   대파 뿌리    설탕   고추   간   고...</td>\n",
       "      <td>아무나</td>\n",
       "      <td>볶음 술안주 돼지고기 아무나</td>\n",
       "    </tr>\n",
       "  </tbody>\n",
       "</table>\n",
       "</div>"
      ],
      "text/plain": [
       "        name    view  recomm cook_m purpo  kinds  \\\n",
       "1   차돌박이숙주볶음  649057    2021     볶음   술안주    소고기   \n",
       "6        콘치즈  341718    1283     볶음   술안주  가공식품류   \n",
       "15      제육볶음  976200     915     볶음   술안주   돼지고기   \n",
       "\n",
       "                                               ingred level               bow  \n",
       "1       차돌박이   숙주     쪽파      간   굴소스   고추기름   다진마...   아무나    볶음 술안주 소고기 아무나  \n",
       "6                  옥수수조림    버터   마요네즈     피자치즈   파슬리    아무나  볶음 술안주 가공식품류 아무나  \n",
       "15     돼지고기   양파   청양고추   대파 뿌리    설탕   고추   간   고...   아무나   볶음 술안주 돼지고기 아무나  "
      ]
     },
     "execution_count": 106,
     "metadata": {},
     "output_type": "execute_result"
    }
   ],
   "source": [
    "df3[df3[\"purpo\"] == \"술안주\"].head(3)"
   ]
  },
  {
   "cell_type": "code",
   "execution_count": 107,
   "id": "2918e680",
   "metadata": {},
   "outputs": [],
   "source": [
    "def get_purpo(purpo) :\n",
    "    menu = df3[df3[\"purpo\"] == purpo]\n",
    "    menu = menu[0:9]\n",
    "    return menu[[\"name\",\"recomm\",\"ingred\"]]"
   ]
  },
  {
   "cell_type": "code",
   "execution_count": 108,
   "id": "a5e78682",
   "metadata": {},
   "outputs": [
    {
     "data": {
      "text/html": [
       "<div>\n",
       "<style scoped>\n",
       "    .dataframe tbody tr th:only-of-type {\n",
       "        vertical-align: middle;\n",
       "    }\n",
       "\n",
       "    .dataframe tbody tr th {\n",
       "        vertical-align: top;\n",
       "    }\n",
       "\n",
       "    .dataframe thead th {\n",
       "        text-align: right;\n",
       "    }\n",
       "</style>\n",
       "<table border=\"1\" class=\"dataframe\">\n",
       "  <thead>\n",
       "    <tr style=\"text-align: right;\">\n",
       "      <th></th>\n",
       "      <th>name</th>\n",
       "      <th>recomm</th>\n",
       "      <th>ingred</th>\n",
       "    </tr>\n",
       "  </thead>\n",
       "  <tbody>\n",
       "    <tr>\n",
       "      <th>1</th>\n",
       "      <td>차돌박이숙주볶음</td>\n",
       "      <td>2021</td>\n",
       "      <td>차돌박이   숙주     쪽파      간   굴소스   고추기름   다진마...</td>\n",
       "    </tr>\n",
       "    <tr>\n",
       "      <th>6</th>\n",
       "      <td>콘치즈</td>\n",
       "      <td>1283</td>\n",
       "      <td>옥수수조림    버터   마요네즈     피자치즈   파슬리</td>\n",
       "    </tr>\n",
       "    <tr>\n",
       "      <th>15</th>\n",
       "      <td>제육볶음</td>\n",
       "      <td>915</td>\n",
       "      <td>돼지고기   양파   청양고추   대파 뿌리    설탕   고추   간   고...</td>\n",
       "    </tr>\n",
       "    <tr>\n",
       "      <th>24</th>\n",
       "      <td>김치부침개</td>\n",
       "      <td>736</td>\n",
       "      <td>김치   부침가루 종이  물   청양고추   참치   식용유</td>\n",
       "    </tr>\n",
       "    <tr>\n",
       "      <th>64</th>\n",
       "      <td>골뱅이마늘볶음</td>\n",
       "      <td>482</td>\n",
       "      <td>골뱅이 조림   마늘   올리브유   버터   청양고추   후추      파마...</td>\n",
       "    </tr>\n",
       "    <tr>\n",
       "      <th>82</th>\n",
       "      <td>밥피자</td>\n",
       "      <td>399</td>\n",
       "      <td>밥   달걀   소금   피자치즈   양파    소세지   피망    옥수수 ...</td>\n",
       "    </tr>\n",
       "    <tr>\n",
       "      <th>92</th>\n",
       "      <td>베이컨치즈떡말이</td>\n",
       "      <td>364</td>\n",
       "      <td>베이컨 팩  떡볶이떡   스트링치즈     후추     스위트 칠리소스</td>\n",
       "    </tr>\n",
       "    <tr>\n",
       "      <th>93</th>\n",
       "      <td>소불고기</td>\n",
       "      <td>355</td>\n",
       "      <td>소고기 불고기감   새송이버섯   양송이버섯   팽이버섯   파대   고추냉이...</td>\n",
       "    </tr>\n",
       "    <tr>\n",
       "      <th>104</th>\n",
       "      <td>골뱅이무침</td>\n",
       "      <td>334</td>\n",
       "      <td>골뱅이  대파 대  양파    오이  당근  파프리카    고춧가루   고추 ...</td>\n",
       "    </tr>\n",
       "  </tbody>\n",
       "</table>\n",
       "</div>"
      ],
      "text/plain": [
       "         name  recomm                                             ingred\n",
       "1    차돌박이숙주볶음    2021      차돌박이   숙주     쪽파      간   굴소스   고추기름   다진마...\n",
       "6         콘치즈    1283                 옥수수조림    버터   마요네즈     피자치즈   파슬리 \n",
       "15       제육볶음     915     돼지고기   양파   청양고추   대파 뿌리    설탕   고추   간   고...\n",
       "24      김치부침개     736                 김치   부침가루 종이  물   청양고추   참치   식용유 \n",
       "64    골뱅이마늘볶음     482     골뱅이 조림   마늘   올리브유   버터   청양고추   후추      파마...\n",
       "82        밥피자     399     밥   달걀   소금   피자치즈   양파    소세지   피망    옥수수 ...\n",
       "92   베이컨치즈떡말이     364           베이컨 팩  떡볶이떡   스트링치즈     후추     스위트 칠리소스 \n",
       "93       소불고기     355     소고기 불고기감   새송이버섯   양송이버섯   팽이버섯   파대   고추냉이...\n",
       "104     골뱅이무침     334     골뱅이  대파 대  양파    오이  당근  파프리카    고춧가루   고추 ..."
      ]
     },
     "execution_count": 108,
     "metadata": {},
     "output_type": "execute_result"
    }
   ],
   "source": [
    "get_purpo('술안주')"
   ]
  },
  {
   "cell_type": "code",
   "execution_count": 109,
   "id": "56f66834",
   "metadata": {},
   "outputs": [
    {
     "data": {
      "text/html": [
       "<div>\n",
       "<style scoped>\n",
       "    .dataframe tbody tr th:only-of-type {\n",
       "        vertical-align: middle;\n",
       "    }\n",
       "\n",
       "    .dataframe tbody tr th {\n",
       "        vertical-align: top;\n",
       "    }\n",
       "\n",
       "    .dataframe thead th {\n",
       "        text-align: right;\n",
       "    }\n",
       "</style>\n",
       "<table border=\"1\" class=\"dataframe\">\n",
       "  <thead>\n",
       "    <tr style=\"text-align: right;\">\n",
       "      <th></th>\n",
       "      <th>name</th>\n",
       "      <th>recomm</th>\n",
       "      <th>ingred</th>\n",
       "    </tr>\n",
       "  </thead>\n",
       "  <tbody>\n",
       "    <tr>\n",
       "      <th>37</th>\n",
       "      <td>오니기리</td>\n",
       "      <td>639</td>\n",
       "      <td>밥   참치   마요네즈   볶은 김치   후추   밥 밑간   참기름   맛...</td>\n",
       "    </tr>\n",
       "    <tr>\n",
       "      <th>42</th>\n",
       "      <td>깻잎쌈밥</td>\n",
       "      <td>602</td>\n",
       "      <td>깻잎   밥   소금   참기름      참치    된   고추   참기름  ...</td>\n",
       "    </tr>\n",
       "    <tr>\n",
       "      <th>132</th>\n",
       "      <td>주먹밥</td>\n",
       "      <td>286</td>\n",
       "      <td>다진 호박   다진 빨강파프리카   다진 노랑파프리카   다진쇠고기   둥근햄...</td>\n",
       "    </tr>\n",
       "    <tr>\n",
       "      <th>137</th>\n",
       "      <td>꽃주먹밥</td>\n",
       "      <td>276</td>\n",
       "      <td>주먹 밥   밥   비엔나 소시지   당근   피망    호박   대파   건더기...</td>\n",
       "    </tr>\n",
       "    <tr>\n",
       "      <th>143</th>\n",
       "      <td>몬테크리스토</td>\n",
       "      <td>273</td>\n",
       "      <td>식빵   슬라이스치즈   슬라이스햄   달걀 알    머스타드  딸기쨈</td>\n",
       "    </tr>\n",
       "    <tr>\n",
       "      <th>147</th>\n",
       "      <td>크래미유부초밥</td>\n",
       "      <td>271</td>\n",
       "      <td>유부 초밥세트 분량  크래미   오이    허니머스터드    마요네즈</td>\n",
       "    </tr>\n",
       "    <tr>\n",
       "      <th>181</th>\n",
       "      <td>달걀샌드위치</td>\n",
       "      <td>231</td>\n",
       "      <td>달걀   식빵   체다치즈   슬라이스햄     홀그레인머스터드   마요네즈 ...</td>\n",
       "    </tr>\n",
       "    <tr>\n",
       "      <th>189</th>\n",
       "      <td>베이컨치즈말이</td>\n",
       "      <td>225</td>\n",
       "      <td>밥  베이컨  파프리카  양파  당근  어른치즈  파슬리가루    깨소금  참기름</td>\n",
       "    </tr>\n",
       "    <tr>\n",
       "      <th>190</th>\n",
       "      <td>소고기주먹밥</td>\n",
       "      <td>224</td>\n",
       "      <td>밥   다진 소고기   애호박    당근      간   설탕    후추   ...</td>\n",
       "    </tr>\n",
       "  </tbody>\n",
       "</table>\n",
       "</div>"
      ],
      "text/plain": [
       "        name  recomm                                             ingred\n",
       "37      오니기리     639     밥   참치   마요네즈   볶은 김치   후추   밥 밑간   참기름   맛...\n",
       "42      깻잎쌈밥     602     깻잎   밥   소금   참기름      참치    된   고추   참기름  ...\n",
       "132      주먹밥     286     다진 호박   다진 빨강파프리카   다진 노랑파프리카   다진쇠고기   둥근햄...\n",
       "137     꽃주먹밥     276   주먹 밥   밥   비엔나 소시지   당근   피망    호박   대파   건더기...\n",
       "143   몬테크리스토     273            식빵   슬라이스치즈   슬라이스햄   달걀 알    머스타드  딸기쨈\n",
       "147  크래미유부초밥     271           유부 초밥세트 분량  크래미   오이    허니머스터드    마요네즈  \n",
       "181   달걀샌드위치     231     달걀   식빵   체다치즈   슬라이스햄     홀그레인머스터드   마요네즈 ...\n",
       "189  베이컨치즈말이     225      밥  베이컨  파프리카  양파  당근  어른치즈  파슬리가루    깨소금  참기름\n",
       "190   소고기주먹밥     224     밥   다진 소고기   애호박    당근      간   설탕    후추   ..."
      ]
     },
     "execution_count": 109,
     "metadata": {},
     "output_type": "execute_result"
    }
   ],
   "source": [
    "get_purpo('도시락')"
   ]
  },
  {
   "cell_type": "code",
   "execution_count": 110,
   "id": "b3e7486c",
   "metadata": {},
   "outputs": [],
   "source": [
    "def get_purpo2(purpo) :\n",
    "    menu = df3[df3[\"purpo\"] != purpo]\n",
    "    menu = menu[0:9]\n",
    "    return menu[[\"name\",\"recomm\",\"ingred\"]]"
   ]
  },
  {
   "cell_type": "code",
   "execution_count": 111,
   "id": "5104e888",
   "metadata": {},
   "outputs": [
    {
     "data": {
      "text/html": [
       "<div>\n",
       "<style scoped>\n",
       "    .dataframe tbody tr th:only-of-type {\n",
       "        vertical-align: middle;\n",
       "    }\n",
       "\n",
       "    .dataframe tbody tr th {\n",
       "        vertical-align: top;\n",
       "    }\n",
       "\n",
       "    .dataframe thead th {\n",
       "        text-align: right;\n",
       "    }\n",
       "</style>\n",
       "<table border=\"1\" class=\"dataframe\">\n",
       "  <thead>\n",
       "    <tr style=\"text-align: right;\">\n",
       "      <th></th>\n",
       "      <th>name</th>\n",
       "      <th>recomm</th>\n",
       "      <th>ingred</th>\n",
       "    </tr>\n",
       "  </thead>\n",
       "  <tbody>\n",
       "    <tr>\n",
       "      <th>0</th>\n",
       "      <td>뚝배기두부조림</td>\n",
       "      <td>2270</td>\n",
       "      <td>두부   양파   달걀      다진마늘   청양고추    고춧가루   설탕 ...</td>\n",
       "    </tr>\n",
       "    <tr>\n",
       "      <th>2</th>\n",
       "      <td>달걀밥</td>\n",
       "      <td>1763</td>\n",
       "      <td>밥    달걀   물   햄  스팸      다진 대파   피자치즈    슬...</td>\n",
       "    </tr>\n",
       "    <tr>\n",
       "      <th>3</th>\n",
       "      <td>비빔국수</td>\n",
       "      <td>1730</td>\n",
       "      <td>소면     다진 마늘     맛    고추    진간    고춧가루    설...</td>\n",
       "    </tr>\n",
       "    <tr>\n",
       "      <th>4</th>\n",
       "      <td>오이무침</td>\n",
       "      <td>1499</td>\n",
       "      <td>오이무침   오이   소금    까나리액젓   설탕    마늘   쪽파 조금  깨...</td>\n",
       "    </tr>\n",
       "    <tr>\n",
       "      <th>5</th>\n",
       "      <td>김치볶음밥</td>\n",
       "      <td>1324</td>\n",
       "      <td>밥   다진 양파   다진 김치    다진 햄     설탕    김칫국물   ...</td>\n",
       "    </tr>\n",
       "    <tr>\n",
       "      <th>7</th>\n",
       "      <td>마파두부</td>\n",
       "      <td>1264</td>\n",
       "      <td>두부   대파 줄기  청양고추   양파    돼지고기 간것     고추가루  ...</td>\n",
       "    </tr>\n",
       "    <tr>\n",
       "      <th>8</th>\n",
       "      <td>부대찌개</td>\n",
       "      <td>1168</td>\n",
       "      <td>길쭉이 햄 줄  조림 햄 사이즈    돈다짐육  베이컨이나 대패삼겹살  줌  ...</td>\n",
       "    </tr>\n",
       "    <tr>\n",
       "      <th>9</th>\n",
       "      <td>매운닭볶음탕</td>\n",
       "      <td>1105</td>\n",
       "      <td>닭고기   마리  감자   당근    양파    대파 대  물     고추  ...</td>\n",
       "    </tr>\n",
       "    <tr>\n",
       "      <th>10</th>\n",
       "      <td>감자조림</td>\n",
       "      <td>1102</td>\n",
       "      <td>감자     물     간   설탕   물엿   다진 마늘    참깨    참기름</td>\n",
       "    </tr>\n",
       "  </tbody>\n",
       "</table>\n",
       "</div>"
      ],
      "text/plain": [
       "       name  recomm                                             ingred\n",
       "0   뚝배기두부조림    2270     두부   양파   달걀      다진마늘   청양고추    고춧가루   설탕 ...\n",
       "2       달걀밥    1763      밥    달걀   물   햄  스팸      다진 대파   피자치즈    슬...\n",
       "3      비빔국수    1730     소면     다진 마늘     맛    고추    진간    고춧가루    설...\n",
       "4      오이무침    1499   오이무침   오이   소금    까나리액젓   설탕    마늘   쪽파 조금  깨...\n",
       "5     김치볶음밥    1324     밥   다진 양파   다진 김치    다진 햄     설탕    김칫국물   ...\n",
       "7      마파두부    1264     두부   대파 줄기  청양고추   양파    돼지고기 간것     고추가루  ...\n",
       "8      부대찌개    1168     길쭉이 햄 줄  조림 햄 사이즈    돈다짐육  베이컨이나 대패삼겹살  줌  ...\n",
       "9    매운닭볶음탕    1105     닭고기   마리  감자   당근    양파    대파 대  물     고추  ...\n",
       "10     감자조림    1102     감자     물     간   설탕   물엿   다진 마늘    참깨    참기름 "
      ]
     },
     "execution_count": 111,
     "metadata": {},
     "output_type": "execute_result"
    }
   ],
   "source": [
    "get_purpo2('술안주')"
   ]
  },
  {
   "cell_type": "code",
   "execution_count": null,
   "id": "96112b41",
   "metadata": {},
   "outputs": [],
   "source": []
  }
 ],
 "metadata": {
  "kernelspec": {
   "display_name": "Python 3 (ipykernel)",
   "language": "python",
   "name": "python3"
  },
  "language_info": {
   "codemirror_mode": {
    "name": "ipython",
    "version": 3
   },
   "file_extension": ".py",
   "mimetype": "text/x-python",
   "name": "python",
   "nbconvert_exporter": "python",
   "pygments_lexer": "ipython3",
   "version": "3.9.7"
  }
 },
 "nbformat": 4,
 "nbformat_minor": 5
}
